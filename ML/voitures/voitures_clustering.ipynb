{
 "cells": [
  {
   "cell_type": "code",
   "execution_count": 2,
   "metadata": {},
   "outputs": [],
   "source": [
    "import pandas\n",
    "from sklearn.cluster import KMeans\n",
    "from sklearn import preprocessing\n",
    "from sklearn.linear_model import LogisticRegression\n",
    "import numpy as np\n",
    "import matplotlib.pyplot as plt"
   ]
  },
  {
   "cell_type": "code",
   "execution_count": 1,
   "metadata": {
    "collapsed": true
   },
   "outputs": [
    {
     "output_type": "error",
     "ename": "NameError",
     "evalue": "name 'pandas' is not defined",
     "traceback": [
      "\u001b[0;31m---------------------------------------------------------------------------\u001b[0m",
      "\u001b[0;31mNameError\u001b[0m                                 Traceback (most recent call last)",
      "\u001b[0;32m<ipython-input-1-b45d4b906a6b>\u001b[0m in \u001b[0;36m<module>\u001b[0;34m\u001b[0m\n\u001b[0;32m----> 1\u001b[0;31m \u001b[0mdata\u001b[0m \u001b[0;34m=\u001b[0m \u001b[0mpandas\u001b[0m\u001b[0;34m.\u001b[0m\u001b[0mread_excel\u001b[0m\u001b[0;34m(\u001b[0m\u001b[0;34m\"voitures_clustering.ipynb\"\u001b[0m\u001b[0;34m)\u001b[0m\u001b[0;34m\u001b[0m\u001b[0;34m\u001b[0m\u001b[0m\n\u001b[0m\u001b[1;32m      2\u001b[0m \u001b[0mdata\u001b[0m\u001b[0;34m\u001b[0m\u001b[0;34m\u001b[0m\u001b[0m\n",
      "\u001b[0;31mNameError\u001b[0m: name 'pandas' is not defined"
     ]
    }
   ],
   "source": [
    "data = pandas.read_excel(\"voitures_clustering.ipynb\")\n",
    "data"
   ]
  },
  {
   "cell_type": "code",
   "execution_count": 3,
   "metadata": {},
   "outputs": [
    {
     "data": {
      "image/png": "[encoded data removed]",
      "text/plain": [
       "<Figure size 432x288 with 9 Axes>"
      ]
     },
     "metadata": {
      "needs_background": "light"
     },
     "output_type": "display_data"
    }
   ],
   "source": [
    "data.hist(bins=10);"
   ]
  },
  {
   "cell_type": "code",
   "execution_count": 4,
   "metadata": {},
   "outputs": [],
   "source": [
    "data_scaled = preprocessing.scale(data.iloc[:, 1:])  # standardisation"
   ]
  },
  {
   "cell_type": "code",
   "execution_count": 11,
   "metadata": {},
   "outputs": [
    {
     "data": {
      "image/png": "[encoded data removed]",
      "text/plain": [
       "<Figure size 432x288 with 1 Axes>"
      ]
     },
     "metadata": {
      "needs_background": "light"
     },
     "output_type": "display_data"
    }
   ],
   "source": [
    "X, Y = [], []\n",
    "for i in range(2, 10):\n",
    "    km = KMeans(n_clusters=i).fit(data_scaled)\n",
    "    Y.append(km.inertia_)\n",
    "    X.append(i)\n",
    "plt.plot(X, Y)\n",
    "plt.show()"
   ]
  },
  {
   "cell_type": "code",
   "execution_count": 14,
   "metadata": {},
   "outputs": [],
   "source": [
    "km = KMeans(n_clusters=4).fit(data_scaled)"
   ]
  },
  {
   "cell_type": "code",
   "execution_count": 18,
   "metadata": {},
   "outputs": [
    {
     "name": "stdout",
     "output_type": "stream",
     "text": [
      "               Moyenne    Coeffs\n",
      "puissance    68.285714 -0.071782\n",
      "cylindree  1212.428571 -0.018595\n",
      "vitesse     161.142857  0.052172\n",
      "longueur    369.571429  0.188986\n",
      "largeur     164.428571  0.079396\n",
      "hauteur     146.285714  0.041197\n",
      "poids       952.142857 -0.038762\n",
      "C02         130.000000 -0.186173\n",
      "               Moyenne    Coeffs\n",
      "puissance   145.090909 -0.435008\n",
      "cylindree  1950.454545 -0.019804\n",
      "vitesse     210.909091  0.710963\n",
      "longueur    454.363636  0.262498\n",
      "largeur     180.000000 -0.482883\n",
      "hauteur     145.727273 -0.859915\n",
      "poids      1411.545455  0.045929\n",
      "C02         180.818182 -0.074443\n",
      "           Moyenne    Coeffs\n",
      "puissance    100.6 -0.368794\n",
      "cylindree   1765.4  0.023960\n",
      "vitesse      179.2 -0.007900\n",
      "longueur     391.6 -0.514661\n",
      "largeur      172.4  0.203545\n",
      "hauteur      159.6  0.417526\n",
      "poids       1236.6  0.073590\n",
      "C02          149.2  0.099268\n",
      "               Moyenne    Coeffs\n",
      "puissance   221.857143  0.183798\n",
      "cylindree  2619.142857  0.019029\n",
      "vitesse     234.000000 -0.084655\n",
      "longueur    464.000000 -0.051321\n",
      "largeur     179.000000 -0.087319\n",
      "hauteur     145.000000 -0.120966\n",
      "poids      1562.428571 -0.024446\n",
      "C02         240.142857  0.164160\n"
     ]
    },
    {
     "name": "stderr",
     "output_type": "stream",
     "text": [
      "/home/qfortier/.cache/pypoetry/virtualenvs/notebook-Otwu4MGz-py3.8/lib/python3.8/site-packages/numpy/core/fromnumeric.py:3370: FutureWarning: Dropping of nuisance columns in DataFrame reductions (with 'numeric_only=None') is deprecated; in a future version this will raise TypeError.  Select only valid columns before calling the reduction.\n",
      "  return mean(axis=axis, dtype=dtype, out=out, **kwargs)\n",
      "/home/qfortier/.cache/pypoetry/virtualenvs/notebook-Otwu4MGz-py3.8/lib/python3.8/site-packages/numpy/core/fromnumeric.py:3370: FutureWarning: Dropping of nuisance columns in DataFrame reductions (with 'numeric_only=None') is deprecated; in a future version this will raise TypeError.  Select only valid columns before calling the reduction.\n",
      "  return mean(axis=axis, dtype=dtype, out=out, **kwargs)\n",
      "/home/qfortier/.cache/pypoetry/virtualenvs/notebook-Otwu4MGz-py3.8/lib/python3.8/site-packages/numpy/core/fromnumeric.py:3370: FutureWarning: Dropping of nuisance columns in DataFrame reductions (with 'numeric_only=None') is deprecated; in a future version this will raise TypeError.  Select only valid columns before calling the reduction.\n",
      "  return mean(axis=axis, dtype=dtype, out=out, **kwargs)\n",
      "/home/qfortier/.cache/pypoetry/virtualenvs/notebook-Otwu4MGz-py3.8/lib/python3.8/site-packages/numpy/core/fromnumeric.py:3370: FutureWarning: Dropping of nuisance columns in DataFrame reductions (with 'numeric_only=None') is deprecated; in a future version this will raise TypeError.  Select only valid columns before calling the reduction.\n",
      "  return mean(axis=axis, dtype=dtype, out=out, **kwargs)\n"
     ]
    }
   ],
   "source": [
    "dt = data.iloc[:, 1:]\n",
    "\n",
    "for i in range(km.n_clusters):\n",
    "    t = np.where(km.labels_ == i)[0]\n",
    "    y = np.zeros((len(data.index)))\n",
    "    y[t] = 1\n",
    "    lr = LogisticRegression(max_iter = 4000).fit(dt, y)\n",
    "    pd = pandas.DataFrame(np.array([np.mean(data.loc[t]), lr.coef_[0]]).T, index = dt.columns, columns = [\"Moyenne\", \"Coeffs\"])\n",
    "    print(pd)"
   ]
  }
 ],
 "metadata": {
  "interpreter": {
   "hash": "be9ec4318ce92b231f77995c536a75327776825c4bd4f96a9a5021814809bf6e"
  },
  "kernelspec": {
   "name": "python3",
   "display_name": "Python 3.8.10 64-bit ('notebook-Otwu4MGz-py3.8': venv)"
  },
  "language_info": {
   "codemirror_mode": {
    "name": "ipython",
    "version": 3
   },
   "file_extension": ".py",
   "mimetype": "text/x-python",
   "name": "python",
   "nbconvert_exporter": "python",
   "pygments_lexer": "ipython3",
   "version": "3.8.10"
  }
 },
 "nbformat": 4,
 "nbformat_minor": 2
}