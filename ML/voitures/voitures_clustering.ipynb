{
 "cells": [
  {
   "cell_type": "code",
   "execution_count": 9,
   "metadata": {},
   "outputs": [],
   "source": [
    "import pandas as pd\n",
    "import numpy as np\n",
    "import matplotlib.pyplot as plt"
   ]
  },
  {
   "source": [
    "# Clustering de voitures\n",
    "\n",
    "Nous souhaitons diviser des voitures en plusieurs groupes. Commençons par regarder les données : "
   ],
   "cell_type": "markdown",
   "metadata": {}
  },
  {
   "cell_type": "code",
   "execution_count": 1,
   "metadata": {
    "collapsed": true
   },
   "outputs": [
    {
     "output_type": "execute_result",
     "data": {
      "text/plain": [
       "       Modele  puissance  cylindree  vitesse  longueur  largeur  hauteur  \\\n",
       "0       PANDA         54       1108      150       354      159      154   \n",
       "1      TWINGO         60       1149      151       344      163      143   \n",
       "2       YARIS         65        998      155       364      166      150   \n",
       "3    CITRONC2         61       1124      158       367      166      147   \n",
       "4       CORSA         70       1248      165       384      165      144   \n",
       "5      FIESTA         68       1399      164       392      168      144   \n",
       "6        CLIO        100       1461      185       382      164      142   \n",
       "7       P1007         75       1360      165       374      169      161   \n",
       "8       MODUS        113       1598      188       380      170      159   \n",
       "9        MUSA        100       1910      179       399      170      169   \n",
       "10       GOLF         75       1968      163       421      176      149   \n",
       "11     MERC_A        140       1991      201       384      177      160   \n",
       "12     AUDIA3        102       1595      185       421      177      143   \n",
       "13   CITRONC4        138       1997      207       426      178      146   \n",
       "14    AVENSIS        115       1995      195       463      176      148   \n",
       "15     VECTRA        150       1910      217       460      180      146   \n",
       "16     PASSAT        150       1781      221       471      175      147   \n",
       "17     LAGUNA        165       1998      218       458      178      143   \n",
       "18   MEGANECC        165       1998      225       436      178      141   \n",
       "19       P407        136       1997      212       468      182      145   \n",
       "20     P307CC        180       1997      225       435      176      143   \n",
       "21  PTCRUISER        223       2429      200       429      171      154   \n",
       "22     MONDEO        145       1999      215       474      194      143   \n",
       "23   MAZDARX8        231       1308      235       443      177      134   \n",
       "24   VELSATIS        150       2188      200       486      186      158   \n",
       "25   CITRONC5        210       2496      230       475      178      148   \n",
       "26       P607        204       2721      230       491      184      145   \n",
       "27     MERC_E        204       3222      243       482      183      146   \n",
       "28   ALFA 156        250       3179      250       443      175      141   \n",
       "29     BMW530        231       2979      250       485      185      147   \n",
       "30   BERLINGO         75       1500      186       450      185      185   \n",
       "\n",
       "    poids  C02  \n",
       "0     860  135  \n",
       "1     840  143  \n",
       "2     880  134  \n",
       "3     932  141  \n",
       "4    1035  127  \n",
       "5    1138  117  \n",
       "6     980  113  \n",
       "7    1181  153  \n",
       "8    1170  163  \n",
       "9    1275  146  \n",
       "10   1217  143  \n",
       "11   1340  141  \n",
       "12   1205  168  \n",
       "13   1381  142  \n",
       "14   1400  155  \n",
       "15   1428  159  \n",
       "16   1360  197  \n",
       "17   1320  196  \n",
       "18   1415  191  \n",
       "19   1415  194  \n",
       "20   1490  210  \n",
       "21   1595  235  \n",
       "22   1378  189  \n",
       "23   1390  284  \n",
       "24   1735  188  \n",
       "25   1589  238  \n",
       "26   1723  223  \n",
       "27   1735  183  \n",
       "28   1410  287  \n",
       "29   1495  231  \n",
       "30   1500  120  "
      ],
      "text/html": "<div>\n<style scoped>\n    .dataframe tbody tr th:only-of-type {\n        vertical-align: middle;\n    }\n\n    .dataframe tbody tr th {\n        vertical-align: top;\n    }\n\n    .dataframe thead th {\n        text-align: right;\n    }\n</style>\n<table border=\"1\" class=\"dataframe\">\n  <thead>\n    <tr style=\"text-align: right;\">\n      <th></th>\n      <th>Modele</th>\n      <th>puissance</th>\n      <th>cylindree</th>\n      <th>vitesse</th>\n      <th>longueur</th>\n      <th>largeur</th>\n      <th>hauteur</th>\n      <th>poids</th>\n      <th>C02</th>\n    </tr>\n  </thead>\n  <tbody>\n    <tr>\n      <th>0</th>\n      <td>PANDA</td>\n      <td>54</td>\n      <td>1108</td>\n      <td>150</td>\n      <td>354</td>\n      <td>159</td>\n      <td>154</td>\n      <td>860</td>\n      <td>135</td>\n    </tr>\n    <tr>\n      <th>1</th>\n      <td>TWINGO</td>\n      <td>60</td>\n      <td>1149</td>\n      <td>151</td>\n      <td>344</td>\n      <td>163</td>\n      <td>143</td>\n      <td>840</td>\n      <td>143</td>\n    </tr>\n    <tr>\n      <th>2</th>\n      <td>YARIS</td>\n      <td>65</td>\n      <td>998</td>\n      <td>155</td>\n      <td>364</td>\n      <td>166</td>\n      <td>150</td>\n      <td>880</td>\n      <td>134</td>\n    </tr>\n    <tr>\n      <th>3</th>\n      <td>CITRONC2</td>\n      <td>61</td>\n      <td>1124</td>\n      <td>158</td>\n      <td>367</td>\n      <td>166</td>\n      <td>147</td>\n      <td>932</td>\n      <td>141</td>\n    </tr>\n    <tr>\n      <th>4</th>\n      <td>CORSA</td>\n      <td>70</td>\n      <td>1248</td>\n      <td>165</td>\n      <td>384</td>\n      <td>165</td>\n      <td>144</td>\n      <td>1035</td>\n      <td>127</td>\n    </tr>\n    <tr>\n      <th>5</th>\n      <td>FIESTA</td>\n      <td>68</td>\n      <td>1399</td>\n      <td>164</td>\n      <td>392</td>\n      <td>168</td>\n      <td>144</td>\n      <td>1138</td>\n      <td>117</td>\n    </tr>\n    <tr>\n      <th>6</th>\n      <td>CLIO</td>\n      <td>100</td>\n      <td>1461</td>\n      <td>185</td>\n      <td>382</td>\n      <td>164</td>\n      <td>142</td>\n      <td>980</td>\n      <td>113</td>\n    </tr>\n    <tr>\n      <th>7</th>\n      <td>P1007</td>\n      <td>75</td>\n      <td>1360</td>\n      <td>165</td>\n      <td>374</td>\n      <td>169</td>\n      <td>161</td>\n      <td>1181</td>\n      <td>153</td>\n    </tr>\n    <tr>\n      <th>8</th>\n      <td>MODUS</td>\n      <td>113</td>\n      <td>1598</td>\n      <td>188</td>\n      <td>380</td>\n      <td>170</td>\n      <td>159</td>\n      <td>1170</td>\n      <td>163</td>\n    </tr>\n    <tr>\n      <th>9</th>\n      <td>MUSA</td>\n      <td>100</td>\n      <td>1910</td>\n      <td>179</td>\n      <td>399</td>\n      <td>170</td>\n      <td>169</td>\n      <td>1275</td>\n      <td>146</td>\n    </tr>\n    <tr>\n      <th>10</th>\n      <td>GOLF</td>\n      <td>75</td>\n      <td>1968</td>\n      <td>163</td>\n      <td>421</td>\n      <td>176</td>\n      <td>149</td>\n      <td>1217</td>\n      <td>143</td>\n    </tr>\n    <tr>\n      <th>11</th>\n      <td>MERC_A</td>\n      <td>140</td>\n      <td>1991</td>\n      <td>201</td>\n      <td>384</td>\n      <td>177</td>\n      <td>160</td>\n      <td>1340</td>\n      <td>141</td>\n    </tr>\n    <tr>\n      <th>12</th>\n      <td>AUDIA3</td>\n      <td>102</td>\n      <td>1595</td>\n      <td>185</td>\n      <td>421</td>\n      <td>177</td>\n      <td>143</td>\n      <td>1205</td>\n      <td>168</td>\n    </tr>\n    <tr>\n      <th>13</th>\n      <td>CITRONC4</td>\n      <td>138</td>\n      <td>1997</td>\n      <td>207</td>\n      <td>426</td>\n      <td>178</td>\n      <td>146</td>\n      <td>1381</td>\n      <td>142</td>\n    </tr>\n    <tr>\n      <th>14</th>\n      <td>AVENSIS</td>\n      <td>115</td>\n      <td>1995</td>\n      <td>195</td>\n      <td>463</td>\n      <td>176</td>\n      <td>148</td>\n      <td>1400</td>\n      <td>155</td>\n    </tr>\n    <tr>\n      <th>15</th>\n      <td>VECTRA</td>\n      <td>150</td>\n      <td>1910</td>\n      <td>217</td>\n      <td>460</td>\n      <td>180</td>\n      <td>146</td>\n      <td>1428</td>\n      <td>159</td>\n    </tr>\n    <tr>\n      <th>16</th>\n      <td>PASSAT</td>\n      <td>150</td>\n      <td>1781</td>\n      <td>221</td>\n      <td>471</td>\n      <td>175</td>\n      <td>147</td>\n      <td>1360</td>\n      <td>197</td>\n    </tr>\n    <tr>\n      <th>17</th>\n      <td>LAGUNA</td>\n      <td>165</td>\n      <td>1998</td>\n      <td>218</td>\n      <td>458</td>\n      <td>178</td>\n      <td>143</td>\n      <td>1320</td>\n      <td>196</td>\n    </tr>\n    <tr>\n      <th>18</th>\n      <td>MEGANECC</td>\n      <td>165</td>\n      <td>1998</td>\n      <td>225</td>\n      <td>436</td>\n      <td>178</td>\n      <td>141</td>\n      <td>1415</td>\n      <td>191</td>\n    </tr>\n    <tr>\n      <th>19</th>\n      <td>P407</td>\n      <td>136</td>\n      <td>1997</td>\n      <td>212</td>\n      <td>468</td>\n      <td>182</td>\n      <td>145</td>\n      <td>1415</td>\n      <td>194</td>\n    </tr>\n    <tr>\n      <th>20</th>\n      <td>P307CC</td>\n      <td>180</td>\n      <td>1997</td>\n      <td>225</td>\n      <td>435</td>\n      <td>176</td>\n      <td>143</td>\n      <td>1490</td>\n      <td>210</td>\n    </tr>\n    <tr>\n      <th>21</th>\n      <td>PTCRUISER</td>\n      <td>223</td>\n      <td>2429</td>\n      <td>200</td>\n      <td>429</td>\n      <td>171</td>\n      <td>154</td>\n      <td>1595</td>\n      <td>235</td>\n    </tr>\n    <tr>\n      <th>22</th>\n      <td>MONDEO</td>\n      <td>145</td>\n      <td>1999</td>\n      <td>215</td>\n      <td>474</td>\n      <td>194</td>\n      <td>143</td>\n      <td>1378</td>\n      <td>189</td>\n    </tr>\n    <tr>\n      <th>23</th>\n      <td>MAZDARX8</td>\n      <td>231</td>\n      <td>1308</td>\n      <td>235</td>\n      <td>443</td>\n      <td>177</td>\n      <td>134</td>\n      <td>1390</td>\n      <td>284</td>\n    </tr>\n    <tr>\n      <th>24</th>\n      <td>VELSATIS</td>\n      <td>150</td>\n      <td>2188</td>\n      <td>200</td>\n      <td>486</td>\n      <td>186</td>\n      <td>158</td>\n      <td>1735</td>\n      <td>188</td>\n    </tr>\n    <tr>\n      <th>25</th>\n      <td>CITRONC5</td>\n      <td>210</td>\n      <td>2496</td>\n      <td>230</td>\n      <td>475</td>\n      <td>178</td>\n      <td>148</td>\n      <td>1589</td>\n      <td>238</td>\n    </tr>\n    <tr>\n      <th>26</th>\n      <td>P607</td>\n      <td>204</td>\n      <td>2721</td>\n      <td>230</td>\n      <td>491</td>\n      <td>184</td>\n      <td>145</td>\n      <td>1723</td>\n      <td>223</td>\n    </tr>\n    <tr>\n      <th>27</th>\n      <td>MERC_E</td>\n      <td>204</td>\n      <td>3222</td>\n      <td>243</td>\n      <td>482</td>\n      <td>183</td>\n      <td>146</td>\n      <td>1735</td>\n      <td>183</td>\n    </tr>\n    <tr>\n      <th>28</th>\n      <td>ALFA 156</td>\n      <td>250</td>\n      <td>3179</td>\n      <td>250</td>\n      <td>443</td>\n      <td>175</td>\n      <td>141</td>\n      <td>1410</td>\n      <td>287</td>\n    </tr>\n    <tr>\n      <th>29</th>\n      <td>BMW530</td>\n      <td>231</td>\n      <td>2979</td>\n      <td>250</td>\n      <td>485</td>\n      <td>185</td>\n      <td>147</td>\n      <td>1495</td>\n      <td>231</td>\n    </tr>\n    <tr>\n      <th>30</th>\n      <td>BERLINGO</td>\n      <td>75</td>\n      <td>1500</td>\n      <td>186</td>\n      <td>450</td>\n      <td>185</td>\n      <td>185</td>\n      <td>1500</td>\n      <td>120</td>\n    </tr>\n  </tbody>\n</table>\n</div>"
     },
     "metadata": {},
     "execution_count": 1
    }
   ],
   "source": [
    "\n",
    "data = pd.read_excel(\"voitures_clustering.xlsx\")\n",
    "data"
   ]
  },
  {
   "source": [
    "L'histogramme de chaque paramètre donne des indications sur sa répartition :"
   ],
   "cell_type": "markdown",
   "metadata": {}
  },
  {
   "cell_type": "code",
   "execution_count": 2,
   "metadata": {
    "collapsed": true
   },
   "outputs": [
    {
     "output_type": "display_data",
     "data": {
      "text/plain": "<Figure size 1440x1440 with 9 Axes>",
      "image/svg+xml": "<?xml version=\"1.0\" encoding=\"utf-8\" standalone=\"no\"?>\n<!DOCTYPE svg PUBLIC \"-//W3C//DTD SVG 1.1//EN\"\n  \"http://www.w3.org/Graphics/SVG/1.1/DTD/svg11.dtd\">\n<svg height=\"1133.39625pt\" version=\"1.1\" viewBox=\"0 0 1143.7625 1133.39625\" width=\"1143.7625pt\" xmlns=\"http://www.w3.org/2000/svg\" xmlns:xlink=\"http://www.w3.org/1999/xlink\">\n <metadata>\n  <rdf:RDF xmlns:cc=\"http://creativecommons.org/ns#\" xmlns:dc=\"http://purl.org/dc/elements/1.1/\" xmlns:rdf=\"http://www.w3.org/1999/02/22-rdf-syntax-ns#\">\n   <cc:Work>\n    <dc:type rdf:resource=\"http://purl.org/dc/dcmitype/StillImage\"/>\n    <dc:date>2021-07-11T18:17:49.699705</dc:date>\n    <dc:format>image/svg+xml</dc:format>\n    <dc:creator>\n     <cc:Agent>\n      <dc:title>Matplotlib v3.4.2, https://matplotlib.org/</dc:title>\n     </cc:Agent>\n    </dc:creator>\n   </cc:Work>\n  </rdf:RDF>\n </metadata>\n <defs>\n  <style type=\"text/css\">*{stroke-linecap:butt;stroke-linejoin:round;}</style>\n </defs>\n <g id=\"figure_1\">\n  <g id=\"patch_1\">\n   <path d=\"M 0 1133.39625 \nL 1143.7625 1133.39625 \nL 1143.7625 0 \nL 0 0 \nz\n\" style=\"fill:none;\"/>\n  </g>\n  <g id=\"axes_1\">\n   <g id=\"patch_2\">\n    <path d=\"M 20.5625 324.318125 \nL 330.5625 324.318125 \nL 330.5625 22.318125 \nL 20.5625 22.318125 \nz\n\" style=\"fill:#ffffff;\"/>\n   </g>\n   <g id=\"patch_3\">\n    <path clip-path=\"url(#p2fcad1458d)\" d=\"M 34.653409 324.318125 \nL 62.835227 324.318125 \nL 62.835227 77.787513 \nL 34.653409 77.787513 \nz\n\" style=\"fill:#1f77b4;\"/>\n   </g>\n   <g id=\"patch_4\">\n    <path clip-path=\"url(#p2fcad1458d)\" d=\"M 62.835227 324.318125 \nL 91.017045 324.318125 \nL 91.017045 201.052819 \nL 62.835227 201.052819 \nz\n\" style=\"fill:#1f77b4;\"/>\n   </g>\n   <g id=\"patch_5\">\n    <path clip-path=\"url(#p2fcad1458d)\" d=\"M 91.017045 324.318125 \nL 119.198864 324.318125 \nL 119.198864 201.052819 \nL 91.017045 201.052819 \nz\n\" style=\"fill:#1f77b4;\"/>\n   </g>\n   <g id=\"patch_6\">\n    <path clip-path=\"url(#p2fcad1458d)\" d=\"M 119.198864 324.318125 \nL 147.380682 324.318125 \nL 147.380682 242.141254 \nL 119.198864 242.141254 \nz\n\" style=\"fill:#1f77b4;\"/>\n   </g>\n   <g id=\"patch_7\">\n    <path clip-path=\"url(#p2fcad1458d)\" d=\"M 147.380682 324.318125 \nL 175.5625 324.318125 \nL 175.5625 36.699077 \nL 147.380682 36.699077 \nz\n\" style=\"fill:#1f77b4;\"/>\n   </g>\n   <g id=\"patch_8\">\n    <path clip-path=\"url(#p2fcad1458d)\" d=\"M 175.5625 324.318125 \nL 203.744318 324.318125 \nL 203.744318 242.141254 \nL 175.5625 242.141254 \nz\n\" style=\"fill:#1f77b4;\"/>\n   </g>\n   <g id=\"patch_9\">\n    <path clip-path=\"url(#p2fcad1458d)\" d=\"M 203.744318 324.318125 \nL 231.926136 324.318125 \nL 231.926136 283.22969 \nL 203.744318 283.22969 \nz\n\" style=\"fill:#1f77b4;\"/>\n   </g>\n   <g id=\"patch_10\">\n    <path clip-path=\"url(#p2fcad1458d)\" d=\"M 231.926136 324.318125 \nL 260.107955 324.318125 \nL 260.107955 201.052819 \nL 231.926136 201.052819 \nz\n\" style=\"fill:#1f77b4;\"/>\n   </g>\n   <g id=\"patch_11\">\n    <path clip-path=\"url(#p2fcad1458d)\" d=\"M 260.107955 324.318125 \nL 288.289773 324.318125 \nL 288.289773 283.22969 \nL 260.107955 283.22969 \nz\n\" style=\"fill:#1f77b4;\"/>\n   </g>\n   <g id=\"patch_12\">\n    <path clip-path=\"url(#p2fcad1458d)\" d=\"M 288.289773 324.318125 \nL 316.471591 324.318125 \nL 316.471591 201.052819 \nL 288.289773 201.052819 \nz\n\" style=\"fill:#1f77b4;\"/>\n   </g>\n   <g id=\"matplotlib.axis_1\">\n    <g id=\"xtick_1\">\n     <g id=\"line2d_1\">\n      <path clip-path=\"url(#p2fcad1458d)\" d=\"M 28.902018 324.318125 \nL 28.902018 22.318125 \n\" style=\"fill:none;stroke:#b0b0b0;stroke-linecap:square;stroke-width:0.8;\"/>\n     </g>\n     <g id=\"line2d_2\">\n      <defs>\n       <path d=\"M 0 0 \nL 0 3.5 \n\" id=\"m4b6f2be80e\" style=\"stroke:#000000;stroke-width:0.8;\"/>\n      </defs>\n      <g>\n       <use style=\"stroke:#000000;stroke-width:0.8;\" x=\"28.902018\" xlink:href=\"#m4b6f2be80e\" y=\"324.318125\"/>\n      </g>\n     </g>\n     <g id=\"text_1\">\n      <!-- 50 -->\n      <g transform=\"translate(22.539518 338.916563)scale(0.1 -0.1)\">\n       <defs>\n        <path d=\"M 691 4666 \nL 3169 4666 \nL 3169 4134 \nL 1269 4134 \nL 1269 2991 \nQ 1406 3038 1543 3061 \nQ 1681 3084 1819 3084 \nQ 2600 3084 3056 2656 \nQ 3513 2228 3513 1497 \nQ 3513 744 3044 326 \nQ 2575 -91 1722 -91 \nQ 1428 -91 1123 -41 \nQ 819 9 494 109 \nL 494 744 \nQ 775 591 1075 516 \nQ 1375 441 1709 441 \nQ 2250 441 2565 725 \nQ 2881 1009 2881 1497 \nQ 2881 1984 2565 2268 \nQ 2250 2553 1709 2553 \nQ 1456 2553 1204 2497 \nQ 953 2441 691 2322 \nL 691 4666 \nz\n\" id=\"DejaVuSans-35\" transform=\"scale(0.015625)\"/>\n        <path d=\"M 2034 4250 \nQ 1547 4250 1301 3770 \nQ 1056 3291 1056 2328 \nQ 1056 1369 1301 889 \nQ 1547 409 2034 409 \nQ 2525 409 2770 889 \nQ 3016 1369 3016 2328 \nQ 3016 3291 2770 3770 \nQ 2525 4250 2034 4250 \nz\nM 2034 4750 \nQ 2819 4750 3233 4129 \nQ 3647 3509 3647 2328 \nQ 3647 1150 3233 529 \nQ 2819 -91 2034 -91 \nQ 1250 -91 836 529 \nQ 422 1150 422 2328 \nQ 422 3509 836 4129 \nQ 1250 4750 2034 4750 \nz\n\" id=\"DejaVuSans-30\" transform=\"scale(0.015625)\"/>\n       </defs>\n       <use xlink:href=\"#DejaVuSans-35\"/>\n       <use x=\"63.623047\" xlink:href=\"#DejaVuSans-30\"/>\n      </g>\n     </g>\n    </g>\n    <g id=\"xtick_2\">\n     <g id=\"line2d_3\">\n      <path clip-path=\"url(#p2fcad1458d)\" d=\"M 64.848214 324.318125 \nL 64.848214 22.318125 \n\" style=\"fill:none;stroke:#b0b0b0;stroke-linecap:square;stroke-width:0.8;\"/>\n     </g>\n     <g id=\"line2d_4\">\n      <g>\n       <use style=\"stroke:#000000;stroke-width:0.8;\" x=\"64.848214\" xlink:href=\"#m4b6f2be80e\" y=\"324.318125\"/>\n      </g>\n     </g>\n     <g id=\"text_2\">\n      <!-- 75 -->\n      <g transform=\"translate(58.485714 338.916563)scale(0.1 -0.1)\">\n       <defs>\n        <path d=\"M 525 4666 \nL 3525 4666 \nL 3525 4397 \nL 1831 0 \nL 1172 0 \nL 2766 4134 \nL 525 4134 \nL 525 4666 \nz\n\" id=\"DejaVuSans-37\" transform=\"scale(0.015625)\"/>\n       </defs>\n       <use xlink:href=\"#DejaVuSans-37\"/>\n       <use x=\"63.623047\" xlink:href=\"#DejaVuSans-35\"/>\n      </g>\n     </g>\n    </g>\n    <g id=\"xtick_3\">\n     <g id=\"line2d_5\">\n      <path clip-path=\"url(#p2fcad1458d)\" d=\"M 100.794411 324.318125 \nL 100.794411 22.318125 \n\" style=\"fill:none;stroke:#b0b0b0;stroke-linecap:square;stroke-width:0.8;\"/>\n     </g>\n     <g id=\"line2d_6\">\n      <g>\n       <use style=\"stroke:#000000;stroke-width:0.8;\" x=\"100.794411\" xlink:href=\"#m4b6f2be80e\" y=\"324.318125\"/>\n      </g>\n     </g>\n     <g id=\"text_3\">\n      <!-- 100 -->\n      <g transform=\"translate(91.250661 338.916563)scale(0.1 -0.1)\">\n       <defs>\n        <path d=\"M 794 531 \nL 1825 531 \nL 1825 4091 \nL 703 3866 \nL 703 4441 \nL 1819 4666 \nL 2450 4666 \nL 2450 531 \nL 3481 531 \nL 3481 0 \nL 794 0 \nL 794 531 \nz\n\" id=\"DejaVuSans-31\" transform=\"scale(0.015625)\"/>\n       </defs>\n       <use xlink:href=\"#DejaVuSans-31\"/>\n       <use x=\"63.623047\" xlink:href=\"#DejaVuSans-30\"/>\n       <use x=\"127.246094\" xlink:href=\"#DejaVuSans-30\"/>\n      </g>\n     </g>\n    </g>\n    <g id=\"xtick_4\">\n     <g id=\"line2d_7\">\n      <path clip-path=\"url(#p2fcad1458d)\" d=\"M 136.740608 324.318125 \nL 136.740608 22.318125 \n\" style=\"fill:none;stroke:#b0b0b0;stroke-linecap:square;stroke-width:0.8;\"/>\n     </g>\n     <g id=\"line2d_8\">\n      <g>\n       <use style=\"stroke:#000000;stroke-width:0.8;\" x=\"136.740608\" xlink:href=\"#m4b6f2be80e\" y=\"324.318125\"/>\n      </g>\n     </g>\n     <g id=\"text_4\">\n      <!-- 125 -->\n      <g transform=\"translate(127.196858 338.916563)scale(0.1 -0.1)\">\n       <defs>\n        <path d=\"M 1228 531 \nL 3431 531 \nL 3431 0 \nL 469 0 \nL 469 531 \nQ 828 903 1448 1529 \nQ 2069 2156 2228 2338 \nQ 2531 2678 2651 2914 \nQ 2772 3150 2772 3378 \nQ 2772 3750 2511 3984 \nQ 2250 4219 1831 4219 \nQ 1534 4219 1204 4116 \nQ 875 4013 500 3803 \nL 500 4441 \nQ 881 4594 1212 4672 \nQ 1544 4750 1819 4750 \nQ 2544 4750 2975 4387 \nQ 3406 4025 3406 3419 \nQ 3406 3131 3298 2873 \nQ 3191 2616 2906 2266 \nQ 2828 2175 2409 1742 \nQ 1991 1309 1228 531 \nz\n\" id=\"DejaVuSans-32\" transform=\"scale(0.015625)\"/>\n       </defs>\n       <use xlink:href=\"#DejaVuSans-31\"/>\n       <use x=\"63.623047\" xlink:href=\"#DejaVuSans-32\"/>\n       <use x=\"127.246094\" xlink:href=\"#DejaVuSans-35\"/>\n      </g>\n     </g>\n    </g>\n    <g id=\"xtick_5\">\n     <g id=\"line2d_9\">\n      <path clip-path=\"url(#p2fcad1458d)\" d=\"M 172.686804 324.318125 \nL 172.686804 22.318125 \n\" style=\"fill:none;stroke:#b0b0b0;stroke-linecap:square;stroke-width:0.8;\"/>\n     </g>\n     <g id=\"line2d_10\">\n      <g>\n       <use style=\"stroke:#000000;stroke-width:0.8;\" x=\"172.686804\" xlink:href=\"#m4b6f2be80e\" y=\"324.318125\"/>\n      </g>\n     </g>\n     <g id=\"text_5\">\n      <!-- 150 -->\n      <g transform=\"translate(163.143054 338.916563)scale(0.1 -0.1)\">\n       <use xlink:href=\"#DejaVuSans-31\"/>\n       <use x=\"63.623047\" xlink:href=\"#DejaVuSans-35\"/>\n       <use x=\"127.246094\" xlink:href=\"#DejaVuSans-30\"/>\n      </g>\n     </g>\n    </g>\n    <g id=\"xtick_6\">\n     <g id=\"line2d_11\">\n      <path clip-path=\"url(#p2fcad1458d)\" d=\"M 208.633001 324.318125 \nL 208.633001 22.318125 \n\" style=\"fill:none;stroke:#b0b0b0;stroke-linecap:square;stroke-width:0.8;\"/>\n     </g>\n     <g id=\"line2d_12\">\n      <g>\n       <use style=\"stroke:#000000;stroke-width:0.8;\" x=\"208.633001\" xlink:href=\"#m4b6f2be80e\" y=\"324.318125\"/>\n      </g>\n     </g>\n     <g id=\"text_6\">\n      <!-- 175 -->\n      <g transform=\"translate(199.089251 338.916563)scale(0.1 -0.1)\">\n       <use xlink:href=\"#DejaVuSans-31\"/>\n       <use x=\"63.623047\" xlink:href=\"#DejaVuSans-37\"/>\n       <use x=\"127.246094\" xlink:href=\"#DejaVuSans-35\"/>\n      </g>\n     </g>\n    </g>\n    <g id=\"xtick_7\">\n     <g id=\"line2d_13\">\n      <path clip-path=\"url(#p2fcad1458d)\" d=\"M 244.579198 324.318125 \nL 244.579198 22.318125 \n\" style=\"fill:none;stroke:#b0b0b0;stroke-linecap:square;stroke-width:0.8;\"/>\n     </g>\n     <g id=\"line2d_14\">\n      <g>\n       <use style=\"stroke:#000000;stroke-width:0.8;\" x=\"244.579198\" xlink:href=\"#m4b6f2be80e\" y=\"324.318125\"/>\n      </g>\n     </g>\n     <g id=\"text_7\">\n      <!-- 200 -->\n      <g transform=\"translate(235.035448 338.916563)scale(0.1 -0.1)\">\n       <use xlink:href=\"#DejaVuSans-32\"/>\n       <use x=\"63.623047\" xlink:href=\"#DejaVuSans-30\"/>\n       <use x=\"127.246094\" xlink:href=\"#DejaVuSans-30\"/>\n      </g>\n     </g>\n    </g>\n    <g id=\"xtick_8\">\n     <g id=\"line2d_15\">\n      <path clip-path=\"url(#p2fcad1458d)\" d=\"M 280.525394 324.318125 \nL 280.525394 22.318125 \n\" style=\"fill:none;stroke:#b0b0b0;stroke-linecap:square;stroke-width:0.8;\"/>\n     </g>\n     <g id=\"line2d_16\">\n      <g>\n       <use style=\"stroke:#000000;stroke-width:0.8;\" x=\"280.525394\" xlink:href=\"#m4b6f2be80e\" y=\"324.318125\"/>\n      </g>\n     </g>\n     <g id=\"text_8\">\n      <!-- 225 -->\n      <g transform=\"translate(270.981644 338.916563)scale(0.1 -0.1)\">\n       <use xlink:href=\"#DejaVuSans-32\"/>\n       <use x=\"63.623047\" xlink:href=\"#DejaVuSans-32\"/>\n       <use x=\"127.246094\" xlink:href=\"#DejaVuSans-35\"/>\n      </g>\n     </g>\n    </g>\n    <g id=\"xtick_9\">\n     <g id=\"line2d_17\">\n      <path clip-path=\"url(#p2fcad1458d)\" d=\"M 316.471591 324.318125 \nL 316.471591 22.318125 \n\" style=\"fill:none;stroke:#b0b0b0;stroke-linecap:square;stroke-width:0.8;\"/>\n     </g>\n     <g id=\"line2d_18\">\n      <g>\n       <use style=\"stroke:#000000;stroke-width:0.8;\" x=\"316.471591\" xlink:href=\"#m4b6f2be80e\" y=\"324.318125\"/>\n      </g>\n     </g>\n     <g id=\"text_9\">\n      <!-- 250 -->\n      <g transform=\"translate(306.927841 338.916563)scale(0.1 -0.1)\">\n       <use xlink:href=\"#DejaVuSans-32\"/>\n       <use x=\"63.623047\" xlink:href=\"#DejaVuSans-35\"/>\n       <use x=\"127.246094\" xlink:href=\"#DejaVuSans-30\"/>\n      </g>\n     </g>\n    </g>\n   </g>\n   <g id=\"matplotlib.axis_2\">\n    <g id=\"ytick_1\">\n     <g id=\"line2d_19\">\n      <path clip-path=\"url(#p2fcad1458d)\" d=\"M 20.5625 324.318125 \nL 330.5625 324.318125 \n\" style=\"fill:none;stroke:#b0b0b0;stroke-linecap:square;stroke-width:0.8;\"/>\n     </g>\n     <g id=\"line2d_20\">\n      <defs>\n       <path d=\"M 0 0 \nL -3.5 0 \n\" id=\"m66f3358685\" style=\"stroke:#000000;stroke-width:0.8;\"/>\n      </defs>\n      <g>\n       <use style=\"stroke:#000000;stroke-width:0.8;\" x=\"20.5625\" xlink:href=\"#m66f3358685\" y=\"324.318125\"/>\n      </g>\n     </g>\n     <g id=\"text_10\">\n      <!-- 0 -->\n      <g transform=\"translate(7.2 328.117344)scale(0.1 -0.1)\">\n       <use xlink:href=\"#DejaVuSans-30\"/>\n      </g>\n     </g>\n    </g>\n    <g id=\"ytick_2\">\n     <g id=\"line2d_21\">\n      <path clip-path=\"url(#p2fcad1458d)\" d=\"M 20.5625 283.22969 \nL 330.5625 283.22969 \n\" style=\"fill:none;stroke:#b0b0b0;stroke-linecap:square;stroke-width:0.8;\"/>\n     </g>\n     <g id=\"line2d_22\">\n      <g>\n       <use style=\"stroke:#000000;stroke-width:0.8;\" x=\"20.5625\" xlink:href=\"#m66f3358685\" y=\"283.22969\"/>\n      </g>\n     </g>\n     <g id=\"text_11\">\n      <!-- 1 -->\n      <g transform=\"translate(7.2 287.028908)scale(0.1 -0.1)\">\n       <use xlink:href=\"#DejaVuSans-31\"/>\n      </g>\n     </g>\n    </g>\n    <g id=\"ytick_3\">\n     <g id=\"line2d_23\">\n      <path clip-path=\"url(#p2fcad1458d)\" d=\"M 20.5625 242.141254 \nL 330.5625 242.141254 \n\" style=\"fill:none;stroke:#b0b0b0;stroke-linecap:square;stroke-width:0.8;\"/>\n     </g>\n     <g id=\"line2d_24\">\n      <g>\n       <use style=\"stroke:#000000;stroke-width:0.8;\" x=\"20.5625\" xlink:href=\"#m66f3358685\" y=\"242.141254\"/>\n      </g>\n     </g>\n     <g id=\"text_12\">\n      <!-- 2 -->\n      <g transform=\"translate(7.2 245.940473)scale(0.1 -0.1)\">\n       <use xlink:href=\"#DejaVuSans-32\"/>\n      </g>\n     </g>\n    </g>\n    <g id=\"ytick_4\">\n     <g id=\"line2d_25\">\n      <path clip-path=\"url(#p2fcad1458d)\" d=\"M 20.5625 201.052819 \nL 330.5625 201.052819 \n\" style=\"fill:none;stroke:#b0b0b0;stroke-linecap:square;stroke-width:0.8;\"/>\n     </g>\n     <g id=\"line2d_26\">\n      <g>\n       <use style=\"stroke:#000000;stroke-width:0.8;\" x=\"20.5625\" xlink:href=\"#m66f3358685\" y=\"201.052819\"/>\n      </g>\n     </g>\n     <g id=\"text_13\">\n      <!-- 3 -->\n      <g transform=\"translate(7.2 204.852038)scale(0.1 -0.1)\">\n       <defs>\n        <path d=\"M 2597 2516 \nQ 3050 2419 3304 2112 \nQ 3559 1806 3559 1356 \nQ 3559 666 3084 287 \nQ 2609 -91 1734 -91 \nQ 1441 -91 1130 -33 \nQ 819 25 488 141 \nL 488 750 \nQ 750 597 1062 519 \nQ 1375 441 1716 441 \nQ 2309 441 2620 675 \nQ 2931 909 2931 1356 \nQ 2931 1769 2642 2001 \nQ 2353 2234 1838 2234 \nL 1294 2234 \nL 1294 2753 \nL 1863 2753 \nQ 2328 2753 2575 2939 \nQ 2822 3125 2822 3475 \nQ 2822 3834 2567 4026 \nQ 2313 4219 1838 4219 \nQ 1578 4219 1281 4162 \nQ 984 4106 628 3988 \nL 628 4550 \nQ 988 4650 1302 4700 \nQ 1616 4750 1894 4750 \nQ 2613 4750 3031 4423 \nQ 3450 4097 3450 3541 \nQ 3450 3153 3228 2886 \nQ 3006 2619 2597 2516 \nz\n\" id=\"DejaVuSans-33\" transform=\"scale(0.015625)\"/>\n       </defs>\n       <use xlink:href=\"#DejaVuSans-33\"/>\n      </g>\n     </g>\n    </g>\n    <g id=\"ytick_5\">\n     <g id=\"line2d_27\">\n      <path clip-path=\"url(#p2fcad1458d)\" d=\"M 20.5625 159.964384 \nL 330.5625 159.964384 \n\" style=\"fill:none;stroke:#b0b0b0;stroke-linecap:square;stroke-width:0.8;\"/>\n     </g>\n     <g id=\"line2d_28\">\n      <g>\n       <use style=\"stroke:#000000;stroke-width:0.8;\" x=\"20.5625\" xlink:href=\"#m66f3358685\" y=\"159.964384\"/>\n      </g>\n     </g>\n     <g id=\"text_14\">\n      <!-- 4 -->\n      <g transform=\"translate(7.2 163.763602)scale(0.1 -0.1)\">\n       <defs>\n        <path d=\"M 2419 4116 \nL 825 1625 \nL 2419 1625 \nL 2419 4116 \nz\nM 2253 4666 \nL 3047 4666 \nL 3047 1625 \nL 3713 1625 \nL 3713 1100 \nL 3047 1100 \nL 3047 0 \nL 2419 0 \nL 2419 1100 \nL 313 1100 \nL 313 1709 \nL 2253 4666 \nz\n\" id=\"DejaVuSans-34\" transform=\"scale(0.015625)\"/>\n       </defs>\n       <use xlink:href=\"#DejaVuSans-34\"/>\n      </g>\n     </g>\n    </g>\n    <g id=\"ytick_6\">\n     <g id=\"line2d_29\">\n      <path clip-path=\"url(#p2fcad1458d)\" d=\"M 20.5625 118.875948 \nL 330.5625 118.875948 \n\" style=\"fill:none;stroke:#b0b0b0;stroke-linecap:square;stroke-width:0.8;\"/>\n     </g>\n     <g id=\"line2d_30\">\n      <g>\n       <use style=\"stroke:#000000;stroke-width:0.8;\" x=\"20.5625\" xlink:href=\"#m66f3358685\" y=\"118.875948\"/>\n      </g>\n     </g>\n     <g id=\"text_15\">\n      <!-- 5 -->\n      <g transform=\"translate(7.2 122.675167)scale(0.1 -0.1)\">\n       <use xlink:href=\"#DejaVuSans-35\"/>\n      </g>\n     </g>\n    </g>\n    <g id=\"ytick_7\">\n     <g id=\"line2d_31\">\n      <path clip-path=\"url(#p2fcad1458d)\" d=\"M 20.5625 77.787513 \nL 330.5625 77.787513 \n\" style=\"fill:none;stroke:#b0b0b0;stroke-linecap:square;stroke-width:0.8;\"/>\n     </g>\n     <g id=\"line2d_32\">\n      <g>\n       <use style=\"stroke:#000000;stroke-width:0.8;\" x=\"20.5625\" xlink:href=\"#m66f3358685\" y=\"77.787513\"/>\n      </g>\n     </g>\n     <g id=\"text_16\">\n      <!-- 6 -->\n      <g transform=\"translate(7.2 81.586732)scale(0.1 -0.1)\">\n       <defs>\n        <path d=\"M 2113 2584 \nQ 1688 2584 1439 2293 \nQ 1191 2003 1191 1497 \nQ 1191 994 1439 701 \nQ 1688 409 2113 409 \nQ 2538 409 2786 701 \nQ 3034 994 3034 1497 \nQ 3034 2003 2786 2293 \nQ 2538 2584 2113 2584 \nz\nM 3366 4563 \nL 3366 3988 \nQ 3128 4100 2886 4159 \nQ 2644 4219 2406 4219 \nQ 1781 4219 1451 3797 \nQ 1122 3375 1075 2522 \nQ 1259 2794 1537 2939 \nQ 1816 3084 2150 3084 \nQ 2853 3084 3261 2657 \nQ 3669 2231 3669 1497 \nQ 3669 778 3244 343 \nQ 2819 -91 2113 -91 \nQ 1303 -91 875 529 \nQ 447 1150 447 2328 \nQ 447 3434 972 4092 \nQ 1497 4750 2381 4750 \nQ 2619 4750 2861 4703 \nQ 3103 4656 3366 4563 \nz\n\" id=\"DejaVuSans-36\" transform=\"scale(0.015625)\"/>\n       </defs>\n       <use xlink:href=\"#DejaVuSans-36\"/>\n      </g>\n     </g>\n    </g>\n    <g id=\"ytick_8\">\n     <g id=\"line2d_33\">\n      <path clip-path=\"url(#p2fcad1458d)\" d=\"M 20.5625 36.699077 \nL 330.5625 36.699077 \n\" style=\"fill:none;stroke:#b0b0b0;stroke-linecap:square;stroke-width:0.8;\"/>\n     </g>\n     <g id=\"line2d_34\">\n      <g>\n       <use style=\"stroke:#000000;stroke-width:0.8;\" x=\"20.5625\" xlink:href=\"#m66f3358685\" y=\"36.699077\"/>\n      </g>\n     </g>\n     <g id=\"text_17\">\n      <!-- 7 -->\n      <g transform=\"translate(7.2 40.498296)scale(0.1 -0.1)\">\n       <use xlink:href=\"#DejaVuSans-37\"/>\n      </g>\n     </g>\n    </g>\n   </g>\n   <g id=\"patch_13\">\n    <path d=\"M 20.5625 324.318125 \nL 20.5625 22.318125 \n\" style=\"fill:none;stroke:#000000;stroke-linecap:square;stroke-linejoin:miter;stroke-width:0.8;\"/>\n   </g>\n   <g id=\"patch_14\">\n    <path d=\"M 330.5625 324.318125 \nL 330.5625 22.318125 \n\" style=\"fill:none;stroke:#000000;stroke-linecap:square;stroke-linejoin:miter;stroke-width:0.8;\"/>\n   </g>\n   <g id=\"patch_15\">\n    <path d=\"M 20.5625 324.318125 \nL 330.5625 324.318125 \n\" style=\"fill:none;stroke:#000000;stroke-linecap:square;stroke-linejoin:miter;stroke-width:0.8;\"/>\n   </g>\n   <g id=\"patch_16\">\n    <path d=\"M 20.5625 22.318125 \nL 330.5625 22.318125 \n\" style=\"fill:none;stroke:#000000;stroke-linecap:square;stroke-linejoin:miter;stroke-width:0.8;\"/>\n   </g>\n   <g id=\"text_18\">\n    <!-- puissance -->\n    <g transform=\"translate(145.5625 16.318125)scale(0.12 -0.12)\">\n     <defs>\n      <path d=\"M 1159 525 \nL 1159 -1331 \nL 581 -1331 \nL 581 3500 \nL 1159 3500 \nL 1159 2969 \nQ 1341 3281 1617 3432 \nQ 1894 3584 2278 3584 \nQ 2916 3584 3314 3078 \nQ 3713 2572 3713 1747 \nQ 3713 922 3314 415 \nQ 2916 -91 2278 -91 \nQ 1894 -91 1617 61 \nQ 1341 213 1159 525 \nz\nM 3116 1747 \nQ 3116 2381 2855 2742 \nQ 2594 3103 2138 3103 \nQ 1681 3103 1420 2742 \nQ 1159 2381 1159 1747 \nQ 1159 1113 1420 752 \nQ 1681 391 2138 391 \nQ 2594 391 2855 752 \nQ 3116 1113 3116 1747 \nz\n\" id=\"DejaVuSans-70\" transform=\"scale(0.015625)\"/>\n      <path d=\"M 544 1381 \nL 544 3500 \nL 1119 3500 \nL 1119 1403 \nQ 1119 906 1312 657 \nQ 1506 409 1894 409 \nQ 2359 409 2629 706 \nQ 2900 1003 2900 1516 \nL 2900 3500 \nL 3475 3500 \nL 3475 0 \nL 2900 0 \nL 2900 538 \nQ 2691 219 2414 64 \nQ 2138 -91 1772 -91 \nQ 1169 -91 856 284 \nQ 544 659 544 1381 \nz\nM 1991 3584 \nL 1991 3584 \nz\n\" id=\"DejaVuSans-75\" transform=\"scale(0.015625)\"/>\n      <path d=\"M 603 3500 \nL 1178 3500 \nL 1178 0 \nL 603 0 \nL 603 3500 \nz\nM 603 4863 \nL 1178 4863 \nL 1178 4134 \nL 603 4134 \nL 603 4863 \nz\n\" id=\"DejaVuSans-69\" transform=\"scale(0.015625)\"/>\n      <path d=\"M 2834 3397 \nL 2834 2853 \nQ 2591 2978 2328 3040 \nQ 2066 3103 1784 3103 \nQ 1356 3103 1142 2972 \nQ 928 2841 928 2578 \nQ 928 2378 1081 2264 \nQ 1234 2150 1697 2047 \nL 1894 2003 \nQ 2506 1872 2764 1633 \nQ 3022 1394 3022 966 \nQ 3022 478 2636 193 \nQ 2250 -91 1575 -91 \nQ 1294 -91 989 -36 \nQ 684 19 347 128 \nL 347 722 \nQ 666 556 975 473 \nQ 1284 391 1588 391 \nQ 1994 391 2212 530 \nQ 2431 669 2431 922 \nQ 2431 1156 2273 1281 \nQ 2116 1406 1581 1522 \nL 1381 1569 \nQ 847 1681 609 1914 \nQ 372 2147 372 2553 \nQ 372 3047 722 3315 \nQ 1072 3584 1716 3584 \nQ 2034 3584 2315 3537 \nQ 2597 3491 2834 3397 \nz\n\" id=\"DejaVuSans-73\" transform=\"scale(0.015625)\"/>\n      <path d=\"M 2194 1759 \nQ 1497 1759 1228 1600 \nQ 959 1441 959 1056 \nQ 959 750 1161 570 \nQ 1363 391 1709 391 \nQ 2188 391 2477 730 \nQ 2766 1069 2766 1631 \nL 2766 1759 \nL 2194 1759 \nz\nM 3341 1997 \nL 3341 0 \nL 2766 0 \nL 2766 531 \nQ 2569 213 2275 61 \nQ 1981 -91 1556 -91 \nQ 1019 -91 701 211 \nQ 384 513 384 1019 \nQ 384 1609 779 1909 \nQ 1175 2209 1959 2209 \nL 2766 2209 \nL 2766 2266 \nQ 2766 2663 2505 2880 \nQ 2244 3097 1772 3097 \nQ 1472 3097 1187 3025 \nQ 903 2953 641 2809 \nL 641 3341 \nQ 956 3463 1253 3523 \nQ 1550 3584 1831 3584 \nQ 2591 3584 2966 3190 \nQ 3341 2797 3341 1997 \nz\n\" id=\"DejaVuSans-61\" transform=\"scale(0.015625)\"/>\n      <path d=\"M 3513 2113 \nL 3513 0 \nL 2938 0 \nL 2938 2094 \nQ 2938 2591 2744 2837 \nQ 2550 3084 2163 3084 \nQ 1697 3084 1428 2787 \nQ 1159 2491 1159 1978 \nL 1159 0 \nL 581 0 \nL 581 3500 \nL 1159 3500 \nL 1159 2956 \nQ 1366 3272 1645 3428 \nQ 1925 3584 2291 3584 \nQ 2894 3584 3203 3211 \nQ 3513 2838 3513 2113 \nz\n\" id=\"DejaVuSans-6e\" transform=\"scale(0.015625)\"/>\n      <path d=\"M 3122 3366 \nL 3122 2828 \nQ 2878 2963 2633 3030 \nQ 2388 3097 2138 3097 \nQ 1578 3097 1268 2742 \nQ 959 2388 959 1747 \nQ 959 1106 1268 751 \nQ 1578 397 2138 397 \nQ 2388 397 2633 464 \nQ 2878 531 3122 666 \nL 3122 134 \nQ 2881 22 2623 -34 \nQ 2366 -91 2075 -91 \nQ 1284 -91 818 406 \nQ 353 903 353 1747 \nQ 353 2603 823 3093 \nQ 1294 3584 2113 3584 \nQ 2378 3584 2631 3529 \nQ 2884 3475 3122 3366 \nz\n\" id=\"DejaVuSans-63\" transform=\"scale(0.015625)\"/>\n      <path d=\"M 3597 1894 \nL 3597 1613 \nL 953 1613 \nQ 991 1019 1311 708 \nQ 1631 397 2203 397 \nQ 2534 397 2845 478 \nQ 3156 559 3463 722 \nL 3463 178 \nQ 3153 47 2828 -22 \nQ 2503 -91 2169 -91 \nQ 1331 -91 842 396 \nQ 353 884 353 1716 \nQ 353 2575 817 3079 \nQ 1281 3584 2069 3584 \nQ 2775 3584 3186 3129 \nQ 3597 2675 3597 1894 \nz\nM 3022 2063 \nQ 3016 2534 2758 2815 \nQ 2500 3097 2075 3097 \nQ 1594 3097 1305 2825 \nQ 1016 2553 972 2059 \nL 3022 2063 \nz\n\" id=\"DejaVuSans-65\" transform=\"scale(0.015625)\"/>\n     </defs>\n     <use xlink:href=\"#DejaVuSans-70\"/>\n     <use x=\"63.476562\" xlink:href=\"#DejaVuSans-75\"/>\n     <use x=\"126.855469\" xlink:href=\"#DejaVuSans-69\"/>\n     <use x=\"154.638672\" xlink:href=\"#DejaVuSans-73\"/>\n     <use x=\"206.738281\" xlink:href=\"#DejaVuSans-73\"/>\n     <use x=\"258.837891\" xlink:href=\"#DejaVuSans-61\"/>\n     <use x=\"320.117188\" xlink:href=\"#DejaVuSans-6e\"/>\n     <use x=\"383.496094\" xlink:href=\"#DejaVuSans-63\"/>\n     <use x=\"438.476562\" xlink:href=\"#DejaVuSans-65\"/>\n    </g>\n   </g>\n  </g>\n  <g id=\"axes_2\">\n   <g id=\"patch_17\">\n    <path d=\"M 423.5625 324.318125 \nL 733.5625 324.318125 \nL 733.5625 22.318125 \nL 423.5625 22.318125 \nz\n\" style=\"fill:#ffffff;\"/>\n   </g>\n   <g id=\"patch_18\">\n    <path clip-path=\"url(#p3df3668939)\" d=\"M 437.653409 324.318125 \nL 465.835227 324.318125 \nL 465.835227 219.72938 \nL 437.653409 219.72938 \nz\n\" style=\"fill:#1f77b4;\"/>\n   </g>\n   <g id=\"patch_19\">\n    <path clip-path=\"url(#p3df3668939)\" d=\"M 465.835227 324.318125 \nL 494.017045 324.318125 \nL 494.017045 219.72938 \nL 465.835227 219.72938 \nz\n\" style=\"fill:#1f77b4;\"/>\n   </g>\n   <g id=\"patch_20\">\n    <path clip-path=\"url(#p3df3668939)\" d=\"M 494.017045 324.318125 \nL 522.198864 324.318125 \nL 522.198864 219.72938 \nL 494.017045 219.72938 \nz\n\" style=\"fill:#1f77b4;\"/>\n   </g>\n   <g id=\"patch_21\">\n    <path clip-path=\"url(#p3df3668939)\" d=\"M 522.198864 324.318125 \nL 550.380682 324.318125 \nL 550.380682 298.170939 \nL 522.198864 298.170939 \nz\n\" style=\"fill:#1f77b4;\"/>\n   </g>\n   <g id=\"patch_22\">\n    <path clip-path=\"url(#p3df3668939)\" d=\"M 550.380682 324.318125 \nL 578.5625 324.318125 \nL 578.5625 36.699077 \nL 550.380682 36.699077 \nz\n\" style=\"fill:#1f77b4;\"/>\n   </g>\n   <g id=\"patch_23\">\n    <path clip-path=\"url(#p3df3668939)\" d=\"M 578.5625 324.318125 \nL 606.744318 324.318125 \nL 606.744318 298.170939 \nL 578.5625 298.170939 \nz\n\" style=\"fill:#1f77b4;\"/>\n   </g>\n   <g id=\"patch_24\">\n    <path clip-path=\"url(#p3df3668939)\" d=\"M 606.744318 324.318125 \nL 634.926136 324.318125 \nL 634.926136 272.023753 \nL 606.744318 272.023753 \nz\n\" style=\"fill:#1f77b4;\"/>\n   </g>\n   <g id=\"patch_25\">\n    <path clip-path=\"url(#p3df3668939)\" d=\"M 634.926136 324.318125 \nL 663.107955 324.318125 \nL 663.107955 298.170939 \nL 634.926136 298.170939 \nz\n\" style=\"fill:#1f77b4;\"/>\n   </g>\n   <g id=\"patch_26\">\n    <path clip-path=\"url(#p3df3668939)\" d=\"M 663.107955 324.318125 \nL 691.289773 324.318125 \nL 691.289773 298.170939 \nL 663.107955 298.170939 \nz\n\" style=\"fill:#1f77b4;\"/>\n   </g>\n   <g id=\"patch_27\">\n    <path clip-path=\"url(#p3df3668939)\" d=\"M 691.289773 324.318125 \nL 719.471591 324.318125 \nL 719.471591 272.023753 \nL 691.289773 272.023753 \nz\n\" style=\"fill:#1f77b4;\"/>\n   </g>\n   <g id=\"matplotlib.axis_3\">\n    <g id=\"xtick_10\">\n     <g id=\"line2d_35\">\n      <path clip-path=\"url(#p3df3668939)\" d=\"M 437.906843 324.318125 \nL 437.906843 22.318125 \n\" style=\"fill:none;stroke:#b0b0b0;stroke-linecap:square;stroke-width:0.8;\"/>\n     </g>\n     <g id=\"line2d_36\">\n      <g>\n       <use style=\"stroke:#000000;stroke-width:0.8;\" x=\"437.906843\" xlink:href=\"#m4b6f2be80e\" y=\"324.318125\"/>\n      </g>\n     </g>\n     <g id=\"text_19\">\n      <!-- 1000 -->\n      <g transform=\"translate(425.181843 338.916563)scale(0.1 -0.1)\">\n       <use xlink:href=\"#DejaVuSans-31\"/>\n       <use x=\"63.623047\" xlink:href=\"#DejaVuSans-30\"/>\n       <use x=\"127.246094\" xlink:href=\"#DejaVuSans-30\"/>\n       <use x=\"190.869141\" xlink:href=\"#DejaVuSans-30\"/>\n      </g>\n     </g>\n    </g>\n    <g id=\"xtick_11\">\n     <g id=\"line2d_37\">\n      <path clip-path=\"url(#p3df3668939)\" d=\"M 501.265247 324.318125 \nL 501.265247 22.318125 \n\" style=\"fill:none;stroke:#b0b0b0;stroke-linecap:square;stroke-width:0.8;\"/>\n     </g>\n     <g id=\"line2d_38\">\n      <g>\n       <use style=\"stroke:#000000;stroke-width:0.8;\" x=\"501.265247\" xlink:href=\"#m4b6f2be80e\" y=\"324.318125\"/>\n      </g>\n     </g>\n     <g id=\"text_20\">\n      <!-- 1500 -->\n      <g transform=\"translate(488.540247 338.916563)scale(0.1 -0.1)\">\n       <use xlink:href=\"#DejaVuSans-31\"/>\n       <use x=\"63.623047\" xlink:href=\"#DejaVuSans-35\"/>\n       <use x=\"127.246094\" xlink:href=\"#DejaVuSans-30\"/>\n       <use x=\"190.869141\" xlink:href=\"#DejaVuSans-30\"/>\n      </g>\n     </g>\n    </g>\n    <g id=\"xtick_12\">\n     <g id=\"line2d_39\">\n      <path clip-path=\"url(#p3df3668939)\" d=\"M 564.623651 324.318125 \nL 564.623651 22.318125 \n\" style=\"fill:none;stroke:#b0b0b0;stroke-linecap:square;stroke-width:0.8;\"/>\n     </g>\n     <g id=\"line2d_40\">\n      <g>\n       <use style=\"stroke:#000000;stroke-width:0.8;\" x=\"564.623651\" xlink:href=\"#m4b6f2be80e\" y=\"324.318125\"/>\n      </g>\n     </g>\n     <g id=\"text_21\">\n      <!-- 2000 -->\n      <g transform=\"translate(551.898651 338.916563)scale(0.1 -0.1)\">\n       <use xlink:href=\"#DejaVuSans-32\"/>\n       <use x=\"63.623047\" xlink:href=\"#DejaVuSans-30\"/>\n       <use x=\"127.246094\" xlink:href=\"#DejaVuSans-30\"/>\n       <use x=\"190.869141\" xlink:href=\"#DejaVuSans-30\"/>\n      </g>\n     </g>\n    </g>\n    <g id=\"xtick_13\">\n     <g id=\"line2d_41\">\n      <path clip-path=\"url(#p3df3668939)\" d=\"M 627.982055 324.318125 \nL 627.982055 22.318125 \n\" style=\"fill:none;stroke:#b0b0b0;stroke-linecap:square;stroke-width:0.8;\"/>\n     </g>\n     <g id=\"line2d_42\">\n      <g>\n       <use style=\"stroke:#000000;stroke-width:0.8;\" x=\"627.982055\" xlink:href=\"#m4b6f2be80e\" y=\"324.318125\"/>\n      </g>\n     </g>\n     <g id=\"text_22\">\n      <!-- 2500 -->\n      <g transform=\"translate(615.257055 338.916563)scale(0.1 -0.1)\">\n       <use xlink:href=\"#DejaVuSans-32\"/>\n       <use x=\"63.623047\" xlink:href=\"#DejaVuSans-35\"/>\n       <use x=\"127.246094\" xlink:href=\"#DejaVuSans-30\"/>\n       <use x=\"190.869141\" xlink:href=\"#DejaVuSans-30\"/>\n      </g>\n     </g>\n    </g>\n    <g id=\"xtick_14\">\n     <g id=\"line2d_43\">\n      <path clip-path=\"url(#p3df3668939)\" d=\"M 691.340459 324.318125 \nL 691.340459 22.318125 \n\" style=\"fill:none;stroke:#b0b0b0;stroke-linecap:square;stroke-width:0.8;\"/>\n     </g>\n     <g id=\"line2d_44\">\n      <g>\n       <use style=\"stroke:#000000;stroke-width:0.8;\" x=\"691.340459\" xlink:href=\"#m4b6f2be80e\" y=\"324.318125\"/>\n      </g>\n     </g>\n     <g id=\"text_23\">\n      <!-- 3000 -->\n      <g transform=\"translate(678.615459 338.916563)scale(0.1 -0.1)\">\n       <use xlink:href=\"#DejaVuSans-33\"/>\n       <use x=\"63.623047\" xlink:href=\"#DejaVuSans-30\"/>\n       <use x=\"127.246094\" xlink:href=\"#DejaVuSans-30\"/>\n       <use x=\"190.869141\" xlink:href=\"#DejaVuSans-30\"/>\n      </g>\n     </g>\n    </g>\n   </g>\n   <g id=\"matplotlib.axis_4\">\n    <g id=\"ytick_9\">\n     <g id=\"line2d_45\">\n      <path clip-path=\"url(#p3df3668939)\" d=\"M 423.5625 324.318125 \nL 733.5625 324.318125 \n\" style=\"fill:none;stroke:#b0b0b0;stroke-linecap:square;stroke-width:0.8;\"/>\n     </g>\n     <g id=\"line2d_46\">\n      <g>\n       <use style=\"stroke:#000000;stroke-width:0.8;\" x=\"423.5625\" xlink:href=\"#m66f3358685\" y=\"324.318125\"/>\n      </g>\n     </g>\n     <g id=\"text_24\">\n      <!-- 0 -->\n      <g transform=\"translate(410.2 328.117344)scale(0.1 -0.1)\">\n       <use xlink:href=\"#DejaVuSans-30\"/>\n      </g>\n     </g>\n    </g>\n    <g id=\"ytick_10\">\n     <g id=\"line2d_47\">\n      <path clip-path=\"url(#p3df3668939)\" d=\"M 423.5625 272.023753 \nL 733.5625 272.023753 \n\" style=\"fill:none;stroke:#b0b0b0;stroke-linecap:square;stroke-width:0.8;\"/>\n     </g>\n     <g id=\"line2d_48\">\n      <g>\n       <use style=\"stroke:#000000;stroke-width:0.8;\" x=\"423.5625\" xlink:href=\"#m66f3358685\" y=\"272.023753\"/>\n      </g>\n     </g>\n     <g id=\"text_25\">\n      <!-- 2 -->\n      <g transform=\"translate(410.2 275.822971)scale(0.1 -0.1)\">\n       <use xlink:href=\"#DejaVuSans-32\"/>\n      </g>\n     </g>\n    </g>\n    <g id=\"ytick_11\">\n     <g id=\"line2d_49\">\n      <path clip-path=\"url(#p3df3668939)\" d=\"M 423.5625 219.72938 \nL 733.5625 219.72938 \n\" style=\"fill:none;stroke:#b0b0b0;stroke-linecap:square;stroke-width:0.8;\"/>\n     </g>\n     <g id=\"line2d_50\">\n      <g>\n       <use style=\"stroke:#000000;stroke-width:0.8;\" x=\"423.5625\" xlink:href=\"#m66f3358685\" y=\"219.72938\"/>\n      </g>\n     </g>\n     <g id=\"text_26\">\n      <!-- 4 -->\n      <g transform=\"translate(410.2 223.528599)scale(0.1 -0.1)\">\n       <use xlink:href=\"#DejaVuSans-34\"/>\n      </g>\n     </g>\n    </g>\n    <g id=\"ytick_12\">\n     <g id=\"line2d_51\">\n      <path clip-path=\"url(#p3df3668939)\" d=\"M 423.5625 167.435008 \nL 733.5625 167.435008 \n\" style=\"fill:none;stroke:#b0b0b0;stroke-linecap:square;stroke-width:0.8;\"/>\n     </g>\n     <g id=\"line2d_52\">\n      <g>\n       <use style=\"stroke:#000000;stroke-width:0.8;\" x=\"423.5625\" xlink:href=\"#m66f3358685\" y=\"167.435008\"/>\n      </g>\n     </g>\n     <g id=\"text_27\">\n      <!-- 6 -->\n      <g transform=\"translate(410.2 171.234227)scale(0.1 -0.1)\">\n       <use xlink:href=\"#DejaVuSans-36\"/>\n      </g>\n     </g>\n    </g>\n    <g id=\"ytick_13\">\n     <g id=\"line2d_53\">\n      <path clip-path=\"url(#p3df3668939)\" d=\"M 423.5625 115.140636 \nL 733.5625 115.140636 \n\" style=\"fill:none;stroke:#b0b0b0;stroke-linecap:square;stroke-width:0.8;\"/>\n     </g>\n     <g id=\"line2d_54\">\n      <g>\n       <use style=\"stroke:#000000;stroke-width:0.8;\" x=\"423.5625\" xlink:href=\"#m66f3358685\" y=\"115.140636\"/>\n      </g>\n     </g>\n     <g id=\"text_28\">\n      <!-- 8 -->\n      <g transform=\"translate(410.2 118.939855)scale(0.1 -0.1)\">\n       <defs>\n        <path d=\"M 2034 2216 \nQ 1584 2216 1326 1975 \nQ 1069 1734 1069 1313 \nQ 1069 891 1326 650 \nQ 1584 409 2034 409 \nQ 2484 409 2743 651 \nQ 3003 894 3003 1313 \nQ 3003 1734 2745 1975 \nQ 2488 2216 2034 2216 \nz\nM 1403 2484 \nQ 997 2584 770 2862 \nQ 544 3141 544 3541 \nQ 544 4100 942 4425 \nQ 1341 4750 2034 4750 \nQ 2731 4750 3128 4425 \nQ 3525 4100 3525 3541 \nQ 3525 3141 3298 2862 \nQ 3072 2584 2669 2484 \nQ 3125 2378 3379 2068 \nQ 3634 1759 3634 1313 \nQ 3634 634 3220 271 \nQ 2806 -91 2034 -91 \nQ 1263 -91 848 271 \nQ 434 634 434 1313 \nQ 434 1759 690 2068 \nQ 947 2378 1403 2484 \nz\nM 1172 3481 \nQ 1172 3119 1398 2916 \nQ 1625 2713 2034 2713 \nQ 2441 2713 2670 2916 \nQ 2900 3119 2900 3481 \nQ 2900 3844 2670 4047 \nQ 2441 4250 2034 4250 \nQ 1625 4250 1398 4047 \nQ 1172 3844 1172 3481 \nz\n\" id=\"DejaVuSans-38\" transform=\"scale(0.015625)\"/>\n       </defs>\n       <use xlink:href=\"#DejaVuSans-38\"/>\n      </g>\n     </g>\n    </g>\n    <g id=\"ytick_14\">\n     <g id=\"line2d_55\">\n      <path clip-path=\"url(#p3df3668939)\" d=\"M 423.5625 62.846264 \nL 733.5625 62.846264 \n\" style=\"fill:none;stroke:#b0b0b0;stroke-linecap:square;stroke-width:0.8;\"/>\n     </g>\n     <g id=\"line2d_56\">\n      <g>\n       <use style=\"stroke:#000000;stroke-width:0.8;\" x=\"423.5625\" xlink:href=\"#m66f3358685\" y=\"62.846264\"/>\n      </g>\n     </g>\n     <g id=\"text_29\">\n      <!-- 10 -->\n      <g transform=\"translate(403.8375 66.645482)scale(0.1 -0.1)\">\n       <use xlink:href=\"#DejaVuSans-31\"/>\n       <use x=\"63.623047\" xlink:href=\"#DejaVuSans-30\"/>\n      </g>\n     </g>\n    </g>\n   </g>\n   <g id=\"patch_28\">\n    <path d=\"M 423.5625 324.318125 \nL 423.5625 22.318125 \n\" style=\"fill:none;stroke:#000000;stroke-linecap:square;stroke-linejoin:miter;stroke-width:0.8;\"/>\n   </g>\n   <g id=\"patch_29\">\n    <path d=\"M 733.5625 324.318125 \nL 733.5625 22.318125 \n\" style=\"fill:none;stroke:#000000;stroke-linecap:square;stroke-linejoin:miter;stroke-width:0.8;\"/>\n   </g>\n   <g id=\"patch_30\">\n    <path d=\"M 423.5625 324.318125 \nL 733.5625 324.318125 \n\" style=\"fill:none;stroke:#000000;stroke-linecap:square;stroke-linejoin:miter;stroke-width:0.8;\"/>\n   </g>\n   <g id=\"patch_31\">\n    <path d=\"M 423.5625 22.318125 \nL 733.5625 22.318125 \n\" style=\"fill:none;stroke:#000000;stroke-linecap:square;stroke-linejoin:miter;stroke-width:0.8;\"/>\n   </g>\n   <g id=\"text_30\">\n    <!-- cylindree -->\n    <g transform=\"translate(551.051563 16.318125)scale(0.12 -0.12)\">\n     <defs>\n      <path d=\"M 2059 -325 \nQ 1816 -950 1584 -1140 \nQ 1353 -1331 966 -1331 \nL 506 -1331 \nL 506 -850 \nL 844 -850 \nQ 1081 -850 1212 -737 \nQ 1344 -625 1503 -206 \nL 1606 56 \nL 191 3500 \nL 800 3500 \nL 1894 763 \nL 2988 3500 \nL 3597 3500 \nL 2059 -325 \nz\n\" id=\"DejaVuSans-79\" transform=\"scale(0.015625)\"/>\n      <path d=\"M 603 4863 \nL 1178 4863 \nL 1178 0 \nL 603 0 \nL 603 4863 \nz\n\" id=\"DejaVuSans-6c\" transform=\"scale(0.015625)\"/>\n      <path d=\"M 2906 2969 \nL 2906 4863 \nL 3481 4863 \nL 3481 0 \nL 2906 0 \nL 2906 525 \nQ 2725 213 2448 61 \nQ 2172 -91 1784 -91 \nQ 1150 -91 751 415 \nQ 353 922 353 1747 \nQ 353 2572 751 3078 \nQ 1150 3584 1784 3584 \nQ 2172 3584 2448 3432 \nQ 2725 3281 2906 2969 \nz\nM 947 1747 \nQ 947 1113 1208 752 \nQ 1469 391 1925 391 \nQ 2381 391 2643 752 \nQ 2906 1113 2906 1747 \nQ 2906 2381 2643 2742 \nQ 2381 3103 1925 3103 \nQ 1469 3103 1208 2742 \nQ 947 2381 947 1747 \nz\n\" id=\"DejaVuSans-64\" transform=\"scale(0.015625)\"/>\n      <path d=\"M 2631 2963 \nQ 2534 3019 2420 3045 \nQ 2306 3072 2169 3072 \nQ 1681 3072 1420 2755 \nQ 1159 2438 1159 1844 \nL 1159 0 \nL 581 0 \nL 581 3500 \nL 1159 3500 \nL 1159 2956 \nQ 1341 3275 1631 3429 \nQ 1922 3584 2338 3584 \nQ 2397 3584 2469 3576 \nQ 2541 3569 2628 3553 \nL 2631 2963 \nz\n\" id=\"DejaVuSans-72\" transform=\"scale(0.015625)\"/>\n     </defs>\n     <use xlink:href=\"#DejaVuSans-63\"/>\n     <use x=\"54.980469\" xlink:href=\"#DejaVuSans-79\"/>\n     <use x=\"114.160156\" xlink:href=\"#DejaVuSans-6c\"/>\n     <use x=\"141.943359\" xlink:href=\"#DejaVuSans-69\"/>\n     <use x=\"169.726562\" xlink:href=\"#DejaVuSans-6e\"/>\n     <use x=\"233.105469\" xlink:href=\"#DejaVuSans-64\"/>\n     <use x=\"296.582031\" xlink:href=\"#DejaVuSans-72\"/>\n     <use x=\"335.445312\" xlink:href=\"#DejaVuSans-65\"/>\n     <use x=\"396.96875\" xlink:href=\"#DejaVuSans-65\"/>\n    </g>\n   </g>\n  </g>\n  <g id=\"axes_3\">\n   <g id=\"patch_32\">\n    <path d=\"M 826.5625 324.318125 \nL 1136.5625 324.318125 \nL 1136.5625 22.318125 \nL 826.5625 22.318125 \nz\n\" style=\"fill:#ffffff;\"/>\n   </g>\n   <g id=\"patch_33\">\n    <path clip-path=\"url(#pb39f30f4be)\" d=\"M 840.653409 324.318125 \nL 868.835227 324.318125 \nL 868.835227 36.699077 \nL 840.653409 36.699077 \nz\n\" style=\"fill:#1f77b4;\"/>\n   </g>\n   <g id=\"patch_34\">\n    <path clip-path=\"url(#pb39f30f4be)\" d=\"M 868.835227 324.318125 \nL 897.017045 324.318125 \nL 897.017045 36.699077 \nL 868.835227 36.699077 \nz\n\" style=\"fill:#1f77b4;\"/>\n   </g>\n   <g id=\"patch_35\">\n    <path clip-path=\"url(#pb39f30f4be)\" d=\"M 897.017045 324.318125 \nL 925.198864 324.318125 \nL 925.198864 252.413363 \nL 897.017045 252.413363 \nz\n\" style=\"fill:#1f77b4;\"/>\n   </g>\n   <g id=\"patch_36\">\n    <path clip-path=\"url(#pb39f30f4be)\" d=\"M 925.198864 324.318125 \nL 953.380682 324.318125 \nL 953.380682 36.699077 \nL 925.198864 36.699077 \nz\n\" style=\"fill:#1f77b4;\"/>\n   </g>\n   <g id=\"patch_37\">\n    <path clip-path=\"url(#pb39f30f4be)\" d=\"M 953.380682 324.318125 \nL 981.5625 324.318125 \nL 981.5625 252.413363 \nL 953.380682 252.413363 \nz\n\" style=\"fill:#1f77b4;\"/>\n   </g>\n   <g id=\"patch_38\">\n    <path clip-path=\"url(#pb39f30f4be)\" d=\"M 981.5625 324.318125 \nL 1009.744318 324.318125 \nL 1009.744318 36.699077 \nL 981.5625 36.699077 \nz\n\" style=\"fill:#1f77b4;\"/>\n   </g>\n   <g id=\"patch_39\">\n    <path clip-path=\"url(#pb39f30f4be)\" d=\"M 1009.744318 324.318125 \nL 1037.926136 324.318125 \nL 1037.926136 36.699077 \nL 1009.744318 36.699077 \nz\n\" style=\"fill:#1f77b4;\"/>\n   </g>\n   <g id=\"patch_40\">\n    <path clip-path=\"url(#pb39f30f4be)\" d=\"M 1037.926136 324.318125 \nL 1066.107955 324.318125 \nL 1066.107955 108.603839 \nL 1037.926136 108.603839 \nz\n\" style=\"fill:#1f77b4;\"/>\n   </g>\n   <g id=\"patch_41\">\n    <path clip-path=\"url(#pb39f30f4be)\" d=\"M 1066.107955 324.318125 \nL 1094.289773 324.318125 \nL 1094.289773 108.603839 \nL 1066.107955 108.603839 \nz\n\" style=\"fill:#1f77b4;\"/>\n   </g>\n   <g id=\"patch_42\">\n    <path clip-path=\"url(#pb39f30f4be)\" d=\"M 1094.289773 324.318125 \nL 1122.471591 324.318125 \nL 1122.471591 108.603839 \nL 1094.289773 108.603839 \nz\n\" style=\"fill:#1f77b4;\"/>\n   </g>\n   <g id=\"matplotlib.axis_5\">\n    <g id=\"xtick_15\">\n     <g id=\"line2d_57\">\n      <path clip-path=\"url(#pb39f30f4be)\" d=\"M 868.835227 324.318125 \nL 868.835227 22.318125 \n\" style=\"fill:none;stroke:#b0b0b0;stroke-linecap:square;stroke-width:0.8;\"/>\n     </g>\n     <g id=\"line2d_58\">\n      <g>\n       <use style=\"stroke:#000000;stroke-width:0.8;\" x=\"868.835227\" xlink:href=\"#m4b6f2be80e\" y=\"324.318125\"/>\n      </g>\n     </g>\n     <g id=\"text_31\">\n      <!-- 160 -->\n      <g transform=\"translate(859.291477 338.916563)scale(0.1 -0.1)\">\n       <use xlink:href=\"#DejaVuSans-31\"/>\n       <use x=\"63.623047\" xlink:href=\"#DejaVuSans-36\"/>\n       <use x=\"127.246094\" xlink:href=\"#DejaVuSans-30\"/>\n      </g>\n     </g>\n    </g>\n    <g id=\"xtick_16\">\n     <g id=\"line2d_59\">\n      <path clip-path=\"url(#pb39f30f4be)\" d=\"M 925.198864 324.318125 \nL 925.198864 22.318125 \n\" style=\"fill:none;stroke:#b0b0b0;stroke-linecap:square;stroke-width:0.8;\"/>\n     </g>\n     <g id=\"line2d_60\">\n      <g>\n       <use style=\"stroke:#000000;stroke-width:0.8;\" x=\"925.198864\" xlink:href=\"#m4b6f2be80e\" y=\"324.318125\"/>\n      </g>\n     </g>\n     <g id=\"text_32\">\n      <!-- 180 -->\n      <g transform=\"translate(915.655114 338.916563)scale(0.1 -0.1)\">\n       <use xlink:href=\"#DejaVuSans-31\"/>\n       <use x=\"63.623047\" xlink:href=\"#DejaVuSans-38\"/>\n       <use x=\"127.246094\" xlink:href=\"#DejaVuSans-30\"/>\n      </g>\n     </g>\n    </g>\n    <g id=\"xtick_17\">\n     <g id=\"line2d_61\">\n      <path clip-path=\"url(#pb39f30f4be)\" d=\"M 981.5625 324.318125 \nL 981.5625 22.318125 \n\" style=\"fill:none;stroke:#b0b0b0;stroke-linecap:square;stroke-width:0.8;\"/>\n     </g>\n     <g id=\"line2d_62\">\n      <g>\n       <use style=\"stroke:#000000;stroke-width:0.8;\" x=\"981.5625\" xlink:href=\"#m4b6f2be80e\" y=\"324.318125\"/>\n      </g>\n     </g>\n     <g id=\"text_33\">\n      <!-- 200 -->\n      <g transform=\"translate(972.01875 338.916563)scale(0.1 -0.1)\">\n       <use xlink:href=\"#DejaVuSans-32\"/>\n       <use x=\"63.623047\" xlink:href=\"#DejaVuSans-30\"/>\n       <use x=\"127.246094\" xlink:href=\"#DejaVuSans-30\"/>\n      </g>\n     </g>\n    </g>\n    <g id=\"xtick_18\">\n     <g id=\"line2d_63\">\n      <path clip-path=\"url(#pb39f30f4be)\" d=\"M 1037.926136 324.318125 \nL 1037.926136 22.318125 \n\" style=\"fill:none;stroke:#b0b0b0;stroke-linecap:square;stroke-width:0.8;\"/>\n     </g>\n     <g id=\"line2d_64\">\n      <g>\n       <use style=\"stroke:#000000;stroke-width:0.8;\" x=\"1037.926136\" xlink:href=\"#m4b6f2be80e\" y=\"324.318125\"/>\n      </g>\n     </g>\n     <g id=\"text_34\">\n      <!-- 220 -->\n      <g transform=\"translate(1028.382386 338.916563)scale(0.1 -0.1)\">\n       <use xlink:href=\"#DejaVuSans-32\"/>\n       <use x=\"63.623047\" xlink:href=\"#DejaVuSans-32\"/>\n       <use x=\"127.246094\" xlink:href=\"#DejaVuSans-30\"/>\n      </g>\n     </g>\n    </g>\n    <g id=\"xtick_19\">\n     <g id=\"line2d_65\">\n      <path clip-path=\"url(#pb39f30f4be)\" d=\"M 1094.289773 324.318125 \nL 1094.289773 22.318125 \n\" style=\"fill:none;stroke:#b0b0b0;stroke-linecap:square;stroke-width:0.8;\"/>\n     </g>\n     <g id=\"line2d_66\">\n      <g>\n       <use style=\"stroke:#000000;stroke-width:0.8;\" x=\"1094.289773\" xlink:href=\"#m4b6f2be80e\" y=\"324.318125\"/>\n      </g>\n     </g>\n     <g id=\"text_35\">\n      <!-- 240 -->\n      <g transform=\"translate(1084.746023 338.916563)scale(0.1 -0.1)\">\n       <use xlink:href=\"#DejaVuSans-32\"/>\n       <use x=\"63.623047\" xlink:href=\"#DejaVuSans-34\"/>\n       <use x=\"127.246094\" xlink:href=\"#DejaVuSans-30\"/>\n      </g>\n     </g>\n    </g>\n   </g>\n   <g id=\"matplotlib.axis_6\">\n    <g id=\"ytick_15\">\n     <g id=\"line2d_67\">\n      <path clip-path=\"url(#pb39f30f4be)\" d=\"M 826.5625 324.318125 \nL 1136.5625 324.318125 \n\" style=\"fill:none;stroke:#b0b0b0;stroke-linecap:square;stroke-width:0.8;\"/>\n     </g>\n     <g id=\"line2d_68\">\n      <g>\n       <use style=\"stroke:#000000;stroke-width:0.8;\" x=\"826.5625\" xlink:href=\"#m66f3358685\" y=\"324.318125\"/>\n      </g>\n     </g>\n     <g id=\"text_36\">\n      <!-- 0.0 -->\n      <g transform=\"translate(803.659375 328.117344)scale(0.1 -0.1)\">\n       <defs>\n        <path d=\"M 684 794 \nL 1344 794 \nL 1344 0 \nL 684 0 \nL 684 794 \nz\n\" id=\"DejaVuSans-2e\" transform=\"scale(0.015625)\"/>\n       </defs>\n       <use xlink:href=\"#DejaVuSans-30\"/>\n       <use x=\"63.623047\" xlink:href=\"#DejaVuSans-2e\"/>\n       <use x=\"95.410156\" xlink:href=\"#DejaVuSans-30\"/>\n      </g>\n     </g>\n    </g>\n    <g id=\"ytick_16\">\n     <g id=\"line2d_69\">\n      <path clip-path=\"url(#pb39f30f4be)\" d=\"M 826.5625 288.365744 \nL 1136.5625 288.365744 \n\" style=\"fill:none;stroke:#b0b0b0;stroke-linecap:square;stroke-width:0.8;\"/>\n     </g>\n     <g id=\"line2d_70\">\n      <g>\n       <use style=\"stroke:#000000;stroke-width:0.8;\" x=\"826.5625\" xlink:href=\"#m66f3358685\" y=\"288.365744\"/>\n      </g>\n     </g>\n     <g id=\"text_37\">\n      <!-- 0.5 -->\n      <g transform=\"translate(803.659375 292.164963)scale(0.1 -0.1)\">\n       <use xlink:href=\"#DejaVuSans-30\"/>\n       <use x=\"63.623047\" xlink:href=\"#DejaVuSans-2e\"/>\n       <use x=\"95.410156\" xlink:href=\"#DejaVuSans-35\"/>\n      </g>\n     </g>\n    </g>\n    <g id=\"ytick_17\">\n     <g id=\"line2d_71\">\n      <path clip-path=\"url(#pb39f30f4be)\" d=\"M 826.5625 252.413363 \nL 1136.5625 252.413363 \n\" style=\"fill:none;stroke:#b0b0b0;stroke-linecap:square;stroke-width:0.8;\"/>\n     </g>\n     <g id=\"line2d_72\">\n      <g>\n       <use style=\"stroke:#000000;stroke-width:0.8;\" x=\"826.5625\" xlink:href=\"#m66f3358685\" y=\"252.413363\"/>\n      </g>\n     </g>\n     <g id=\"text_38\">\n      <!-- 1.0 -->\n      <g transform=\"translate(803.659375 256.212582)scale(0.1 -0.1)\">\n       <use xlink:href=\"#DejaVuSans-31\"/>\n       <use x=\"63.623047\" xlink:href=\"#DejaVuSans-2e\"/>\n       <use x=\"95.410156\" xlink:href=\"#DejaVuSans-30\"/>\n      </g>\n     </g>\n    </g>\n    <g id=\"ytick_18\">\n     <g id=\"line2d_73\">\n      <path clip-path=\"url(#pb39f30f4be)\" d=\"M 826.5625 216.460982 \nL 1136.5625 216.460982 \n\" style=\"fill:none;stroke:#b0b0b0;stroke-linecap:square;stroke-width:0.8;\"/>\n     </g>\n     <g id=\"line2d_74\">\n      <g>\n       <use style=\"stroke:#000000;stroke-width:0.8;\" x=\"826.5625\" xlink:href=\"#m66f3358685\" y=\"216.460982\"/>\n      </g>\n     </g>\n     <g id=\"text_39\">\n      <!-- 1.5 -->\n      <g transform=\"translate(803.659375 220.260201)scale(0.1 -0.1)\">\n       <use xlink:href=\"#DejaVuSans-31\"/>\n       <use x=\"63.623047\" xlink:href=\"#DejaVuSans-2e\"/>\n       <use x=\"95.410156\" xlink:href=\"#DejaVuSans-35\"/>\n      </g>\n     </g>\n    </g>\n    <g id=\"ytick_19\">\n     <g id=\"line2d_75\">\n      <path clip-path=\"url(#pb39f30f4be)\" d=\"M 826.5625 180.508601 \nL 1136.5625 180.508601 \n\" style=\"fill:none;stroke:#b0b0b0;stroke-linecap:square;stroke-width:0.8;\"/>\n     </g>\n     <g id=\"line2d_76\">\n      <g>\n       <use style=\"stroke:#000000;stroke-width:0.8;\" x=\"826.5625\" xlink:href=\"#m66f3358685\" y=\"180.508601\"/>\n      </g>\n     </g>\n     <g id=\"text_40\">\n      <!-- 2.0 -->\n      <g transform=\"translate(803.659375 184.30782)scale(0.1 -0.1)\">\n       <use xlink:href=\"#DejaVuSans-32\"/>\n       <use x=\"63.623047\" xlink:href=\"#DejaVuSans-2e\"/>\n       <use x=\"95.410156\" xlink:href=\"#DejaVuSans-30\"/>\n      </g>\n     </g>\n    </g>\n    <g id=\"ytick_20\">\n     <g id=\"line2d_77\">\n      <path clip-path=\"url(#pb39f30f4be)\" d=\"M 826.5625 144.55622 \nL 1136.5625 144.55622 \n\" style=\"fill:none;stroke:#b0b0b0;stroke-linecap:square;stroke-width:0.8;\"/>\n     </g>\n     <g id=\"line2d_78\">\n      <g>\n       <use style=\"stroke:#000000;stroke-width:0.8;\" x=\"826.5625\" xlink:href=\"#m66f3358685\" y=\"144.55622\"/>\n      </g>\n     </g>\n     <g id=\"text_41\">\n      <!-- 2.5 -->\n      <g transform=\"translate(803.659375 148.355439)scale(0.1 -0.1)\">\n       <use xlink:href=\"#DejaVuSans-32\"/>\n       <use x=\"63.623047\" xlink:href=\"#DejaVuSans-2e\"/>\n       <use x=\"95.410156\" xlink:href=\"#DejaVuSans-35\"/>\n      </g>\n     </g>\n    </g>\n    <g id=\"ytick_21\">\n     <g id=\"line2d_79\">\n      <path clip-path=\"url(#pb39f30f4be)\" d=\"M 826.5625 108.603839 \nL 1136.5625 108.603839 \n\" style=\"fill:none;stroke:#b0b0b0;stroke-linecap:square;stroke-width:0.8;\"/>\n     </g>\n     <g id=\"line2d_80\">\n      <g>\n       <use style=\"stroke:#000000;stroke-width:0.8;\" x=\"826.5625\" xlink:href=\"#m66f3358685\" y=\"108.603839\"/>\n      </g>\n     </g>\n     <g id=\"text_42\">\n      <!-- 3.0 -->\n      <g transform=\"translate(803.659375 112.403058)scale(0.1 -0.1)\">\n       <use xlink:href=\"#DejaVuSans-33\"/>\n       <use x=\"63.623047\" xlink:href=\"#DejaVuSans-2e\"/>\n       <use x=\"95.410156\" xlink:href=\"#DejaVuSans-30\"/>\n      </g>\n     </g>\n    </g>\n    <g id=\"ytick_22\">\n     <g id=\"line2d_81\">\n      <path clip-path=\"url(#pb39f30f4be)\" d=\"M 826.5625 72.651458 \nL 1136.5625 72.651458 \n\" style=\"fill:none;stroke:#b0b0b0;stroke-linecap:square;stroke-width:0.8;\"/>\n     </g>\n     <g id=\"line2d_82\">\n      <g>\n       <use style=\"stroke:#000000;stroke-width:0.8;\" x=\"826.5625\" xlink:href=\"#m66f3358685\" y=\"72.651458\"/>\n      </g>\n     </g>\n     <g id=\"text_43\">\n      <!-- 3.5 -->\n      <g transform=\"translate(803.659375 76.450677)scale(0.1 -0.1)\">\n       <use xlink:href=\"#DejaVuSans-33\"/>\n       <use x=\"63.623047\" xlink:href=\"#DejaVuSans-2e\"/>\n       <use x=\"95.410156\" xlink:href=\"#DejaVuSans-35\"/>\n      </g>\n     </g>\n    </g>\n    <g id=\"ytick_23\">\n     <g id=\"line2d_83\">\n      <path clip-path=\"url(#pb39f30f4be)\" d=\"M 826.5625 36.699077 \nL 1136.5625 36.699077 \n\" style=\"fill:none;stroke:#b0b0b0;stroke-linecap:square;stroke-width:0.8;\"/>\n     </g>\n     <g id=\"line2d_84\">\n      <g>\n       <use style=\"stroke:#000000;stroke-width:0.8;\" x=\"826.5625\" xlink:href=\"#m66f3358685\" y=\"36.699077\"/>\n      </g>\n     </g>\n     <g id=\"text_44\">\n      <!-- 4.0 -->\n      <g transform=\"translate(803.659375 40.498296)scale(0.1 -0.1)\">\n       <use xlink:href=\"#DejaVuSans-34\"/>\n       <use x=\"63.623047\" xlink:href=\"#DejaVuSans-2e\"/>\n       <use x=\"95.410156\" xlink:href=\"#DejaVuSans-30\"/>\n      </g>\n     </g>\n    </g>\n   </g>\n   <g id=\"patch_43\">\n    <path d=\"M 826.5625 324.318125 \nL 826.5625 22.318125 \n\" style=\"fill:none;stroke:#000000;stroke-linecap:square;stroke-linejoin:miter;stroke-width:0.8;\"/>\n   </g>\n   <g id=\"patch_44\">\n    <path d=\"M 1136.5625 324.318125 \nL 1136.5625 22.318125 \n\" style=\"fill:none;stroke:#000000;stroke-linecap:square;stroke-linejoin:miter;stroke-width:0.8;\"/>\n   </g>\n   <g id=\"patch_45\">\n    <path d=\"M 826.5625 324.318125 \nL 1136.5625 324.318125 \n\" style=\"fill:none;stroke:#000000;stroke-linecap:square;stroke-linejoin:miter;stroke-width:0.8;\"/>\n   </g>\n   <g id=\"patch_46\">\n    <path d=\"M 826.5625 22.318125 \nL 1136.5625 22.318125 \n\" style=\"fill:none;stroke:#000000;stroke-linecap:square;stroke-linejoin:miter;stroke-width:0.8;\"/>\n   </g>\n   <g id=\"text_45\">\n    <!-- vitesse -->\n    <g transform=\"translate(960.357188 16.318125)scale(0.12 -0.12)\">\n     <defs>\n      <path d=\"M 191 3500 \nL 800 3500 \nL 1894 563 \nL 2988 3500 \nL 3597 3500 \nL 2284 0 \nL 1503 0 \nL 191 3500 \nz\n\" id=\"DejaVuSans-76\" transform=\"scale(0.015625)\"/>\n      <path d=\"M 1172 4494 \nL 1172 3500 \nL 2356 3500 \nL 2356 3053 \nL 1172 3053 \nL 1172 1153 \nQ 1172 725 1289 603 \nQ 1406 481 1766 481 \nL 2356 481 \nL 2356 0 \nL 1766 0 \nQ 1100 0 847 248 \nQ 594 497 594 1153 \nL 594 3053 \nL 172 3053 \nL 172 3500 \nL 594 3500 \nL 594 4494 \nL 1172 4494 \nz\n\" id=\"DejaVuSans-74\" transform=\"scale(0.015625)\"/>\n     </defs>\n     <use xlink:href=\"#DejaVuSans-76\"/>\n     <use x=\"59.179688\" xlink:href=\"#DejaVuSans-69\"/>\n     <use x=\"86.962891\" xlink:href=\"#DejaVuSans-74\"/>\n     <use x=\"126.171875\" xlink:href=\"#DejaVuSans-65\"/>\n     <use x=\"187.695312\" xlink:href=\"#DejaVuSans-73\"/>\n     <use x=\"239.794922\" xlink:href=\"#DejaVuSans-73\"/>\n     <use x=\"291.894531\" xlink:href=\"#DejaVuSans-65\"/>\n    </g>\n   </g>\n  </g>\n  <g id=\"axes_4\">\n   <g id=\"patch_47\">\n    <path d=\"M 20.5625 716.918125 \nL 330.5625 716.918125 \nL 330.5625 414.918125 \nL 20.5625 414.918125 \nz\n\" style=\"fill:#ffffff;\"/>\n   </g>\n   <g id=\"patch_48\">\n    <path clip-path=\"url(#pbe13d09ecb)\" d=\"M 34.653409 716.918125 \nL 62.835227 716.918125 \nL 62.835227 601.870506 \nL 34.653409 601.870506 \nz\n\" style=\"fill:#1f77b4;\"/>\n   </g>\n   <g id=\"patch_49\">\n    <path clip-path=\"url(#pbe13d09ecb)\" d=\"M 62.835227 716.918125 \nL 91.017045 716.918125 \nL 91.017045 601.870506 \nL 62.835227 601.870506 \nz\n\" style=\"fill:#1f77b4;\"/>\n   </g>\n   <g id=\"patch_50\">\n    <path clip-path=\"url(#pbe13d09ecb)\" d=\"M 91.017045 716.918125 \nL 119.198864 716.918125 \nL 119.198864 429.299077 \nL 91.017045 429.299077 \nz\n\" style=\"fill:#1f77b4;\"/>\n   </g>\n   <g id=\"patch_51\">\n    <path clip-path=\"url(#pbe13d09ecb)\" d=\"M 119.198864 716.918125 \nL 147.380682 716.918125 \nL 147.380682 601.870506 \nL 119.198864 601.870506 \nz\n\" style=\"fill:#1f77b4;\"/>\n   </g>\n   <g id=\"patch_52\">\n    <path clip-path=\"url(#pbe13d09ecb)\" d=\"M 147.380682 716.918125 \nL 175.5625 716.918125 \nL 175.5625 716.918125 \nL 147.380682 716.918125 \nz\n\" style=\"fill:#1f77b4;\"/>\n   </g>\n   <g id=\"patch_53\">\n    <path clip-path=\"url(#pbe13d09ecb)\" d=\"M 175.5625 716.918125 \nL 203.744318 716.918125 \nL 203.744318 486.822887 \nL 175.5625 486.822887 \nz\n\" style=\"fill:#1f77b4;\"/>\n   </g>\n   <g id=\"patch_54\">\n    <path clip-path=\"url(#pbe13d09ecb)\" d=\"M 203.744318 716.918125 \nL 231.926136 716.918125 \nL 231.926136 486.822887 \nL 203.744318 486.822887 \nz\n\" style=\"fill:#1f77b4;\"/>\n   </g>\n   <g id=\"patch_55\">\n    <path clip-path=\"url(#pbe13d09ecb)\" d=\"M 231.926136 716.918125 \nL 260.107955 716.918125 \nL 260.107955 544.346696 \nL 231.926136 544.346696 \nz\n\" style=\"fill:#1f77b4;\"/>\n   </g>\n   <g id=\"patch_56\">\n    <path clip-path=\"url(#pbe13d09ecb)\" d=\"M 260.107955 716.918125 \nL 288.289773 716.918125 \nL 288.289773 429.299077 \nL 260.107955 429.299077 \nz\n\" style=\"fill:#1f77b4;\"/>\n   </g>\n   <g id=\"patch_57\">\n    <path clip-path=\"url(#pbe13d09ecb)\" d=\"M 288.289773 716.918125 \nL 316.471591 716.918125 \nL 316.471591 486.822887 \nL 288.289773 486.822887 \nz\n\" style=\"fill:#1f77b4;\"/>\n   </g>\n   <g id=\"matplotlib.axis_7\">\n    <g id=\"xtick_20\">\n     <g id=\"line2d_85\">\n      <path clip-path=\"url(#pbe13d09ecb)\" d=\"M 26.984887 716.918125 \nL 26.984887 414.918125 \n\" style=\"fill:none;stroke:#b0b0b0;stroke-linecap:square;stroke-width:0.8;\"/>\n     </g>\n     <g id=\"line2d_86\">\n      <g>\n       <use style=\"stroke:#000000;stroke-width:0.8;\" x=\"26.984887\" xlink:href=\"#m4b6f2be80e\" y=\"716.918125\"/>\n      </g>\n     </g>\n     <g id=\"text_46\">\n      <!-- 340 -->\n      <g transform=\"translate(17.441137 731.516563)scale(0.1 -0.1)\">\n       <use xlink:href=\"#DejaVuSans-33\"/>\n       <use x=\"63.623047\" xlink:href=\"#DejaVuSans-34\"/>\n       <use x=\"127.246094\" xlink:href=\"#DejaVuSans-30\"/>\n      </g>\n     </g>\n    </g>\n    <g id=\"xtick_21\">\n     <g id=\"line2d_87\">\n      <path clip-path=\"url(#pbe13d09ecb)\" d=\"M 65.327497 716.918125 \nL 65.327497 414.918125 \n\" style=\"fill:none;stroke:#b0b0b0;stroke-linecap:square;stroke-width:0.8;\"/>\n     </g>\n     <g id=\"line2d_88\">\n      <g>\n       <use style=\"stroke:#000000;stroke-width:0.8;\" x=\"65.327497\" xlink:href=\"#m4b6f2be80e\" y=\"716.918125\"/>\n      </g>\n     </g>\n     <g id=\"text_47\">\n      <!-- 360 -->\n      <g transform=\"translate(55.783747 731.516563)scale(0.1 -0.1)\">\n       <use xlink:href=\"#DejaVuSans-33\"/>\n       <use x=\"63.623047\" xlink:href=\"#DejaVuSans-36\"/>\n       <use x=\"127.246094\" xlink:href=\"#DejaVuSans-30\"/>\n      </g>\n     </g>\n    </g>\n    <g id=\"xtick_22\">\n     <g id=\"line2d_89\">\n      <path clip-path=\"url(#pbe13d09ecb)\" d=\"M 103.670107 716.918125 \nL 103.670107 414.918125 \n\" style=\"fill:none;stroke:#b0b0b0;stroke-linecap:square;stroke-width:0.8;\"/>\n     </g>\n     <g id=\"line2d_90\">\n      <g>\n       <use style=\"stroke:#000000;stroke-width:0.8;\" x=\"103.670107\" xlink:href=\"#m4b6f2be80e\" y=\"716.918125\"/>\n      </g>\n     </g>\n     <g id=\"text_48\">\n      <!-- 380 -->\n      <g transform=\"translate(94.126357 731.516563)scale(0.1 -0.1)\">\n       <use xlink:href=\"#DejaVuSans-33\"/>\n       <use x=\"63.623047\" xlink:href=\"#DejaVuSans-38\"/>\n       <use x=\"127.246094\" xlink:href=\"#DejaVuSans-30\"/>\n      </g>\n     </g>\n    </g>\n    <g id=\"xtick_23\">\n     <g id=\"line2d_91\">\n      <path clip-path=\"url(#pbe13d09ecb)\" d=\"M 142.012716 716.918125 \nL 142.012716 414.918125 \n\" style=\"fill:none;stroke:#b0b0b0;stroke-linecap:square;stroke-width:0.8;\"/>\n     </g>\n     <g id=\"line2d_92\">\n      <g>\n       <use style=\"stroke:#000000;stroke-width:0.8;\" x=\"142.012716\" xlink:href=\"#m4b6f2be80e\" y=\"716.918125\"/>\n      </g>\n     </g>\n     <g id=\"text_49\">\n      <!-- 400 -->\n      <g transform=\"translate(132.468966 731.516563)scale(0.1 -0.1)\">\n       <use xlink:href=\"#DejaVuSans-34\"/>\n       <use x=\"63.623047\" xlink:href=\"#DejaVuSans-30\"/>\n       <use x=\"127.246094\" xlink:href=\"#DejaVuSans-30\"/>\n      </g>\n     </g>\n    </g>\n    <g id=\"xtick_24\">\n     <g id=\"line2d_93\">\n      <path clip-path=\"url(#pbe13d09ecb)\" d=\"M 180.355326 716.918125 \nL 180.355326 414.918125 \n\" style=\"fill:none;stroke:#b0b0b0;stroke-linecap:square;stroke-width:0.8;\"/>\n     </g>\n     <g id=\"line2d_94\">\n      <g>\n       <use style=\"stroke:#000000;stroke-width:0.8;\" x=\"180.355326\" xlink:href=\"#m4b6f2be80e\" y=\"716.918125\"/>\n      </g>\n     </g>\n     <g id=\"text_50\">\n      <!-- 420 -->\n      <g transform=\"translate(170.811576 731.516563)scale(0.1 -0.1)\">\n       <use xlink:href=\"#DejaVuSans-34\"/>\n       <use x=\"63.623047\" xlink:href=\"#DejaVuSans-32\"/>\n       <use x=\"127.246094\" xlink:href=\"#DejaVuSans-30\"/>\n      </g>\n     </g>\n    </g>\n    <g id=\"xtick_25\">\n     <g id=\"line2d_95\">\n      <path clip-path=\"url(#pbe13d09ecb)\" d=\"M 218.697936 716.918125 \nL 218.697936 414.918125 \n\" style=\"fill:none;stroke:#b0b0b0;stroke-linecap:square;stroke-width:0.8;\"/>\n     </g>\n     <g id=\"line2d_96\">\n      <g>\n       <use style=\"stroke:#000000;stroke-width:0.8;\" x=\"218.697936\" xlink:href=\"#m4b6f2be80e\" y=\"716.918125\"/>\n      </g>\n     </g>\n     <g id=\"text_51\">\n      <!-- 440 -->\n      <g transform=\"translate(209.154186 731.516563)scale(0.1 -0.1)\">\n       <use xlink:href=\"#DejaVuSans-34\"/>\n       <use x=\"63.623047\" xlink:href=\"#DejaVuSans-34\"/>\n       <use x=\"127.246094\" xlink:href=\"#DejaVuSans-30\"/>\n      </g>\n     </g>\n    </g>\n    <g id=\"xtick_26\">\n     <g id=\"line2d_97\">\n      <path clip-path=\"url(#pbe13d09ecb)\" d=\"M 257.040546 716.918125 \nL 257.040546 414.918125 \n\" style=\"fill:none;stroke:#b0b0b0;stroke-linecap:square;stroke-width:0.8;\"/>\n     </g>\n     <g id=\"line2d_98\">\n      <g>\n       <use style=\"stroke:#000000;stroke-width:0.8;\" x=\"257.040546\" xlink:href=\"#m4b6f2be80e\" y=\"716.918125\"/>\n      </g>\n     </g>\n     <g id=\"text_52\">\n      <!-- 460 -->\n      <g transform=\"translate(247.496796 731.516563)scale(0.1 -0.1)\">\n       <use xlink:href=\"#DejaVuSans-34\"/>\n       <use x=\"63.623047\" xlink:href=\"#DejaVuSans-36\"/>\n       <use x=\"127.246094\" xlink:href=\"#DejaVuSans-30\"/>\n      </g>\n     </g>\n    </g>\n    <g id=\"xtick_27\">\n     <g id=\"line2d_99\">\n      <path clip-path=\"url(#pbe13d09ecb)\" d=\"M 295.383156 716.918125 \nL 295.383156 414.918125 \n\" style=\"fill:none;stroke:#b0b0b0;stroke-linecap:square;stroke-width:0.8;\"/>\n     </g>\n     <g id=\"line2d_100\">\n      <g>\n       <use style=\"stroke:#000000;stroke-width:0.8;\" x=\"295.383156\" xlink:href=\"#m4b6f2be80e\" y=\"716.918125\"/>\n      </g>\n     </g>\n     <g id=\"text_53\">\n      <!-- 480 -->\n      <g transform=\"translate(285.839406 731.516563)scale(0.1 -0.1)\">\n       <use xlink:href=\"#DejaVuSans-34\"/>\n       <use x=\"63.623047\" xlink:href=\"#DejaVuSans-38\"/>\n       <use x=\"127.246094\" xlink:href=\"#DejaVuSans-30\"/>\n      </g>\n     </g>\n    </g>\n   </g>\n   <g id=\"matplotlib.axis_8\">\n    <g id=\"ytick_24\">\n     <g id=\"line2d_101\">\n      <path clip-path=\"url(#pbe13d09ecb)\" d=\"M 20.5625 716.918125 \nL 330.5625 716.918125 \n\" style=\"fill:none;stroke:#b0b0b0;stroke-linecap:square;stroke-width:0.8;\"/>\n     </g>\n     <g id=\"line2d_102\">\n      <g>\n       <use style=\"stroke:#000000;stroke-width:0.8;\" x=\"20.5625\" xlink:href=\"#m66f3358685\" y=\"716.918125\"/>\n      </g>\n     </g>\n     <g id=\"text_54\">\n      <!-- 0 -->\n      <g transform=\"translate(7.2 720.717344)scale(0.1 -0.1)\">\n       <use xlink:href=\"#DejaVuSans-30\"/>\n      </g>\n     </g>\n    </g>\n    <g id=\"ytick_25\">\n     <g id=\"line2d_103\">\n      <path clip-path=\"url(#pbe13d09ecb)\" d=\"M 20.5625 659.394315 \nL 330.5625 659.394315 \n\" style=\"fill:none;stroke:#b0b0b0;stroke-linecap:square;stroke-width:0.8;\"/>\n     </g>\n     <g id=\"line2d_104\">\n      <g>\n       <use style=\"stroke:#000000;stroke-width:0.8;\" x=\"20.5625\" xlink:href=\"#m66f3358685\" y=\"659.394315\"/>\n      </g>\n     </g>\n     <g id=\"text_55\">\n      <!-- 1 -->\n      <g transform=\"translate(7.2 663.193534)scale(0.1 -0.1)\">\n       <use xlink:href=\"#DejaVuSans-31\"/>\n      </g>\n     </g>\n    </g>\n    <g id=\"ytick_26\">\n     <g id=\"line2d_105\">\n      <path clip-path=\"url(#pbe13d09ecb)\" d=\"M 20.5625 601.870506 \nL 330.5625 601.870506 \n\" style=\"fill:none;stroke:#b0b0b0;stroke-linecap:square;stroke-width:0.8;\"/>\n     </g>\n     <g id=\"line2d_106\">\n      <g>\n       <use style=\"stroke:#000000;stroke-width:0.8;\" x=\"20.5625\" xlink:href=\"#m66f3358685\" y=\"601.870506\"/>\n      </g>\n     </g>\n     <g id=\"text_56\">\n      <!-- 2 -->\n      <g transform=\"translate(7.2 605.669725)scale(0.1 -0.1)\">\n       <use xlink:href=\"#DejaVuSans-32\"/>\n      </g>\n     </g>\n    </g>\n    <g id=\"ytick_27\">\n     <g id=\"line2d_107\">\n      <path clip-path=\"url(#pbe13d09ecb)\" d=\"M 20.5625 544.346696 \nL 330.5625 544.346696 \n\" style=\"fill:none;stroke:#b0b0b0;stroke-linecap:square;stroke-width:0.8;\"/>\n     </g>\n     <g id=\"line2d_108\">\n      <g>\n       <use style=\"stroke:#000000;stroke-width:0.8;\" x=\"20.5625\" xlink:href=\"#m66f3358685\" y=\"544.346696\"/>\n      </g>\n     </g>\n     <g id=\"text_57\">\n      <!-- 3 -->\n      <g transform=\"translate(7.2 548.145915)scale(0.1 -0.1)\">\n       <use xlink:href=\"#DejaVuSans-33\"/>\n      </g>\n     </g>\n    </g>\n    <g id=\"ytick_28\">\n     <g id=\"line2d_109\">\n      <path clip-path=\"url(#pbe13d09ecb)\" d=\"M 20.5625 486.822887 \nL 330.5625 486.822887 \n\" style=\"fill:none;stroke:#b0b0b0;stroke-linecap:square;stroke-width:0.8;\"/>\n     </g>\n     <g id=\"line2d_110\">\n      <g>\n       <use style=\"stroke:#000000;stroke-width:0.8;\" x=\"20.5625\" xlink:href=\"#m66f3358685\" y=\"486.822887\"/>\n      </g>\n     </g>\n     <g id=\"text_58\">\n      <!-- 4 -->\n      <g transform=\"translate(7.2 490.622106)scale(0.1 -0.1)\">\n       <use xlink:href=\"#DejaVuSans-34\"/>\n      </g>\n     </g>\n    </g>\n    <g id=\"ytick_29\">\n     <g id=\"line2d_111\">\n      <path clip-path=\"url(#pbe13d09ecb)\" d=\"M 20.5625 429.299077 \nL 330.5625 429.299077 \n\" style=\"fill:none;stroke:#b0b0b0;stroke-linecap:square;stroke-width:0.8;\"/>\n     </g>\n     <g id=\"line2d_112\">\n      <g>\n       <use style=\"stroke:#000000;stroke-width:0.8;\" x=\"20.5625\" xlink:href=\"#m66f3358685\" y=\"429.299077\"/>\n      </g>\n     </g>\n     <g id=\"text_59\">\n      <!-- 5 -->\n      <g transform=\"translate(7.2 433.098296)scale(0.1 -0.1)\">\n       <use xlink:href=\"#DejaVuSans-35\"/>\n      </g>\n     </g>\n    </g>\n   </g>\n   <g id=\"patch_58\">\n    <path d=\"M 20.5625 716.918125 \nL 20.5625 414.918125 \n\" style=\"fill:none;stroke:#000000;stroke-linecap:square;stroke-linejoin:miter;stroke-width:0.8;\"/>\n   </g>\n   <g id=\"patch_59\">\n    <path d=\"M 330.5625 716.918125 \nL 330.5625 414.918125 \n\" style=\"fill:none;stroke:#000000;stroke-linecap:square;stroke-linejoin:miter;stroke-width:0.8;\"/>\n   </g>\n   <g id=\"patch_60\">\n    <path d=\"M 20.5625 716.918125 \nL 330.5625 716.918125 \n\" style=\"fill:none;stroke:#000000;stroke-linecap:square;stroke-linejoin:miter;stroke-width:0.8;\"/>\n   </g>\n   <g id=\"patch_61\">\n    <path d=\"M 20.5625 414.918125 \nL 330.5625 414.918125 \n\" style=\"fill:none;stroke:#000000;stroke-linecap:square;stroke-linejoin:miter;stroke-width:0.8;\"/>\n   </g>\n   <g id=\"text_60\">\n    <!-- longueur -->\n    <g transform=\"translate(148.849375 408.918125)scale(0.12 -0.12)\">\n     <defs>\n      <path d=\"M 1959 3097 \nQ 1497 3097 1228 2736 \nQ 959 2375 959 1747 \nQ 959 1119 1226 758 \nQ 1494 397 1959 397 \nQ 2419 397 2687 759 \nQ 2956 1122 2956 1747 \nQ 2956 2369 2687 2733 \nQ 2419 3097 1959 3097 \nz\nM 1959 3584 \nQ 2709 3584 3137 3096 \nQ 3566 2609 3566 1747 \nQ 3566 888 3137 398 \nQ 2709 -91 1959 -91 \nQ 1206 -91 779 398 \nQ 353 888 353 1747 \nQ 353 2609 779 3096 \nQ 1206 3584 1959 3584 \nz\n\" id=\"DejaVuSans-6f\" transform=\"scale(0.015625)\"/>\n      <path d=\"M 2906 1791 \nQ 2906 2416 2648 2759 \nQ 2391 3103 1925 3103 \nQ 1463 3103 1205 2759 \nQ 947 2416 947 1791 \nQ 947 1169 1205 825 \nQ 1463 481 1925 481 \nQ 2391 481 2648 825 \nQ 2906 1169 2906 1791 \nz\nM 3481 434 \nQ 3481 -459 3084 -895 \nQ 2688 -1331 1869 -1331 \nQ 1566 -1331 1297 -1286 \nQ 1028 -1241 775 -1147 \nL 775 -588 \nQ 1028 -725 1275 -790 \nQ 1522 -856 1778 -856 \nQ 2344 -856 2625 -561 \nQ 2906 -266 2906 331 \nL 2906 616 \nQ 2728 306 2450 153 \nQ 2172 0 1784 0 \nQ 1141 0 747 490 \nQ 353 981 353 1791 \nQ 353 2603 747 3093 \nQ 1141 3584 1784 3584 \nQ 2172 3584 2450 3431 \nQ 2728 3278 2906 2969 \nL 2906 3500 \nL 3481 3500 \nL 3481 434 \nz\n\" id=\"DejaVuSans-67\" transform=\"scale(0.015625)\"/>\n     </defs>\n     <use xlink:href=\"#DejaVuSans-6c\"/>\n     <use x=\"27.783203\" xlink:href=\"#DejaVuSans-6f\"/>\n     <use x=\"88.964844\" xlink:href=\"#DejaVuSans-6e\"/>\n     <use x=\"152.34375\" xlink:href=\"#DejaVuSans-67\"/>\n     <use x=\"215.820312\" xlink:href=\"#DejaVuSans-75\"/>\n     <use x=\"279.199219\" xlink:href=\"#DejaVuSans-65\"/>\n     <use x=\"340.722656\" xlink:href=\"#DejaVuSans-75\"/>\n     <use x=\"404.101562\" xlink:href=\"#DejaVuSans-72\"/>\n    </g>\n   </g>\n  </g>\n  <g id=\"axes_5\">\n   <g id=\"patch_62\">\n    <path d=\"M 423.5625 716.918125 \nL 733.5625 716.918125 \nL 733.5625 414.918125 \nL 423.5625 414.918125 \nz\n\" style=\"fill:#ffffff;\"/>\n   </g>\n   <g id=\"patch_63\">\n    <path clip-path=\"url(#p0b37c87c61)\" d=\"M 437.653409 716.918125 \nL 465.835227 716.918125 \nL 465.835227 675.82969 \nL 437.653409 675.82969 \nz\n\" style=\"fill:#1f77b4;\"/>\n   </g>\n   <g id=\"patch_64\">\n    <path clip-path=\"url(#p0b37c87c61)\" d=\"M 465.835227 716.918125 \nL 494.017045 716.918125 \nL 494.017045 593.652819 \nL 465.835227 593.652819 \nz\n\" style=\"fill:#1f77b4;\"/>\n   </g>\n   <g id=\"patch_65\">\n    <path clip-path=\"url(#p0b37c87c61)\" d=\"M 494.017045 716.918125 \nL 522.198864 716.918125 \nL 522.198864 552.564384 \nL 494.017045 552.564384 \nz\n\" style=\"fill:#1f77b4;\"/>\n   </g>\n   <g id=\"patch_66\">\n    <path clip-path=\"url(#p0b37c87c61)\" d=\"M 522.198864 716.918125 \nL 550.380682 716.918125 \nL 550.380682 593.652819 \nL 522.198864 593.652819 \nz\n\" style=\"fill:#1f77b4;\"/>\n   </g>\n   <g id=\"patch_67\">\n    <path clip-path=\"url(#p0b37c87c61)\" d=\"M 550.380682 716.918125 \nL 578.5625 716.918125 \nL 578.5625 511.475948 \nL 550.380682 511.475948 \nz\n\" style=\"fill:#1f77b4;\"/>\n   </g>\n   <g id=\"patch_68\">\n    <path clip-path=\"url(#p0b37c87c61)\" d=\"M 578.5625 716.918125 \nL 606.744318 716.918125 \nL 606.744318 429.299077 \nL 578.5625 429.299077 \nz\n\" style=\"fill:#1f77b4;\"/>\n   </g>\n   <g id=\"patch_69\">\n    <path clip-path=\"url(#p0b37c87c61)\" d=\"M 606.744318 716.918125 \nL 634.926136 716.918125 \nL 634.926136 593.652819 \nL 606.744318 593.652819 \nz\n\" style=\"fill:#1f77b4;\"/>\n   </g>\n   <g id=\"patch_70\">\n    <path clip-path=\"url(#p0b37c87c61)\" d=\"M 634.926136 716.918125 \nL 663.107955 716.918125 \nL 663.107955 552.564384 \nL 634.926136 552.564384 \nz\n\" style=\"fill:#1f77b4;\"/>\n   </g>\n   <g id=\"patch_71\">\n    <path clip-path=\"url(#p0b37c87c61)\" d=\"M 663.107955 716.918125 \nL 691.289773 716.918125 \nL 691.289773 716.918125 \nL 663.107955 716.918125 \nz\n\" style=\"fill:#1f77b4;\"/>\n   </g>\n   <g id=\"patch_72\">\n    <path clip-path=\"url(#p0b37c87c61)\" d=\"M 691.289773 716.918125 \nL 719.471591 716.918125 \nL 719.471591 675.82969 \nL 691.289773 675.82969 \nz\n\" style=\"fill:#1f77b4;\"/>\n   </g>\n   <g id=\"matplotlib.axis_9\">\n    <g id=\"xtick_28\">\n     <g id=\"line2d_113\">\n      <path clip-path=\"url(#p0b37c87c61)\" d=\"M 445.705357 716.918125 \nL 445.705357 414.918125 \n\" style=\"fill:none;stroke:#b0b0b0;stroke-linecap:square;stroke-width:0.8;\"/>\n     </g>\n     <g id=\"line2d_114\">\n      <g>\n       <use style=\"stroke:#000000;stroke-width:0.8;\" x=\"445.705357\" xlink:href=\"#m4b6f2be80e\" y=\"716.918125\"/>\n      </g>\n     </g>\n     <g id=\"text_61\">\n      <!-- 160 -->\n      <g transform=\"translate(436.161607 731.516563)scale(0.1 -0.1)\">\n       <use xlink:href=\"#DejaVuSans-31\"/>\n       <use x=\"63.623047\" xlink:href=\"#DejaVuSans-36\"/>\n       <use x=\"127.246094\" xlink:href=\"#DejaVuSans-30\"/>\n      </g>\n     </g>\n    </g>\n    <g id=\"xtick_29\">\n     <g id=\"line2d_115\">\n      <path clip-path=\"url(#p0b37c87c61)\" d=\"M 485.965097 716.918125 \nL 485.965097 414.918125 \n\" style=\"fill:none;stroke:#b0b0b0;stroke-linecap:square;stroke-width:0.8;\"/>\n     </g>\n     <g id=\"line2d_116\">\n      <g>\n       <use style=\"stroke:#000000;stroke-width:0.8;\" x=\"485.965097\" xlink:href=\"#m4b6f2be80e\" y=\"716.918125\"/>\n      </g>\n     </g>\n     <g id=\"text_62\">\n      <!-- 165 -->\n      <g transform=\"translate(476.421347 731.516563)scale(0.1 -0.1)\">\n       <use xlink:href=\"#DejaVuSans-31\"/>\n       <use x=\"63.623047\" xlink:href=\"#DejaVuSans-36\"/>\n       <use x=\"127.246094\" xlink:href=\"#DejaVuSans-35\"/>\n      </g>\n     </g>\n    </g>\n    <g id=\"xtick_30\">\n     <g id=\"line2d_117\">\n      <path clip-path=\"url(#p0b37c87c61)\" d=\"M 526.224838 716.918125 \nL 526.224838 414.918125 \n\" style=\"fill:none;stroke:#b0b0b0;stroke-linecap:square;stroke-width:0.8;\"/>\n     </g>\n     <g id=\"line2d_118\">\n      <g>\n       <use style=\"stroke:#000000;stroke-width:0.8;\" x=\"526.224838\" xlink:href=\"#m4b6f2be80e\" y=\"716.918125\"/>\n      </g>\n     </g>\n     <g id=\"text_63\">\n      <!-- 170 -->\n      <g transform=\"translate(516.681088 731.516563)scale(0.1 -0.1)\">\n       <use xlink:href=\"#DejaVuSans-31\"/>\n       <use x=\"63.623047\" xlink:href=\"#DejaVuSans-37\"/>\n       <use x=\"127.246094\" xlink:href=\"#DejaVuSans-30\"/>\n      </g>\n     </g>\n    </g>\n    <g id=\"xtick_31\">\n     <g id=\"line2d_119\">\n      <path clip-path=\"url(#p0b37c87c61)\" d=\"M 566.484578 716.918125 \nL 566.484578 414.918125 \n\" style=\"fill:none;stroke:#b0b0b0;stroke-linecap:square;stroke-width:0.8;\"/>\n     </g>\n     <g id=\"line2d_120\">\n      <g>\n       <use style=\"stroke:#000000;stroke-width:0.8;\" x=\"566.484578\" xlink:href=\"#m4b6f2be80e\" y=\"716.918125\"/>\n      </g>\n     </g>\n     <g id=\"text_64\">\n      <!-- 175 -->\n      <g transform=\"translate(556.940828 731.516563)scale(0.1 -0.1)\">\n       <use xlink:href=\"#DejaVuSans-31\"/>\n       <use x=\"63.623047\" xlink:href=\"#DejaVuSans-37\"/>\n       <use x=\"127.246094\" xlink:href=\"#DejaVuSans-35\"/>\n      </g>\n     </g>\n    </g>\n    <g id=\"xtick_32\">\n     <g id=\"line2d_121\">\n      <path clip-path=\"url(#p0b37c87c61)\" d=\"M 606.744318 716.918125 \nL 606.744318 414.918125 \n\" style=\"fill:none;stroke:#b0b0b0;stroke-linecap:square;stroke-width:0.8;\"/>\n     </g>\n     <g id=\"line2d_122\">\n      <g>\n       <use style=\"stroke:#000000;stroke-width:0.8;\" x=\"606.744318\" xlink:href=\"#m4b6f2be80e\" y=\"716.918125\"/>\n      </g>\n     </g>\n     <g id=\"text_65\">\n      <!-- 180 -->\n      <g transform=\"translate(597.200568 731.516563)scale(0.1 -0.1)\">\n       <use xlink:href=\"#DejaVuSans-31\"/>\n       <use x=\"63.623047\" xlink:href=\"#DejaVuSans-38\"/>\n       <use x=\"127.246094\" xlink:href=\"#DejaVuSans-30\"/>\n      </g>\n     </g>\n    </g>\n    <g id=\"xtick_33\">\n     <g id=\"line2d_123\">\n      <path clip-path=\"url(#p0b37c87c61)\" d=\"M 647.004058 716.918125 \nL 647.004058 414.918125 \n\" style=\"fill:none;stroke:#b0b0b0;stroke-linecap:square;stroke-width:0.8;\"/>\n     </g>\n     <g id=\"line2d_124\">\n      <g>\n       <use style=\"stroke:#000000;stroke-width:0.8;\" x=\"647.004058\" xlink:href=\"#m4b6f2be80e\" y=\"716.918125\"/>\n      </g>\n     </g>\n     <g id=\"text_66\">\n      <!-- 185 -->\n      <g transform=\"translate(637.460308 731.516563)scale(0.1 -0.1)\">\n       <use xlink:href=\"#DejaVuSans-31\"/>\n       <use x=\"63.623047\" xlink:href=\"#DejaVuSans-38\"/>\n       <use x=\"127.246094\" xlink:href=\"#DejaVuSans-35\"/>\n      </g>\n     </g>\n    </g>\n    <g id=\"xtick_34\">\n     <g id=\"line2d_125\">\n      <path clip-path=\"url(#p0b37c87c61)\" d=\"M 687.263799 716.918125 \nL 687.263799 414.918125 \n\" style=\"fill:none;stroke:#b0b0b0;stroke-linecap:square;stroke-width:0.8;\"/>\n     </g>\n     <g id=\"line2d_126\">\n      <g>\n       <use style=\"stroke:#000000;stroke-width:0.8;\" x=\"687.263799\" xlink:href=\"#m4b6f2be80e\" y=\"716.918125\"/>\n      </g>\n     </g>\n     <g id=\"text_67\">\n      <!-- 190 -->\n      <g transform=\"translate(677.720049 731.516563)scale(0.1 -0.1)\">\n       <defs>\n        <path d=\"M 703 97 \nL 703 672 \nQ 941 559 1184 500 \nQ 1428 441 1663 441 \nQ 2288 441 2617 861 \nQ 2947 1281 2994 2138 \nQ 2813 1869 2534 1725 \nQ 2256 1581 1919 1581 \nQ 1219 1581 811 2004 \nQ 403 2428 403 3163 \nQ 403 3881 828 4315 \nQ 1253 4750 1959 4750 \nQ 2769 4750 3195 4129 \nQ 3622 3509 3622 2328 \nQ 3622 1225 3098 567 \nQ 2575 -91 1691 -91 \nQ 1453 -91 1209 -44 \nQ 966 3 703 97 \nz\nM 1959 2075 \nQ 2384 2075 2632 2365 \nQ 2881 2656 2881 3163 \nQ 2881 3666 2632 3958 \nQ 2384 4250 1959 4250 \nQ 1534 4250 1286 3958 \nQ 1038 3666 1038 3163 \nQ 1038 2656 1286 2365 \nQ 1534 2075 1959 2075 \nz\n\" id=\"DejaVuSans-39\" transform=\"scale(0.015625)\"/>\n       </defs>\n       <use xlink:href=\"#DejaVuSans-31\"/>\n       <use x=\"63.623047\" xlink:href=\"#DejaVuSans-39\"/>\n       <use x=\"127.246094\" xlink:href=\"#DejaVuSans-30\"/>\n      </g>\n     </g>\n    </g>\n    <g id=\"xtick_35\">\n     <g id=\"line2d_127\">\n      <path clip-path=\"url(#p0b37c87c61)\" d=\"M 727.523539 716.918125 \nL 727.523539 414.918125 \n\" style=\"fill:none;stroke:#b0b0b0;stroke-linecap:square;stroke-width:0.8;\"/>\n     </g>\n     <g id=\"line2d_128\">\n      <g>\n       <use style=\"stroke:#000000;stroke-width:0.8;\" x=\"727.523539\" xlink:href=\"#m4b6f2be80e\" y=\"716.918125\"/>\n      </g>\n     </g>\n     <g id=\"text_68\">\n      <!-- 195 -->\n      <g transform=\"translate(717.979789 731.516563)scale(0.1 -0.1)\">\n       <use xlink:href=\"#DejaVuSans-31\"/>\n       <use x=\"63.623047\" xlink:href=\"#DejaVuSans-39\"/>\n       <use x=\"127.246094\" xlink:href=\"#DejaVuSans-35\"/>\n      </g>\n     </g>\n    </g>\n   </g>\n   <g id=\"matplotlib.axis_10\">\n    <g id=\"ytick_30\">\n     <g id=\"line2d_129\">\n      <path clip-path=\"url(#p0b37c87c61)\" d=\"M 423.5625 716.918125 \nL 733.5625 716.918125 \n\" style=\"fill:none;stroke:#b0b0b0;stroke-linecap:square;stroke-width:0.8;\"/>\n     </g>\n     <g id=\"line2d_130\">\n      <g>\n       <use style=\"stroke:#000000;stroke-width:0.8;\" x=\"423.5625\" xlink:href=\"#m66f3358685\" y=\"716.918125\"/>\n      </g>\n     </g>\n     <g id=\"text_69\">\n      <!-- 0 -->\n      <g transform=\"translate(410.2 720.717344)scale(0.1 -0.1)\">\n       <use xlink:href=\"#DejaVuSans-30\"/>\n      </g>\n     </g>\n    </g>\n    <g id=\"ytick_31\">\n     <g id=\"line2d_131\">\n      <path clip-path=\"url(#p0b37c87c61)\" d=\"M 423.5625 675.82969 \nL 733.5625 675.82969 \n\" style=\"fill:none;stroke:#b0b0b0;stroke-linecap:square;stroke-width:0.8;\"/>\n     </g>\n     <g id=\"line2d_132\">\n      <g>\n       <use style=\"stroke:#000000;stroke-width:0.8;\" x=\"423.5625\" xlink:href=\"#m66f3358685\" y=\"675.82969\"/>\n      </g>\n     </g>\n     <g id=\"text_70\">\n      <!-- 1 -->\n      <g transform=\"translate(410.2 679.628908)scale(0.1 -0.1)\">\n       <use xlink:href=\"#DejaVuSans-31\"/>\n      </g>\n     </g>\n    </g>\n    <g id=\"ytick_32\">\n     <g id=\"line2d_133\">\n      <path clip-path=\"url(#p0b37c87c61)\" d=\"M 423.5625 634.741254 \nL 733.5625 634.741254 \n\" style=\"fill:none;stroke:#b0b0b0;stroke-linecap:square;stroke-width:0.8;\"/>\n     </g>\n     <g id=\"line2d_134\">\n      <g>\n       <use style=\"stroke:#000000;stroke-width:0.8;\" x=\"423.5625\" xlink:href=\"#m66f3358685\" y=\"634.741254\"/>\n      </g>\n     </g>\n     <g id=\"text_71\">\n      <!-- 2 -->\n      <g transform=\"translate(410.2 638.540473)scale(0.1 -0.1)\">\n       <use xlink:href=\"#DejaVuSans-32\"/>\n      </g>\n     </g>\n    </g>\n    <g id=\"ytick_33\">\n     <g id=\"line2d_135\">\n      <path clip-path=\"url(#p0b37c87c61)\" d=\"M 423.5625 593.652819 \nL 733.5625 593.652819 \n\" style=\"fill:none;stroke:#b0b0b0;stroke-linecap:square;stroke-width:0.8;\"/>\n     </g>\n     <g id=\"line2d_136\">\n      <g>\n       <use style=\"stroke:#000000;stroke-width:0.8;\" x=\"423.5625\" xlink:href=\"#m66f3358685\" y=\"593.652819\"/>\n      </g>\n     </g>\n     <g id=\"text_72\">\n      <!-- 3 -->\n      <g transform=\"translate(410.2 597.452038)scale(0.1 -0.1)\">\n       <use xlink:href=\"#DejaVuSans-33\"/>\n      </g>\n     </g>\n    </g>\n    <g id=\"ytick_34\">\n     <g id=\"line2d_137\">\n      <path clip-path=\"url(#p0b37c87c61)\" d=\"M 423.5625 552.564384 \nL 733.5625 552.564384 \n\" style=\"fill:none;stroke:#b0b0b0;stroke-linecap:square;stroke-width:0.8;\"/>\n     </g>\n     <g id=\"line2d_138\">\n      <g>\n       <use style=\"stroke:#000000;stroke-width:0.8;\" x=\"423.5625\" xlink:href=\"#m66f3358685\" y=\"552.564384\"/>\n      </g>\n     </g>\n     <g id=\"text_73\">\n      <!-- 4 -->\n      <g transform=\"translate(410.2 556.363602)scale(0.1 -0.1)\">\n       <use xlink:href=\"#DejaVuSans-34\"/>\n      </g>\n     </g>\n    </g>\n    <g id=\"ytick_35\">\n     <g id=\"line2d_139\">\n      <path clip-path=\"url(#p0b37c87c61)\" d=\"M 423.5625 511.475948 \nL 733.5625 511.475948 \n\" style=\"fill:none;stroke:#b0b0b0;stroke-linecap:square;stroke-width:0.8;\"/>\n     </g>\n     <g id=\"line2d_140\">\n      <g>\n       <use style=\"stroke:#000000;stroke-width:0.8;\" x=\"423.5625\" xlink:href=\"#m66f3358685\" y=\"511.475948\"/>\n      </g>\n     </g>\n     <g id=\"text_74\">\n      <!-- 5 -->\n      <g transform=\"translate(410.2 515.275167)scale(0.1 -0.1)\">\n       <use xlink:href=\"#DejaVuSans-35\"/>\n      </g>\n     </g>\n    </g>\n    <g id=\"ytick_36\">\n     <g id=\"line2d_141\">\n      <path clip-path=\"url(#p0b37c87c61)\" d=\"M 423.5625 470.387513 \nL 733.5625 470.387513 \n\" style=\"fill:none;stroke:#b0b0b0;stroke-linecap:square;stroke-width:0.8;\"/>\n     </g>\n     <g id=\"line2d_142\">\n      <g>\n       <use style=\"stroke:#000000;stroke-width:0.8;\" x=\"423.5625\" xlink:href=\"#m66f3358685\" y=\"470.387513\"/>\n      </g>\n     </g>\n     <g id=\"text_75\">\n      <!-- 6 -->\n      <g transform=\"translate(410.2 474.186732)scale(0.1 -0.1)\">\n       <use xlink:href=\"#DejaVuSans-36\"/>\n      </g>\n     </g>\n    </g>\n    <g id=\"ytick_37\">\n     <g id=\"line2d_143\">\n      <path clip-path=\"url(#p0b37c87c61)\" d=\"M 423.5625 429.299077 \nL 733.5625 429.299077 \n\" style=\"fill:none;stroke:#b0b0b0;stroke-linecap:square;stroke-width:0.8;\"/>\n     </g>\n     <g id=\"line2d_144\">\n      <g>\n       <use style=\"stroke:#000000;stroke-width:0.8;\" x=\"423.5625\" xlink:href=\"#m66f3358685\" y=\"429.299077\"/>\n      </g>\n     </g>\n     <g id=\"text_76\">\n      <!-- 7 -->\n      <g transform=\"translate(410.2 433.098296)scale(0.1 -0.1)\">\n       <use xlink:href=\"#DejaVuSans-37\"/>\n      </g>\n     </g>\n    </g>\n   </g>\n   <g id=\"patch_73\">\n    <path d=\"M 423.5625 716.918125 \nL 423.5625 414.918125 \n\" style=\"fill:none;stroke:#000000;stroke-linecap:square;stroke-linejoin:miter;stroke-width:0.8;\"/>\n   </g>\n   <g id=\"patch_74\">\n    <path d=\"M 733.5625 716.918125 \nL 733.5625 414.918125 \n\" style=\"fill:none;stroke:#000000;stroke-linecap:square;stroke-linejoin:miter;stroke-width:0.8;\"/>\n   </g>\n   <g id=\"patch_75\">\n    <path d=\"M 423.5625 716.918125 \nL 733.5625 716.918125 \n\" style=\"fill:none;stroke:#000000;stroke-linecap:square;stroke-linejoin:miter;stroke-width:0.8;\"/>\n   </g>\n   <g id=\"patch_76\">\n    <path d=\"M 423.5625 414.918125 \nL 733.5625 414.918125 \n\" style=\"fill:none;stroke:#000000;stroke-linecap:square;stroke-linejoin:miter;stroke-width:0.8;\"/>\n   </g>\n   <g id=\"text_77\">\n    <!-- largeur -->\n    <g transform=\"translate(557.087188 408.918125)scale(0.12 -0.12)\">\n     <use xlink:href=\"#DejaVuSans-6c\"/>\n     <use x=\"27.783203\" xlink:href=\"#DejaVuSans-61\"/>\n     <use x=\"89.0625\" xlink:href=\"#DejaVuSans-72\"/>\n     <use x=\"128.425781\" xlink:href=\"#DejaVuSans-67\"/>\n     <use x=\"191.902344\" xlink:href=\"#DejaVuSans-65\"/>\n     <use x=\"253.425781\" xlink:href=\"#DejaVuSans-75\"/>\n     <use x=\"316.804688\" xlink:href=\"#DejaVuSans-72\"/>\n    </g>\n   </g>\n  </g>\n  <g id=\"axes_6\">\n   <g id=\"patch_77\">\n    <path d=\"M 826.5625 716.918125 \nL 1136.5625 716.918125 \nL 1136.5625 414.918125 \nL 826.5625 414.918125 \nz\n\" style=\"fill:#ffffff;\"/>\n   </g>\n   <g id=\"patch_78\">\n    <path clip-path=\"url(#p6babf8ac1c)\" d=\"M 840.653409 716.918125 \nL 868.835227 716.918125 \nL 868.835227 690.770939 \nL 840.653409 690.770939 \nz\n\" style=\"fill:#1f77b4;\"/>\n   </g>\n   <g id=\"patch_79\">\n    <path clip-path=\"url(#p6babf8ac1c)\" d=\"M 868.835227 716.918125 \nL 897.017045 716.918125 \nL 897.017045 455.446264 \nL 868.835227 455.446264 \nz\n\" style=\"fill:#1f77b4;\"/>\n   </g>\n   <g id=\"patch_80\">\n    <path clip-path=\"url(#p6babf8ac1c)\" d=\"M 897.017045 716.918125 \nL 925.198864 716.918125 \nL 925.198864 429.299077 \nL 897.017045 429.299077 \nz\n\" style=\"fill:#1f77b4;\"/>\n   </g>\n   <g id=\"patch_81\">\n    <path clip-path=\"url(#p6babf8ac1c)\" d=\"M 925.198864 716.918125 \nL 953.380682 716.918125 \nL 953.380682 638.476567 \nL 925.198864 638.476567 \nz\n\" style=\"fill:#1f77b4;\"/>\n   </g>\n   <g id=\"patch_82\">\n    <path clip-path=\"url(#p6babf8ac1c)\" d=\"M 953.380682 716.918125 \nL 981.5625 716.918125 \nL 981.5625 664.623753 \nL 953.380682 664.623753 \nz\n\" style=\"fill:#1f77b4;\"/>\n   </g>\n   <g id=\"patch_83\">\n    <path clip-path=\"url(#p6babf8ac1c)\" d=\"M 981.5625 716.918125 \nL 1009.744318 716.918125 \nL 1009.744318 664.623753 \nL 981.5625 664.623753 \nz\n\" style=\"fill:#1f77b4;\"/>\n   </g>\n   <g id=\"patch_84\">\n    <path clip-path=\"url(#p6babf8ac1c)\" d=\"M 1009.744318 716.918125 \nL 1037.926136 716.918125 \nL 1037.926136 690.770939 \nL 1009.744318 690.770939 \nz\n\" style=\"fill:#1f77b4;\"/>\n   </g>\n   <g id=\"patch_85\">\n    <path clip-path=\"url(#p6babf8ac1c)\" d=\"M 1037.926136 716.918125 \nL 1066.107955 716.918125 \nL 1066.107955 716.918125 \nL 1037.926136 716.918125 \nz\n\" style=\"fill:#1f77b4;\"/>\n   </g>\n   <g id=\"patch_86\">\n    <path clip-path=\"url(#p6babf8ac1c)\" d=\"M 1066.107955 716.918125 \nL 1094.289773 716.918125 \nL 1094.289773 716.918125 \nL 1066.107955 716.918125 \nz\n\" style=\"fill:#1f77b4;\"/>\n   </g>\n   <g id=\"patch_87\">\n    <path clip-path=\"url(#p6babf8ac1c)\" d=\"M 1094.289773 716.918125 \nL 1122.471591 716.918125 \nL 1122.471591 690.770939 \nL 1094.289773 690.770939 \nz\n\" style=\"fill:#1f77b4;\"/>\n   </g>\n   <g id=\"matplotlib.axis_11\">\n    <g id=\"xtick_36\">\n     <g id=\"line2d_145\">\n      <path clip-path=\"url(#p6babf8ac1c)\" d=\"M 873.808489 716.918125 \nL 873.808489 414.918125 \n\" style=\"fill:none;stroke:#b0b0b0;stroke-linecap:square;stroke-width:0.8;\"/>\n     </g>\n     <g id=\"line2d_146\">\n      <g>\n       <use style=\"stroke:#000000;stroke-width:0.8;\" x=\"873.808489\" xlink:href=\"#m4b6f2be80e\" y=\"716.918125\"/>\n      </g>\n     </g>\n     <g id=\"text_78\">\n      <!-- 140 -->\n      <g transform=\"translate(864.264739 731.516563)scale(0.1 -0.1)\">\n       <use xlink:href=\"#DejaVuSans-31\"/>\n       <use x=\"63.623047\" xlink:href=\"#DejaVuSans-34\"/>\n       <use x=\"127.246094\" xlink:href=\"#DejaVuSans-30\"/>\n      </g>\n     </g>\n    </g>\n    <g id=\"xtick_37\">\n     <g id=\"line2d_147\">\n      <path clip-path=\"url(#p6babf8ac1c)\" d=\"M 929.066956 716.918125 \nL 929.066956 414.918125 \n\" style=\"fill:none;stroke:#b0b0b0;stroke-linecap:square;stroke-width:0.8;\"/>\n     </g>\n     <g id=\"line2d_148\">\n      <g>\n       <use style=\"stroke:#000000;stroke-width:0.8;\" x=\"929.066956\" xlink:href=\"#m4b6f2be80e\" y=\"716.918125\"/>\n      </g>\n     </g>\n     <g id=\"text_79\">\n      <!-- 150 -->\n      <g transform=\"translate(919.523206 731.516563)scale(0.1 -0.1)\">\n       <use xlink:href=\"#DejaVuSans-31\"/>\n       <use x=\"63.623047\" xlink:href=\"#DejaVuSans-35\"/>\n       <use x=\"127.246094\" xlink:href=\"#DejaVuSans-30\"/>\n      </g>\n     </g>\n    </g>\n    <g id=\"xtick_38\">\n     <g id=\"line2d_149\">\n      <path clip-path=\"url(#p6babf8ac1c)\" d=\"M 984.325423 716.918125 \nL 984.325423 414.918125 \n\" style=\"fill:none;stroke:#b0b0b0;stroke-linecap:square;stroke-width:0.8;\"/>\n     </g>\n     <g id=\"line2d_150\">\n      <g>\n       <use style=\"stroke:#000000;stroke-width:0.8;\" x=\"984.325423\" xlink:href=\"#m4b6f2be80e\" y=\"716.918125\"/>\n      </g>\n     </g>\n     <g id=\"text_80\">\n      <!-- 160 -->\n      <g transform=\"translate(974.781673 731.516563)scale(0.1 -0.1)\">\n       <use xlink:href=\"#DejaVuSans-31\"/>\n       <use x=\"63.623047\" xlink:href=\"#DejaVuSans-36\"/>\n       <use x=\"127.246094\" xlink:href=\"#DejaVuSans-30\"/>\n      </g>\n     </g>\n    </g>\n    <g id=\"xtick_39\">\n     <g id=\"line2d_151\">\n      <path clip-path=\"url(#p6babf8ac1c)\" d=\"M 1039.58389 716.918125 \nL 1039.58389 414.918125 \n\" style=\"fill:none;stroke:#b0b0b0;stroke-linecap:square;stroke-width:0.8;\"/>\n     </g>\n     <g id=\"line2d_152\">\n      <g>\n       <use style=\"stroke:#000000;stroke-width:0.8;\" x=\"1039.58389\" xlink:href=\"#m4b6f2be80e\" y=\"716.918125\"/>\n      </g>\n     </g>\n     <g id=\"text_81\">\n      <!-- 170 -->\n      <g transform=\"translate(1030.04014 731.516563)scale(0.1 -0.1)\">\n       <use xlink:href=\"#DejaVuSans-31\"/>\n       <use x=\"63.623047\" xlink:href=\"#DejaVuSans-37\"/>\n       <use x=\"127.246094\" xlink:href=\"#DejaVuSans-30\"/>\n      </g>\n     </g>\n    </g>\n    <g id=\"xtick_40\">\n     <g id=\"line2d_153\">\n      <path clip-path=\"url(#p6babf8ac1c)\" d=\"M 1094.842357 716.918125 \nL 1094.842357 414.918125 \n\" style=\"fill:none;stroke:#b0b0b0;stroke-linecap:square;stroke-width:0.8;\"/>\n     </g>\n     <g id=\"line2d_154\">\n      <g>\n       <use style=\"stroke:#000000;stroke-width:0.8;\" x=\"1094.842357\" xlink:href=\"#m4b6f2be80e\" y=\"716.918125\"/>\n      </g>\n     </g>\n     <g id=\"text_82\">\n      <!-- 180 -->\n      <g transform=\"translate(1085.298607 731.516563)scale(0.1 -0.1)\">\n       <use xlink:href=\"#DejaVuSans-31\"/>\n       <use x=\"63.623047\" xlink:href=\"#DejaVuSans-38\"/>\n       <use x=\"127.246094\" xlink:href=\"#DejaVuSans-30\"/>\n      </g>\n     </g>\n    </g>\n   </g>\n   <g id=\"matplotlib.axis_12\">\n    <g id=\"ytick_38\">\n     <g id=\"line2d_155\">\n      <path clip-path=\"url(#p6babf8ac1c)\" d=\"M 826.5625 716.918125 \nL 1136.5625 716.918125 \n\" style=\"fill:none;stroke:#b0b0b0;stroke-linecap:square;stroke-width:0.8;\"/>\n     </g>\n     <g id=\"line2d_156\">\n      <g>\n       <use style=\"stroke:#000000;stroke-width:0.8;\" x=\"826.5625\" xlink:href=\"#m66f3358685\" y=\"716.918125\"/>\n      </g>\n     </g>\n     <g id=\"text_83\">\n      <!-- 0 -->\n      <g transform=\"translate(813.2 720.717344)scale(0.1 -0.1)\">\n       <use xlink:href=\"#DejaVuSans-30\"/>\n      </g>\n     </g>\n    </g>\n    <g id=\"ytick_39\">\n     <g id=\"line2d_157\">\n      <path clip-path=\"url(#p6babf8ac1c)\" d=\"M 826.5625 664.623753 \nL 1136.5625 664.623753 \n\" style=\"fill:none;stroke:#b0b0b0;stroke-linecap:square;stroke-width:0.8;\"/>\n     </g>\n     <g id=\"line2d_158\">\n      <g>\n       <use style=\"stroke:#000000;stroke-width:0.8;\" x=\"826.5625\" xlink:href=\"#m66f3358685\" y=\"664.623753\"/>\n      </g>\n     </g>\n     <g id=\"text_84\">\n      <!-- 2 -->\n      <g transform=\"translate(813.2 668.422971)scale(0.1 -0.1)\">\n       <use xlink:href=\"#DejaVuSans-32\"/>\n      </g>\n     </g>\n    </g>\n    <g id=\"ytick_40\">\n     <g id=\"line2d_159\">\n      <path clip-path=\"url(#p6babf8ac1c)\" d=\"M 826.5625 612.32938 \nL 1136.5625 612.32938 \n\" style=\"fill:none;stroke:#b0b0b0;stroke-linecap:square;stroke-width:0.8;\"/>\n     </g>\n     <g id=\"line2d_160\">\n      <g>\n       <use style=\"stroke:#000000;stroke-width:0.8;\" x=\"826.5625\" xlink:href=\"#m66f3358685\" y=\"612.32938\"/>\n      </g>\n     </g>\n     <g id=\"text_85\">\n      <!-- 4 -->\n      <g transform=\"translate(813.2 616.128599)scale(0.1 -0.1)\">\n       <use xlink:href=\"#DejaVuSans-34\"/>\n      </g>\n     </g>\n    </g>\n    <g id=\"ytick_41\">\n     <g id=\"line2d_161\">\n      <path clip-path=\"url(#p6babf8ac1c)\" d=\"M 826.5625 560.035008 \nL 1136.5625 560.035008 \n\" style=\"fill:none;stroke:#b0b0b0;stroke-linecap:square;stroke-width:0.8;\"/>\n     </g>\n     <g id=\"line2d_162\">\n      <g>\n       <use style=\"stroke:#000000;stroke-width:0.8;\" x=\"826.5625\" xlink:href=\"#m66f3358685\" y=\"560.035008\"/>\n      </g>\n     </g>\n     <g id=\"text_86\">\n      <!-- 6 -->\n      <g transform=\"translate(813.2 563.834227)scale(0.1 -0.1)\">\n       <use xlink:href=\"#DejaVuSans-36\"/>\n      </g>\n     </g>\n    </g>\n    <g id=\"ytick_42\">\n     <g id=\"line2d_163\">\n      <path clip-path=\"url(#p6babf8ac1c)\" d=\"M 826.5625 507.740636 \nL 1136.5625 507.740636 \n\" style=\"fill:none;stroke:#b0b0b0;stroke-linecap:square;stroke-width:0.8;\"/>\n     </g>\n     <g id=\"line2d_164\">\n      <g>\n       <use style=\"stroke:#000000;stroke-width:0.8;\" x=\"826.5625\" xlink:href=\"#m66f3358685\" y=\"507.740636\"/>\n      </g>\n     </g>\n     <g id=\"text_87\">\n      <!-- 8 -->\n      <g transform=\"translate(813.2 511.539855)scale(0.1 -0.1)\">\n       <use xlink:href=\"#DejaVuSans-38\"/>\n      </g>\n     </g>\n    </g>\n    <g id=\"ytick_43\">\n     <g id=\"line2d_165\">\n      <path clip-path=\"url(#p6babf8ac1c)\" d=\"M 826.5625 455.446264 \nL 1136.5625 455.446264 \n\" style=\"fill:none;stroke:#b0b0b0;stroke-linecap:square;stroke-width:0.8;\"/>\n     </g>\n     <g id=\"line2d_166\">\n      <g>\n       <use style=\"stroke:#000000;stroke-width:0.8;\" x=\"826.5625\" xlink:href=\"#m66f3358685\" y=\"455.446264\"/>\n      </g>\n     </g>\n     <g id=\"text_88\">\n      <!-- 10 -->\n      <g transform=\"translate(806.8375 459.245482)scale(0.1 -0.1)\">\n       <use xlink:href=\"#DejaVuSans-31\"/>\n       <use x=\"63.623047\" xlink:href=\"#DejaVuSans-30\"/>\n      </g>\n     </g>\n    </g>\n   </g>\n   <g id=\"patch_88\">\n    <path d=\"M 826.5625 716.918125 \nL 826.5625 414.918125 \n\" style=\"fill:none;stroke:#000000;stroke-linecap:square;stroke-linejoin:miter;stroke-width:0.8;\"/>\n   </g>\n   <g id=\"patch_89\">\n    <path d=\"M 1136.5625 716.918125 \nL 1136.5625 414.918125 \n\" style=\"fill:none;stroke:#000000;stroke-linecap:square;stroke-linejoin:miter;stroke-width:0.8;\"/>\n   </g>\n   <g id=\"patch_90\">\n    <path d=\"M 826.5625 716.918125 \nL 1136.5625 716.918125 \n\" style=\"fill:none;stroke:#000000;stroke-linecap:square;stroke-linejoin:miter;stroke-width:0.8;\"/>\n   </g>\n   <g id=\"patch_91\">\n    <path d=\"M 826.5625 414.918125 \nL 1136.5625 414.918125 \n\" style=\"fill:none;stroke:#000000;stroke-linecap:square;stroke-linejoin:miter;stroke-width:0.8;\"/>\n   </g>\n   <g id=\"text_89\">\n    <!-- hauteur -->\n    <g transform=\"translate(957.9675 408.918125)scale(0.12 -0.12)\">\n     <defs>\n      <path d=\"M 3513 2113 \nL 3513 0 \nL 2938 0 \nL 2938 2094 \nQ 2938 2591 2744 2837 \nQ 2550 3084 2163 3084 \nQ 1697 3084 1428 2787 \nQ 1159 2491 1159 1978 \nL 1159 0 \nL 581 0 \nL 581 4863 \nL 1159 4863 \nL 1159 2956 \nQ 1366 3272 1645 3428 \nQ 1925 3584 2291 3584 \nQ 2894 3584 3203 3211 \nQ 3513 2838 3513 2113 \nz\n\" id=\"DejaVuSans-68\" transform=\"scale(0.015625)\"/>\n     </defs>\n     <use xlink:href=\"#DejaVuSans-68\"/>\n     <use x=\"63.378906\" xlink:href=\"#DejaVuSans-61\"/>\n     <use x=\"124.658203\" xlink:href=\"#DejaVuSans-75\"/>\n     <use x=\"188.037109\" xlink:href=\"#DejaVuSans-74\"/>\n     <use x=\"227.246094\" xlink:href=\"#DejaVuSans-65\"/>\n     <use x=\"288.769531\" xlink:href=\"#DejaVuSans-75\"/>\n     <use x=\"352.148438\" xlink:href=\"#DejaVuSans-72\"/>\n    </g>\n   </g>\n  </g>\n  <g id=\"axes_7\">\n   <g id=\"patch_92\">\n    <path d=\"M 20.5625 1109.518125 \nL 330.5625 1109.518125 \nL 330.5625 807.518125 \nL 20.5625 807.518125 \nz\n\" style=\"fill:#ffffff;\"/>\n   </g>\n   <g id=\"patch_93\">\n    <path clip-path=\"url(#pc6b984d28f)\" d=\"M 34.653409 1109.518125 \nL 62.835227 1109.518125 \nL 62.835227 1001.660982 \nL 34.653409 1001.660982 \nz\n\" style=\"fill:#1f77b4;\"/>\n   </g>\n   <g id=\"patch_94\">\n    <path clip-path=\"url(#pc6b984d28f)\" d=\"M 62.835227 1109.518125 \nL 91.017045 1109.518125 \nL 91.017045 1037.613363 \nL 62.835227 1037.613363 \nz\n\" style=\"fill:#1f77b4;\"/>\n   </g>\n   <g id=\"patch_95\">\n    <path clip-path=\"url(#pc6b984d28f)\" d=\"M 91.017045 1109.518125 \nL 119.198864 1109.518125 \nL 119.198864 1073.565744 \nL 91.017045 1073.565744 \nz\n\" style=\"fill:#1f77b4;\"/>\n   </g>\n   <g id=\"patch_96\">\n    <path clip-path=\"url(#pc6b984d28f)\" d=\"M 119.198864 1109.518125 \nL 147.380682 1109.518125 \nL 147.380682 1001.660982 \nL 119.198864 1001.660982 \nz\n\" style=\"fill:#1f77b4;\"/>\n   </g>\n   <g id=\"patch_97\">\n    <path clip-path=\"url(#pc6b984d28f)\" d=\"M 147.380682 1109.518125 \nL 175.5625 1109.518125 \nL 175.5625 1001.660982 \nL 147.380682 1001.660982 \nz\n\" style=\"fill:#1f77b4;\"/>\n   </g>\n   <g id=\"patch_98\">\n    <path clip-path=\"url(#pc6b984d28f)\" d=\"M 175.5625 1109.518125 \nL 203.744318 1109.518125 \nL 203.744318 1001.660982 \nL 175.5625 1001.660982 \nz\n\" style=\"fill:#1f77b4;\"/>\n   </g>\n   <g id=\"patch_99\">\n    <path clip-path=\"url(#pc6b984d28f)\" d=\"M 203.744318 1109.518125 \nL 231.926136 1109.518125 \nL 231.926136 821.899077 \nL 203.744318 821.899077 \nz\n\" style=\"fill:#1f77b4;\"/>\n   </g>\n   <g id=\"patch_100\">\n    <path clip-path=\"url(#pc6b984d28f)\" d=\"M 231.926136 1109.518125 \nL 260.107955 1109.518125 \nL 260.107955 1001.660982 \nL 231.926136 1001.660982 \nz\n\" style=\"fill:#1f77b4;\"/>\n   </g>\n   <g id=\"patch_101\">\n    <path clip-path=\"url(#pc6b984d28f)\" d=\"M 260.107955 1109.518125 \nL 288.289773 1109.518125 \nL 288.289773 1037.613363 \nL 260.107955 1037.613363 \nz\n\" style=\"fill:#1f77b4;\"/>\n   </g>\n   <g id=\"patch_102\">\n    <path clip-path=\"url(#pc6b984d28f)\" d=\"M 288.289773 1109.518125 \nL 316.471591 1109.518125 \nL 316.471591 1001.660982 \nL 288.289773 1001.660982 \nz\n\" style=\"fill:#1f77b4;\"/>\n   </g>\n   <g id=\"matplotlib.axis_13\">\n    <g id=\"xtick_41\">\n     <g id=\"line2d_167\">\n      <path clip-path=\"url(#pc6b984d28f)\" d=\"M 22.058183 1109.518125 \nL 22.058183 807.518125 \n\" style=\"fill:none;stroke:#b0b0b0;stroke-linecap:square;stroke-width:0.8;\"/>\n     </g>\n     <g id=\"line2d_168\">\n      <g>\n       <use style=\"stroke:#000000;stroke-width:0.8;\" x=\"22.058183\" xlink:href=\"#m4b6f2be80e\" y=\"1109.518125\"/>\n      </g>\n     </g>\n     <g id=\"text_90\">\n      <!-- 800 -->\n      <g transform=\"translate(12.514433 1124.116563)scale(0.1 -0.1)\">\n       <use xlink:href=\"#DejaVuSans-38\"/>\n       <use x=\"63.623047\" xlink:href=\"#DejaVuSans-30\"/>\n       <use x=\"127.246094\" xlink:href=\"#DejaVuSans-30\"/>\n      </g>\n     </g>\n    </g>\n    <g id=\"xtick_42\">\n     <g id=\"line2d_169\">\n      <path clip-path=\"url(#pc6b984d28f)\" d=\"M 85.034313 1109.518125 \nL 85.034313 807.518125 \n\" style=\"fill:none;stroke:#b0b0b0;stroke-linecap:square;stroke-width:0.8;\"/>\n     </g>\n     <g id=\"line2d_170\">\n      <g>\n       <use style=\"stroke:#000000;stroke-width:0.8;\" x=\"85.034313\" xlink:href=\"#m4b6f2be80e\" y=\"1109.518125\"/>\n      </g>\n     </g>\n     <g id=\"text_91\">\n      <!-- 1000 -->\n      <g transform=\"translate(72.309313 1124.116563)scale(0.1 -0.1)\">\n       <use xlink:href=\"#DejaVuSans-31\"/>\n       <use x=\"63.623047\" xlink:href=\"#DejaVuSans-30\"/>\n       <use x=\"127.246094\" xlink:href=\"#DejaVuSans-30\"/>\n       <use x=\"190.869141\" xlink:href=\"#DejaVuSans-30\"/>\n      </g>\n     </g>\n    </g>\n    <g id=\"xtick_43\">\n     <g id=\"line2d_171\">\n      <path clip-path=\"url(#pc6b984d28f)\" d=\"M 148.010443 1109.518125 \nL 148.010443 807.518125 \n\" style=\"fill:none;stroke:#b0b0b0;stroke-linecap:square;stroke-width:0.8;\"/>\n     </g>\n     <g id=\"line2d_172\">\n      <g>\n       <use style=\"stroke:#000000;stroke-width:0.8;\" x=\"148.010443\" xlink:href=\"#m4b6f2be80e\" y=\"1109.518125\"/>\n      </g>\n     </g>\n     <g id=\"text_92\">\n      <!-- 1200 -->\n      <g transform=\"translate(135.285443 1124.116563)scale(0.1 -0.1)\">\n       <use xlink:href=\"#DejaVuSans-31\"/>\n       <use x=\"63.623047\" xlink:href=\"#DejaVuSans-32\"/>\n       <use x=\"127.246094\" xlink:href=\"#DejaVuSans-30\"/>\n       <use x=\"190.869141\" xlink:href=\"#DejaVuSans-30\"/>\n      </g>\n     </g>\n    </g>\n    <g id=\"xtick_44\">\n     <g id=\"line2d_173\">\n      <path clip-path=\"url(#pc6b984d28f)\" d=\"M 210.986573 1109.518125 \nL 210.986573 807.518125 \n\" style=\"fill:none;stroke:#b0b0b0;stroke-linecap:square;stroke-width:0.8;\"/>\n     </g>\n     <g id=\"line2d_174\">\n      <g>\n       <use style=\"stroke:#000000;stroke-width:0.8;\" x=\"210.986573\" xlink:href=\"#m4b6f2be80e\" y=\"1109.518125\"/>\n      </g>\n     </g>\n     <g id=\"text_93\">\n      <!-- 1400 -->\n      <g transform=\"translate(198.261573 1124.116563)scale(0.1 -0.1)\">\n       <use xlink:href=\"#DejaVuSans-31\"/>\n       <use x=\"63.623047\" xlink:href=\"#DejaVuSans-34\"/>\n       <use x=\"127.246094\" xlink:href=\"#DejaVuSans-30\"/>\n       <use x=\"190.869141\" xlink:href=\"#DejaVuSans-30\"/>\n      </g>\n     </g>\n    </g>\n    <g id=\"xtick_45\">\n     <g id=\"line2d_175\">\n      <path clip-path=\"url(#pc6b984d28f)\" d=\"M 273.962703 1109.518125 \nL 273.962703 807.518125 \n\" style=\"fill:none;stroke:#b0b0b0;stroke-linecap:square;stroke-width:0.8;\"/>\n     </g>\n     <g id=\"line2d_176\">\n      <g>\n       <use style=\"stroke:#000000;stroke-width:0.8;\" x=\"273.962703\" xlink:href=\"#m4b6f2be80e\" y=\"1109.518125\"/>\n      </g>\n     </g>\n     <g id=\"text_94\">\n      <!-- 1600 -->\n      <g transform=\"translate(261.237703 1124.116563)scale(0.1 -0.1)\">\n       <use xlink:href=\"#DejaVuSans-31\"/>\n       <use x=\"63.623047\" xlink:href=\"#DejaVuSans-36\"/>\n       <use x=\"127.246094\" xlink:href=\"#DejaVuSans-30\"/>\n       <use x=\"190.869141\" xlink:href=\"#DejaVuSans-30\"/>\n      </g>\n     </g>\n    </g>\n   </g>\n   <g id=\"matplotlib.axis_14\">\n    <g id=\"ytick_44\">\n     <g id=\"line2d_177\">\n      <path clip-path=\"url(#pc6b984d28f)\" d=\"M 20.5625 1109.518125 \nL 330.5625 1109.518125 \n\" style=\"fill:none;stroke:#b0b0b0;stroke-linecap:square;stroke-width:0.8;\"/>\n     </g>\n     <g id=\"line2d_178\">\n      <g>\n       <use style=\"stroke:#000000;stroke-width:0.8;\" x=\"20.5625\" xlink:href=\"#m66f3358685\" y=\"1109.518125\"/>\n      </g>\n     </g>\n     <g id=\"text_95\">\n      <!-- 0 -->\n      <g transform=\"translate(7.2 1113.317344)scale(0.1 -0.1)\">\n       <use xlink:href=\"#DejaVuSans-30\"/>\n      </g>\n     </g>\n    </g>\n    <g id=\"ytick_45\">\n     <g id=\"line2d_179\">\n      <path clip-path=\"url(#pc6b984d28f)\" d=\"M 20.5625 1073.565744 \nL 330.5625 1073.565744 \n\" style=\"fill:none;stroke:#b0b0b0;stroke-linecap:square;stroke-width:0.8;\"/>\n     </g>\n     <g id=\"line2d_180\">\n      <g>\n       <use style=\"stroke:#000000;stroke-width:0.8;\" x=\"20.5625\" xlink:href=\"#m66f3358685\" y=\"1073.565744\"/>\n      </g>\n     </g>\n     <g id=\"text_96\">\n      <!-- 1 -->\n      <g transform=\"translate(7.2 1077.364963)scale(0.1 -0.1)\">\n       <use xlink:href=\"#DejaVuSans-31\"/>\n      </g>\n     </g>\n    </g>\n    <g id=\"ytick_46\">\n     <g id=\"line2d_181\">\n      <path clip-path=\"url(#pc6b984d28f)\" d=\"M 20.5625 1037.613363 \nL 330.5625 1037.613363 \n\" style=\"fill:none;stroke:#b0b0b0;stroke-linecap:square;stroke-width:0.8;\"/>\n     </g>\n     <g id=\"line2d_182\">\n      <g>\n       <use style=\"stroke:#000000;stroke-width:0.8;\" x=\"20.5625\" xlink:href=\"#m66f3358685\" y=\"1037.613363\"/>\n      </g>\n     </g>\n     <g id=\"text_97\">\n      <!-- 2 -->\n      <g transform=\"translate(7.2 1041.412582)scale(0.1 -0.1)\">\n       <use xlink:href=\"#DejaVuSans-32\"/>\n      </g>\n     </g>\n    </g>\n    <g id=\"ytick_47\">\n     <g id=\"line2d_183\">\n      <path clip-path=\"url(#pc6b984d28f)\" d=\"M 20.5625 1001.660982 \nL 330.5625 1001.660982 \n\" style=\"fill:none;stroke:#b0b0b0;stroke-linecap:square;stroke-width:0.8;\"/>\n     </g>\n     <g id=\"line2d_184\">\n      <g>\n       <use style=\"stroke:#000000;stroke-width:0.8;\" x=\"20.5625\" xlink:href=\"#m66f3358685\" y=\"1001.660982\"/>\n      </g>\n     </g>\n     <g id=\"text_98\">\n      <!-- 3 -->\n      <g transform=\"translate(7.2 1005.460201)scale(0.1 -0.1)\">\n       <use xlink:href=\"#DejaVuSans-33\"/>\n      </g>\n     </g>\n    </g>\n    <g id=\"ytick_48\">\n     <g id=\"line2d_185\">\n      <path clip-path=\"url(#pc6b984d28f)\" d=\"M 20.5625 965.708601 \nL 330.5625 965.708601 \n\" style=\"fill:none;stroke:#b0b0b0;stroke-linecap:square;stroke-width:0.8;\"/>\n     </g>\n     <g id=\"line2d_186\">\n      <g>\n       <use style=\"stroke:#000000;stroke-width:0.8;\" x=\"20.5625\" xlink:href=\"#m66f3358685\" y=\"965.708601\"/>\n      </g>\n     </g>\n     <g id=\"text_99\">\n      <!-- 4 -->\n      <g transform=\"translate(7.2 969.50782)scale(0.1 -0.1)\">\n       <use xlink:href=\"#DejaVuSans-34\"/>\n      </g>\n     </g>\n    </g>\n    <g id=\"ytick_49\">\n     <g id=\"line2d_187\">\n      <path clip-path=\"url(#pc6b984d28f)\" d=\"M 20.5625 929.75622 \nL 330.5625 929.75622 \n\" style=\"fill:none;stroke:#b0b0b0;stroke-linecap:square;stroke-width:0.8;\"/>\n     </g>\n     <g id=\"line2d_188\">\n      <g>\n       <use style=\"stroke:#000000;stroke-width:0.8;\" x=\"20.5625\" xlink:href=\"#m66f3358685\" y=\"929.75622\"/>\n      </g>\n     </g>\n     <g id=\"text_100\">\n      <!-- 5 -->\n      <g transform=\"translate(7.2 933.555439)scale(0.1 -0.1)\">\n       <use xlink:href=\"#DejaVuSans-35\"/>\n      </g>\n     </g>\n    </g>\n    <g id=\"ytick_50\">\n     <g id=\"line2d_189\">\n      <path clip-path=\"url(#pc6b984d28f)\" d=\"M 20.5625 893.803839 \nL 330.5625 893.803839 \n\" style=\"fill:none;stroke:#b0b0b0;stroke-linecap:square;stroke-width:0.8;\"/>\n     </g>\n     <g id=\"line2d_190\">\n      <g>\n       <use style=\"stroke:#000000;stroke-width:0.8;\" x=\"20.5625\" xlink:href=\"#m66f3358685\" y=\"893.803839\"/>\n      </g>\n     </g>\n     <g id=\"text_101\">\n      <!-- 6 -->\n      <g transform=\"translate(7.2 897.603058)scale(0.1 -0.1)\">\n       <use xlink:href=\"#DejaVuSans-36\"/>\n      </g>\n     </g>\n    </g>\n    <g id=\"ytick_51\">\n     <g id=\"line2d_191\">\n      <path clip-path=\"url(#pc6b984d28f)\" d=\"M 20.5625 857.851458 \nL 330.5625 857.851458 \n\" style=\"fill:none;stroke:#b0b0b0;stroke-linecap:square;stroke-width:0.8;\"/>\n     </g>\n     <g id=\"line2d_192\">\n      <g>\n       <use style=\"stroke:#000000;stroke-width:0.8;\" x=\"20.5625\" xlink:href=\"#m66f3358685\" y=\"857.851458\"/>\n      </g>\n     </g>\n     <g id=\"text_102\">\n      <!-- 7 -->\n      <g transform=\"translate(7.2 861.650677)scale(0.1 -0.1)\">\n       <use xlink:href=\"#DejaVuSans-37\"/>\n      </g>\n     </g>\n    </g>\n    <g id=\"ytick_52\">\n     <g id=\"line2d_193\">\n      <path clip-path=\"url(#pc6b984d28f)\" d=\"M 20.5625 821.899077 \nL 330.5625 821.899077 \n\" style=\"fill:none;stroke:#b0b0b0;stroke-linecap:square;stroke-width:0.8;\"/>\n     </g>\n     <g id=\"line2d_194\">\n      <g>\n       <use style=\"stroke:#000000;stroke-width:0.8;\" x=\"20.5625\" xlink:href=\"#m66f3358685\" y=\"821.899077\"/>\n      </g>\n     </g>\n     <g id=\"text_103\">\n      <!-- 8 -->\n      <g transform=\"translate(7.2 825.698296)scale(0.1 -0.1)\">\n       <use xlink:href=\"#DejaVuSans-38\"/>\n      </g>\n     </g>\n    </g>\n   </g>\n   <g id=\"patch_103\">\n    <path d=\"M 20.5625 1109.518125 \nL 20.5625 807.518125 \n\" style=\"fill:none;stroke:#000000;stroke-linecap:square;stroke-linejoin:miter;stroke-width:0.8;\"/>\n   </g>\n   <g id=\"patch_104\">\n    <path d=\"M 330.5625 1109.518125 \nL 330.5625 807.518125 \n\" style=\"fill:none;stroke:#000000;stroke-linecap:square;stroke-linejoin:miter;stroke-width:0.8;\"/>\n   </g>\n   <g id=\"patch_105\">\n    <path d=\"M 20.5625 1109.518125 \nL 330.5625 1109.518125 \n\" style=\"fill:none;stroke:#000000;stroke-linecap:square;stroke-linejoin:miter;stroke-width:0.8;\"/>\n   </g>\n   <g id=\"patch_106\">\n    <path d=\"M 20.5625 807.518125 \nL 330.5625 807.518125 \n\" style=\"fill:none;stroke:#000000;stroke-linecap:square;stroke-linejoin:miter;stroke-width:0.8;\"/>\n   </g>\n   <g id=\"text_104\">\n    <!-- poids -->\n    <g transform=\"translate(159.480625 801.518125)scale(0.12 -0.12)\">\n     <use xlink:href=\"#DejaVuSans-70\"/>\n     <use x=\"63.476562\" xlink:href=\"#DejaVuSans-6f\"/>\n     <use x=\"124.658203\" xlink:href=\"#DejaVuSans-69\"/>\n     <use x=\"152.441406\" xlink:href=\"#DejaVuSans-64\"/>\n     <use x=\"215.917969\" xlink:href=\"#DejaVuSans-73\"/>\n    </g>\n   </g>\n  </g>\n  <g id=\"axes_8\">\n   <g id=\"patch_107\">\n    <path d=\"M 423.5625 1109.518125 \nL 733.5625 1109.518125 \nL 733.5625 807.518125 \nL 423.5625 807.518125 \nz\n\" style=\"fill:#ffffff;\"/>\n   </g>\n   <g id=\"patch_108\">\n    <path clip-path=\"url(#p8b6c9d4373)\" d=\"M 437.653409 1109.518125 \nL 465.835227 1109.518125 \nL 465.835227 965.708601 \nL 437.653409 965.708601 \nz\n\" style=\"fill:#1f77b4;\"/>\n   </g>\n   <g id=\"patch_109\">\n    <path clip-path=\"url(#p8b6c9d4373)\" d=\"M 465.835227 1109.518125 \nL 494.017045 1109.518125 \nL 494.017045 821.899077 \nL 465.835227 821.899077 \nz\n\" style=\"fill:#1f77b4;\"/>\n   </g>\n   <g id=\"patch_110\">\n    <path clip-path=\"url(#p8b6c9d4373)\" d=\"M 494.017045 1109.518125 \nL 522.198864 1109.518125 \nL 522.198864 965.708601 \nL 494.017045 965.708601 \nz\n\" style=\"fill:#1f77b4;\"/>\n   </g>\n   <g id=\"patch_111\">\n    <path clip-path=\"url(#p8b6c9d4373)\" d=\"M 522.198864 1109.518125 \nL 550.380682 1109.518125 \nL 550.380682 1073.565744 \nL 522.198864 1073.565744 \nz\n\" style=\"fill:#1f77b4;\"/>\n   </g>\n   <g id=\"patch_112\">\n    <path clip-path=\"url(#p8b6c9d4373)\" d=\"M 550.380682 1109.518125 \nL 578.5625 1109.518125 \nL 578.5625 857.851458 \nL 550.380682 857.851458 \nz\n\" style=\"fill:#1f77b4;\"/>\n   </g>\n   <g id=\"patch_113\">\n    <path clip-path=\"url(#p8b6c9d4373)\" d=\"M 578.5625 1109.518125 \nL 606.744318 1109.518125 \nL 606.744318 1073.565744 \nL 578.5625 1073.565744 \nz\n\" style=\"fill:#1f77b4;\"/>\n   </g>\n   <g id=\"patch_114\">\n    <path clip-path=\"url(#p8b6c9d4373)\" d=\"M 606.744318 1109.518125 \nL 634.926136 1109.518125 \nL 634.926136 1037.613363 \nL 606.744318 1037.613363 \nz\n\" style=\"fill:#1f77b4;\"/>\n   </g>\n   <g id=\"patch_115\">\n    <path clip-path=\"url(#p8b6c9d4373)\" d=\"M 634.926136 1109.518125 \nL 663.107955 1109.518125 \nL 663.107955 1037.613363 \nL 634.926136 1037.613363 \nz\n\" style=\"fill:#1f77b4;\"/>\n   </g>\n   <g id=\"patch_116\">\n    <path clip-path=\"url(#p8b6c9d4373)\" d=\"M 663.107955 1109.518125 \nL 691.289773 1109.518125 \nL 691.289773 1109.518125 \nL 663.107955 1109.518125 \nz\n\" style=\"fill:#1f77b4;\"/>\n   </g>\n   <g id=\"patch_117\">\n    <path clip-path=\"url(#p8b6c9d4373)\" d=\"M 691.289773 1109.518125 \nL 719.471591 1109.518125 \nL 719.471591 1037.613363 \nL 691.289773 1037.613363 \nz\n\" style=\"fill:#1f77b4;\"/>\n   </g>\n   <g id=\"matplotlib.axis_15\">\n    <g id=\"xtick_46\">\n     <g id=\"line2d_195\">\n      <path clip-path=\"url(#p8b6c9d4373)\" d=\"M 457.089146 1109.518125 \nL 457.089146 807.518125 \n\" style=\"fill:none;stroke:#b0b0b0;stroke-linecap:square;stroke-width:0.8;\"/>\n     </g>\n     <g id=\"line2d_196\">\n      <g>\n       <use style=\"stroke:#000000;stroke-width:0.8;\" x=\"457.089146\" xlink:href=\"#m4b6f2be80e\" y=\"1109.518125\"/>\n      </g>\n     </g>\n     <g id=\"text_105\">\n      <!-- 125 -->\n      <g transform=\"translate(447.545396 1124.116563)scale(0.1 -0.1)\">\n       <use xlink:href=\"#DejaVuSans-31\"/>\n       <use x=\"63.623047\" xlink:href=\"#DejaVuSans-32\"/>\n       <use x=\"127.246094\" xlink:href=\"#DejaVuSans-35\"/>\n      </g>\n     </g>\n    </g>\n    <g id=\"xtick_47\">\n     <g id=\"line2d_197\">\n      <path clip-path=\"url(#p8b6c9d4373)\" d=\"M 497.580264 1109.518125 \nL 497.580264 807.518125 \n\" style=\"fill:none;stroke:#b0b0b0;stroke-linecap:square;stroke-width:0.8;\"/>\n     </g>\n     <g id=\"line2d_198\">\n      <g>\n       <use style=\"stroke:#000000;stroke-width:0.8;\" x=\"497.580264\" xlink:href=\"#m4b6f2be80e\" y=\"1109.518125\"/>\n      </g>\n     </g>\n     <g id=\"text_106\">\n      <!-- 150 -->\n      <g transform=\"translate(488.036514 1124.116563)scale(0.1 -0.1)\">\n       <use xlink:href=\"#DejaVuSans-31\"/>\n       <use x=\"63.623047\" xlink:href=\"#DejaVuSans-35\"/>\n       <use x=\"127.246094\" xlink:href=\"#DejaVuSans-30\"/>\n      </g>\n     </g>\n    </g>\n    <g id=\"xtick_48\">\n     <g id=\"line2d_199\">\n      <path clip-path=\"url(#p8b6c9d4373)\" d=\"M 538.071382 1109.518125 \nL 538.071382 807.518125 \n\" style=\"fill:none;stroke:#b0b0b0;stroke-linecap:square;stroke-width:0.8;\"/>\n     </g>\n     <g id=\"line2d_200\">\n      <g>\n       <use style=\"stroke:#000000;stroke-width:0.8;\" x=\"538.071382\" xlink:href=\"#m4b6f2be80e\" y=\"1109.518125\"/>\n      </g>\n     </g>\n     <g id=\"text_107\">\n      <!-- 175 -->\n      <g transform=\"translate(528.527632 1124.116563)scale(0.1 -0.1)\">\n       <use xlink:href=\"#DejaVuSans-31\"/>\n       <use x=\"63.623047\" xlink:href=\"#DejaVuSans-37\"/>\n       <use x=\"127.246094\" xlink:href=\"#DejaVuSans-35\"/>\n      </g>\n     </g>\n    </g>\n    <g id=\"xtick_49\">\n     <g id=\"line2d_201\">\n      <path clip-path=\"url(#p8b6c9d4373)\" d=\"M 578.5625 1109.518125 \nL 578.5625 807.518125 \n\" style=\"fill:none;stroke:#b0b0b0;stroke-linecap:square;stroke-width:0.8;\"/>\n     </g>\n     <g id=\"line2d_202\">\n      <g>\n       <use style=\"stroke:#000000;stroke-width:0.8;\" x=\"578.5625\" xlink:href=\"#m4b6f2be80e\" y=\"1109.518125\"/>\n      </g>\n     </g>\n     <g id=\"text_108\">\n      <!-- 200 -->\n      <g transform=\"translate(569.01875 1124.116563)scale(0.1 -0.1)\">\n       <use xlink:href=\"#DejaVuSans-32\"/>\n       <use x=\"63.623047\" xlink:href=\"#DejaVuSans-30\"/>\n       <use x=\"127.246094\" xlink:href=\"#DejaVuSans-30\"/>\n      </g>\n     </g>\n    </g>\n    <g id=\"xtick_50\">\n     <g id=\"line2d_203\">\n      <path clip-path=\"url(#p8b6c9d4373)\" d=\"M 619.053618 1109.518125 \nL 619.053618 807.518125 \n\" style=\"fill:none;stroke:#b0b0b0;stroke-linecap:square;stroke-width:0.8;\"/>\n     </g>\n     <g id=\"line2d_204\">\n      <g>\n       <use style=\"stroke:#000000;stroke-width:0.8;\" x=\"619.053618\" xlink:href=\"#m4b6f2be80e\" y=\"1109.518125\"/>\n      </g>\n     </g>\n     <g id=\"text_109\">\n      <!-- 225 -->\n      <g transform=\"translate(609.509868 1124.116563)scale(0.1 -0.1)\">\n       <use xlink:href=\"#DejaVuSans-32\"/>\n       <use x=\"63.623047\" xlink:href=\"#DejaVuSans-32\"/>\n       <use x=\"127.246094\" xlink:href=\"#DejaVuSans-35\"/>\n      </g>\n     </g>\n    </g>\n    <g id=\"xtick_51\">\n     <g id=\"line2d_205\">\n      <path clip-path=\"url(#p8b6c9d4373)\" d=\"M 659.544736 1109.518125 \nL 659.544736 807.518125 \n\" style=\"fill:none;stroke:#b0b0b0;stroke-linecap:square;stroke-width:0.8;\"/>\n     </g>\n     <g id=\"line2d_206\">\n      <g>\n       <use style=\"stroke:#000000;stroke-width:0.8;\" x=\"659.544736\" xlink:href=\"#m4b6f2be80e\" y=\"1109.518125\"/>\n      </g>\n     </g>\n     <g id=\"text_110\">\n      <!-- 250 -->\n      <g transform=\"translate(650.000986 1124.116563)scale(0.1 -0.1)\">\n       <use xlink:href=\"#DejaVuSans-32\"/>\n       <use x=\"63.623047\" xlink:href=\"#DejaVuSans-35\"/>\n       <use x=\"127.246094\" xlink:href=\"#DejaVuSans-30\"/>\n      </g>\n     </g>\n    </g>\n    <g id=\"xtick_52\">\n     <g id=\"line2d_207\">\n      <path clip-path=\"url(#p8b6c9d4373)\" d=\"M 700.035854 1109.518125 \nL 700.035854 807.518125 \n\" style=\"fill:none;stroke:#b0b0b0;stroke-linecap:square;stroke-width:0.8;\"/>\n     </g>\n     <g id=\"line2d_208\">\n      <g>\n       <use style=\"stroke:#000000;stroke-width:0.8;\" x=\"700.035854\" xlink:href=\"#m4b6f2be80e\" y=\"1109.518125\"/>\n      </g>\n     </g>\n     <g id=\"text_111\">\n      <!-- 275 -->\n      <g transform=\"translate(690.492104 1124.116563)scale(0.1 -0.1)\">\n       <use xlink:href=\"#DejaVuSans-32\"/>\n       <use x=\"63.623047\" xlink:href=\"#DejaVuSans-37\"/>\n       <use x=\"127.246094\" xlink:href=\"#DejaVuSans-35\"/>\n      </g>\n     </g>\n    </g>\n   </g>\n   <g id=\"matplotlib.axis_16\">\n    <g id=\"ytick_53\">\n     <g id=\"line2d_209\">\n      <path clip-path=\"url(#p8b6c9d4373)\" d=\"M 423.5625 1109.518125 \nL 733.5625 1109.518125 \n\" style=\"fill:none;stroke:#b0b0b0;stroke-linecap:square;stroke-width:0.8;\"/>\n     </g>\n     <g id=\"line2d_210\">\n      <g>\n       <use style=\"stroke:#000000;stroke-width:0.8;\" x=\"423.5625\" xlink:href=\"#m66f3358685\" y=\"1109.518125\"/>\n      </g>\n     </g>\n     <g id=\"text_112\">\n      <!-- 0 -->\n      <g transform=\"translate(410.2 1113.317344)scale(0.1 -0.1)\">\n       <use xlink:href=\"#DejaVuSans-30\"/>\n      </g>\n     </g>\n    </g>\n    <g id=\"ytick_54\">\n     <g id=\"line2d_211\">\n      <path clip-path=\"url(#p8b6c9d4373)\" d=\"M 423.5625 1073.565744 \nL 733.5625 1073.565744 \n\" style=\"fill:none;stroke:#b0b0b0;stroke-linecap:square;stroke-width:0.8;\"/>\n     </g>\n     <g id=\"line2d_212\">\n      <g>\n       <use style=\"stroke:#000000;stroke-width:0.8;\" x=\"423.5625\" xlink:href=\"#m66f3358685\" y=\"1073.565744\"/>\n      </g>\n     </g>\n     <g id=\"text_113\">\n      <!-- 1 -->\n      <g transform=\"translate(410.2 1077.364963)scale(0.1 -0.1)\">\n       <use xlink:href=\"#DejaVuSans-31\"/>\n      </g>\n     </g>\n    </g>\n    <g id=\"ytick_55\">\n     <g id=\"line2d_213\">\n      <path clip-path=\"url(#p8b6c9d4373)\" d=\"M 423.5625 1037.613363 \nL 733.5625 1037.613363 \n\" style=\"fill:none;stroke:#b0b0b0;stroke-linecap:square;stroke-width:0.8;\"/>\n     </g>\n     <g id=\"line2d_214\">\n      <g>\n       <use style=\"stroke:#000000;stroke-width:0.8;\" x=\"423.5625\" xlink:href=\"#m66f3358685\" y=\"1037.613363\"/>\n      </g>\n     </g>\n     <g id=\"text_114\">\n      <!-- 2 -->\n      <g transform=\"translate(410.2 1041.412582)scale(0.1 -0.1)\">\n       <use xlink:href=\"#DejaVuSans-32\"/>\n      </g>\n     </g>\n    </g>\n    <g id=\"ytick_56\">\n     <g id=\"line2d_215\">\n      <path clip-path=\"url(#p8b6c9d4373)\" d=\"M 423.5625 1001.660982 \nL 733.5625 1001.660982 \n\" style=\"fill:none;stroke:#b0b0b0;stroke-linecap:square;stroke-width:0.8;\"/>\n     </g>\n     <g id=\"line2d_216\">\n      <g>\n       <use style=\"stroke:#000000;stroke-width:0.8;\" x=\"423.5625\" xlink:href=\"#m66f3358685\" y=\"1001.660982\"/>\n      </g>\n     </g>\n     <g id=\"text_115\">\n      <!-- 3 -->\n      <g transform=\"translate(410.2 1005.460201)scale(0.1 -0.1)\">\n       <use xlink:href=\"#DejaVuSans-33\"/>\n      </g>\n     </g>\n    </g>\n    <g id=\"ytick_57\">\n     <g id=\"line2d_217\">\n      <path clip-path=\"url(#p8b6c9d4373)\" d=\"M 423.5625 965.708601 \nL 733.5625 965.708601 \n\" style=\"fill:none;stroke:#b0b0b0;stroke-linecap:square;stroke-width:0.8;\"/>\n     </g>\n     <g id=\"line2d_218\">\n      <g>\n       <use style=\"stroke:#000000;stroke-width:0.8;\" x=\"423.5625\" xlink:href=\"#m66f3358685\" y=\"965.708601\"/>\n      </g>\n     </g>\n     <g id=\"text_116\">\n      <!-- 4 -->\n      <g transform=\"translate(410.2 969.50782)scale(0.1 -0.1)\">\n       <use xlink:href=\"#DejaVuSans-34\"/>\n      </g>\n     </g>\n    </g>\n    <g id=\"ytick_58\">\n     <g id=\"line2d_219\">\n      <path clip-path=\"url(#p8b6c9d4373)\" d=\"M 423.5625 929.75622 \nL 733.5625 929.75622 \n\" style=\"fill:none;stroke:#b0b0b0;stroke-linecap:square;stroke-width:0.8;\"/>\n     </g>\n     <g id=\"line2d_220\">\n      <g>\n       <use style=\"stroke:#000000;stroke-width:0.8;\" x=\"423.5625\" xlink:href=\"#m66f3358685\" y=\"929.75622\"/>\n      </g>\n     </g>\n     <g id=\"text_117\">\n      <!-- 5 -->\n      <g transform=\"translate(410.2 933.555439)scale(0.1 -0.1)\">\n       <use xlink:href=\"#DejaVuSans-35\"/>\n      </g>\n     </g>\n    </g>\n    <g id=\"ytick_59\">\n     <g id=\"line2d_221\">\n      <path clip-path=\"url(#p8b6c9d4373)\" d=\"M 423.5625 893.803839 \nL 733.5625 893.803839 \n\" style=\"fill:none;stroke:#b0b0b0;stroke-linecap:square;stroke-width:0.8;\"/>\n     </g>\n     <g id=\"line2d_222\">\n      <g>\n       <use style=\"stroke:#000000;stroke-width:0.8;\" x=\"423.5625\" xlink:href=\"#m66f3358685\" y=\"893.803839\"/>\n      </g>\n     </g>\n     <g id=\"text_118\">\n      <!-- 6 -->\n      <g transform=\"translate(410.2 897.603058)scale(0.1 -0.1)\">\n       <use xlink:href=\"#DejaVuSans-36\"/>\n      </g>\n     </g>\n    </g>\n    <g id=\"ytick_60\">\n     <g id=\"line2d_223\">\n      <path clip-path=\"url(#p8b6c9d4373)\" d=\"M 423.5625 857.851458 \nL 733.5625 857.851458 \n\" style=\"fill:none;stroke:#b0b0b0;stroke-linecap:square;stroke-width:0.8;\"/>\n     </g>\n     <g id=\"line2d_224\">\n      <g>\n       <use style=\"stroke:#000000;stroke-width:0.8;\" x=\"423.5625\" xlink:href=\"#m66f3358685\" y=\"857.851458\"/>\n      </g>\n     </g>\n     <g id=\"text_119\">\n      <!-- 7 -->\n      <g transform=\"translate(410.2 861.650677)scale(0.1 -0.1)\">\n       <use xlink:href=\"#DejaVuSans-37\"/>\n      </g>\n     </g>\n    </g>\n    <g id=\"ytick_61\">\n     <g id=\"line2d_225\">\n      <path clip-path=\"url(#p8b6c9d4373)\" d=\"M 423.5625 821.899077 \nL 733.5625 821.899077 \n\" style=\"fill:none;stroke:#b0b0b0;stroke-linecap:square;stroke-width:0.8;\"/>\n     </g>\n     <g id=\"line2d_226\">\n      <g>\n       <use style=\"stroke:#000000;stroke-width:0.8;\" x=\"423.5625\" xlink:href=\"#m66f3358685\" y=\"821.899077\"/>\n      </g>\n     </g>\n     <g id=\"text_120\">\n      <!-- 8 -->\n      <g transform=\"translate(410.2 825.698296)scale(0.1 -0.1)\">\n       <use xlink:href=\"#DejaVuSans-38\"/>\n      </g>\n     </g>\n    </g>\n   </g>\n   <g id=\"patch_118\">\n    <path d=\"M 423.5625 1109.518125 \nL 423.5625 807.518125 \n\" style=\"fill:none;stroke:#000000;stroke-linecap:square;stroke-linejoin:miter;stroke-width:0.8;\"/>\n   </g>\n   <g id=\"patch_119\">\n    <path d=\"M 733.5625 1109.518125 \nL 733.5625 807.518125 \n\" style=\"fill:none;stroke:#000000;stroke-linecap:square;stroke-linejoin:miter;stroke-width:0.8;\"/>\n   </g>\n   <g id=\"patch_120\">\n    <path d=\"M 423.5625 1109.518125 \nL 733.5625 1109.518125 \n\" style=\"fill:none;stroke:#000000;stroke-linecap:square;stroke-linejoin:miter;stroke-width:0.8;\"/>\n   </g>\n   <g id=\"patch_121\">\n    <path d=\"M 423.5625 807.518125 \nL 733.5625 807.518125 \n\" style=\"fill:none;stroke:#000000;stroke-linecap:square;stroke-linejoin:miter;stroke-width:0.8;\"/>\n   </g>\n   <g id=\"text_121\">\n    <!-- C02 -->\n    <g transform=\"translate(566.737813 801.518125)scale(0.12 -0.12)\">\n     <defs>\n      <path d=\"M 4122 4306 \nL 4122 3641 \nQ 3803 3938 3442 4084 \nQ 3081 4231 2675 4231 \nQ 1875 4231 1450 3742 \nQ 1025 3253 1025 2328 \nQ 1025 1406 1450 917 \nQ 1875 428 2675 428 \nQ 3081 428 3442 575 \nQ 3803 722 4122 1019 \nL 4122 359 \nQ 3791 134 3420 21 \nQ 3050 -91 2638 -91 \nQ 1578 -91 968 557 \nQ 359 1206 359 2328 \nQ 359 3453 968 4101 \nQ 1578 4750 2638 4750 \nQ 3056 4750 3426 4639 \nQ 3797 4528 4122 4306 \nz\n\" id=\"DejaVuSans-43\" transform=\"scale(0.015625)\"/>\n     </defs>\n     <use xlink:href=\"#DejaVuSans-43\"/>\n     <use x=\"69.824219\" xlink:href=\"#DejaVuSans-30\"/>\n     <use x=\"133.447266\" xlink:href=\"#DejaVuSans-32\"/>\n    </g>\n   </g>\n  </g>\n </g>\n <defs>\n  <clipPath id=\"p2fcad1458d\">\n   <rect height=\"302\" width=\"310\" x=\"20.5625\" y=\"22.318125\"/>\n  </clipPath>\n  <clipPath id=\"p3df3668939\">\n   <rect height=\"302\" width=\"310\" x=\"423.5625\" y=\"22.318125\"/>\n  </clipPath>\n  <clipPath id=\"pb39f30f4be\">\n   <rect height=\"302\" width=\"310\" x=\"826.5625\" y=\"22.318125\"/>\n  </clipPath>\n  <clipPath id=\"pbe13d09ecb\">\n   <rect height=\"302\" width=\"310\" x=\"20.5625\" y=\"414.918125\"/>\n  </clipPath>\n  <clipPath id=\"p0b37c87c61\">\n   <rect height=\"302\" width=\"310\" x=\"423.5625\" y=\"414.918125\"/>\n  </clipPath>\n  <clipPath id=\"p6babf8ac1c\">\n   <rect height=\"302\" width=\"310\" x=\"826.5625\" y=\"414.918125\"/>\n  </clipPath>\n  <clipPath id=\"pc6b984d28f\">\n   <rect height=\"302\" width=\"310\" x=\"20.5625\" y=\"807.518125\"/>\n  </clipPath>\n  <clipPath id=\"p8b6c9d4373\">\n   <rect height=\"302\" width=\"310\" x=\"423.5625\" y=\"807.518125\"/>\n  </clipPath>\n </defs>\n</svg>\n",
      "image/png": "[encoded data removed]"
     },
     "metadata": {
      "needs_background": "light"
     }
    }
   ],
   "source": [
    "data.hist(bins=10, figsize=(20, 20));"
   ]
  },
  {
   "source": [
    "Pour utiliser un algorithme de machine learning, il est toujours conseillé de standardiser les données."
   ],
   "cell_type": "markdown",
   "metadata": {}
  },
  {
   "cell_type": "code",
   "execution_count": 3,
   "metadata": {},
   "outputs": [],
   "source": [
    "from sklearn import preprocessing\n",
    "\n",
    "data_scaled = preprocessing.scale(data.iloc[:, 1:])  # standardisation"
   ]
  },
  {
   "cell_type": "code",
   "execution_count": 4,
   "metadata": {},
   "outputs": [
    {
     "output_type": "execute_result",
     "data": {
      "text/plain": [
       "array([0.68538152, 0.164953  ])"
      ]
     },
     "metadata": {},
     "execution_count": 4
    }
   ],
   "source": [
    "from sklearn.decomposition import PCA\n",
    "\n",
    "pca = PCA(n_components=2)\n",
    "data2d = pd.DataFrame(pca.fit_transform(data_scaled), index=data[\"Modele\"], columns=[\"x\", \"y\"])\n",
    "pca.explained_variance_ratio_ # variance expliquée par les deux axes principaux"
   ]
  },
  {
   "cell_type": "code",
   "execution_count": 5,
   "metadata": {},
   "outputs": [
    {
     "output_type": "execute_result",
     "data": {
      "text/plain": [
       "   puissance  cylindree   vitesse  longueur   largeur   hauteur    poids  \\\n",
       "x  -0.395955  -0.371059 -0.406241 -0.386756 -0.338006  0.100741 -0.38471   \n",
       "y  -0.217416   0.063236 -0.113148  0.183883  0.350161  0.757701  0.29559   \n",
       "\n",
       "        C02  \n",
       "x -0.344273  \n",
       "y -0.343538  "
      ],
      "text/html": "<div>\n<style scoped>\n    .dataframe tbody tr th:only-of-type {\n        vertical-align: middle;\n    }\n\n    .dataframe tbody tr th {\n        vertical-align: top;\n    }\n\n    .dataframe thead th {\n        text-align: right;\n    }\n</style>\n<table border=\"1\" class=\"dataframe\">\n  <thead>\n    <tr style=\"text-align: right;\">\n      <th></th>\n      <th>puissance</th>\n      <th>cylindree</th>\n      <th>vitesse</th>\n      <th>longueur</th>\n      <th>largeur</th>\n      <th>hauteur</th>\n      <th>poids</th>\n      <th>C02</th>\n    </tr>\n  </thead>\n  <tbody>\n    <tr>\n      <th>x</th>\n      <td>-0.395955</td>\n      <td>-0.371059</td>\n      <td>-0.406241</td>\n      <td>-0.386756</td>\n      <td>-0.338006</td>\n      <td>0.100741</td>\n      <td>-0.38471</td>\n      <td>-0.344273</td>\n    </tr>\n    <tr>\n      <th>y</th>\n      <td>-0.217416</td>\n      <td>0.063236</td>\n      <td>-0.113148</td>\n      <td>0.183883</td>\n      <td>0.350161</td>\n      <td>0.757701</td>\n      <td>0.29559</td>\n      <td>-0.343538</td>\n    </tr>\n  </tbody>\n</table>\n</div>"
     },
     "metadata": {},
     "execution_count": 5
    }
   ],
   "source": [
    "pd.DataFrame(pca.components_, index=[\"x\", \"y\"], columns=data.columns[1:])  # coordonnées des deux axes principaux"
   ]
  },
  {
   "source": [
    "On voit que l'axe x discrimine les grosses voitures : plus cette valeur est petite, plus la voiture correspondante est puissante, rapide, large, polluante... Étonnamment, la hauteur rentre peu en compte sur cet axe et est même inversement proportionnelle aux autre coordonnées.  \n",
    "L'axe y discrimine les voitures selon leur hauteur principalement.  \n",
    "Il y a donc 2 informations particulièrement importantes : la largeur générale de la voiture et sa hauteur.  "
   ],
   "cell_type": "markdown",
   "metadata": {}
  },
  {
   "cell_type": "code",
   "execution_count": 6,
   "metadata": {},
   "outputs": [
    {
     "output_type": "display_data",
     "data": {
      "application/vnd.plotly.v1+json": {
       "config": {
        "plotlyServerURL": "https://plot.ly"
       },
       "data": [
        {
         "hovertemplate": "x=%{x}<br>y=%{y}<br>text=%{text}<extra></extra>",
         "legendgroup": "",
         "marker": {
          "color": "#636efa",
          "symbol": "circle"
         },
         "mode": "markers+text",
         "name": "",
         "orientation": "v",
         "showlegend": false,
         "text": [
          "PANDA",
          "TWINGO",
          "YARIS",
          "CITRONC2",
          "CORSA",
          "FIESTA",
          "CLIO",
          "P1007",
          "MODUS",
          "MUSA",
          "GOLF",
          "MERC_A",
          "AUDIA3",
          "CITRONC4",
          "AVENSIS",
          "VECTRA",
          "PASSAT",
          "LAGUNA",
          "MEGANECC",
          "P407",
          "P307CC",
          "PTCRUISER",
          "MONDEO",
          "MAZDARX8",
          "VELSATIS",
          "CITRONC5",
          "P607",
          "MERC_E",
          "ALFA 156",
          "BMW530",
          "BERLINGO"
         ],
         "textposition": "top center",
         "type": "scatter",
         "x": [
          4.137809697466457,
          3.828390880501697,
          3.6081291796957946,
          3.3221940776657237,
          2.8939723209204664,
          2.539202876988808,
          2.5144517622839153,
          2.4563852943352105,
          1.558015287339418,
          1.4708669255201916,
          1.271134774072554,
          0.5205692677831807,
          0.7500203462822689,
          -0.18365560103875356,
          -0.21097187772203735,
          -0.9351477139958221,
          -0.9592667000158229,
          -1.145364547334038,
          -1.1770411769323224,
          -1.2403522885015732,
          -1.4225493379813205,
          -1.6180331833354795,
          -1.8420509900649578,
          -2.07756183616932,
          -1.9443305750904585,
          -2.7671609348384125,
          -3.398146273487229,
          -3.4769615184858487,
          -3.498113047264456,
          -3.692601645710391,
          0.7181665571125583
         ],
         "xaxis": "x",
         "y": [
          -0.49279655967721303,
          -1.3235259042478835,
          -0.49027445875097414,
          -0.6862060584304978,
          -0.7121589185672933,
          -0.3172054333160373,
          -1.0466811737253643,
          0.7298167727343011,
          0.35163242057724653,
          1.5860390487053653,
          0.49363413510118836,
          1.0239464214586333,
          -0.359533842657163,
          0.17507600471353568,
          0.45308792667411346,
          0.24367317541380878,
          -0.25401254987128175,
          -0.5487532101371675,
          -0.6730267926373936,
          0.08921920130966796,
          -0.7200174427746385,
          -0.18918391846816937,
          0.44537967294001984,
          -2.3286235796884167,
          1.8062280463074767,
          -0.23951034278465222,
          0.1827307659673783,
          0.5001980943904101,
          -1.7927264241030771,
          -0.12266784247809742,
          4.216242766022172
         ],
         "yaxis": "y"
        }
       ],
       "layout": {
        "height": 600,
        "legend": {
         "tracegroupgap": 0
        },
        "margin": {
         "t": 60
        },
        "template": {
         "data": {
          "bar": [
           {
            "error_x": {
             "color": "#2a3f5f"
            },
            "error_y": {
             "color": "#2a3f5f"
            },
            "marker": {
             "line": {
              "color": "#E5ECF6",
              "width": 0.5
             },
             "pattern": {
              "fillmode": "overlay",
              "size": 10,
              "solidity": 0.2
             }
            },
            "type": "bar"
           }
          ],
          "barpolar": [
           {
            "marker": {
             "line": {
              "color": "#E5ECF6",
              "width": 0.5
             },
             "pattern": {
              "fillmode": "overlay",
              "size": 10,
              "solidity": 0.2
             }
            },
            "type": "barpolar"
           }
          ],
          "carpet": [
           {
            "aaxis": {
             "endlinecolor": "#2a3f5f",
             "gridcolor": "white",
             "linecolor": "white",
             "minorgridcolor": "white",
             "startlinecolor": "#2a3f5f"
            },
            "baxis": {
             "endlinecolor": "#2a3f5f",
             "gridcolor": "white",
             "linecolor": "white",
             "minorgridcolor": "white",
             "startlinecolor": "#2a3f5f"
            },
            "type": "carpet"
           }
          ],
          "choropleth": [
           {
            "colorbar": {
             "outlinewidth": 0,
             "ticks": ""
            },
            "type": "choropleth"
           }
          ],
          "contour": [
           {
            "colorbar": {
             "outlinewidth": 0,
             "ticks": ""
            },
            "colorscale": [
             [
              0,
              "#0d0887"
             ],
             [
              0.1111111111111111,
              "#46039f"
             ],
             [
              0.2222222222222222,
              "#7201a8"
             ],
             [
              0.3333333333333333,
              "#9c179e"
             ],
             [
              0.4444444444444444,
              "#bd3786"
             ],
             [
              0.5555555555555556,
              "#d8576b"
             ],
             [
              0.6666666666666666,
              "#ed7953"
             ],
             [
              0.7777777777777778,
              "#fb9f3a"
             ],
             [
              0.8888888888888888,
              "#fdca26"
             ],
             [
              1,
              "#f0f921"
             ]
            ],
            "type": "contour"
           }
          ],
          "contourcarpet": [
           {
            "colorbar": {
             "outlinewidth": 0,
             "ticks": ""
            },
            "type": "contourcarpet"
           }
          ],
          "heatmap": [
           {
            "colorbar": {
             "outlinewidth": 0,
             "ticks": ""
            },
            "colorscale": [
             [
              0,
              "#0d0887"
             ],
             [
              0.1111111111111111,
              "#46039f"
             ],
             [
              0.2222222222222222,
              "#7201a8"
             ],
             [
              0.3333333333333333,
              "#9c179e"
             ],
             [
              0.4444444444444444,
              "#bd3786"
             ],
             [
              0.5555555555555556,
              "#d8576b"
             ],
             [
              0.6666666666666666,
              "#ed7953"
             ],
             [
              0.7777777777777778,
              "#fb9f3a"
             ],
             [
              0.8888888888888888,
              "#fdca26"
             ],
             [
              1,
              "#f0f921"
             ]
            ],
            "type": "heatmap"
           }
          ],
          "heatmapgl": [
           {
            "colorbar": {
             "outlinewidth": 0,
             "ticks": ""
            },
            "colorscale": [
             [
              0,
              "#0d0887"
             ],
             [
              0.1111111111111111,
              "#46039f"
             ],
             [
              0.2222222222222222,
              "#7201a8"
             ],
             [
              0.3333333333333333,
              "#9c179e"
             ],
             [
              0.4444444444444444,
              "#bd3786"
             ],
             [
              0.5555555555555556,
              "#d8576b"
             ],
             [
              0.6666666666666666,
              "#ed7953"
             ],
             [
              0.7777777777777778,
              "#fb9f3a"
             ],
             [
              0.8888888888888888,
              "#fdca26"
             ],
             [
              1,
              "#f0f921"
             ]
            ],
            "type": "heatmapgl"
           }
          ],
          "histogram": [
           {
            "marker": {
             "pattern": {
              "fillmode": "overlay",
              "size": 10,
              "solidity": 0.2
             }
            },
            "type": "histogram"
           }
          ],
          "histogram2d": [
           {
            "colorbar": {
             "outlinewidth": 0,
             "ticks": ""
            },
            "colorscale": [
             [
              0,
              "#0d0887"
             ],
             [
              0.1111111111111111,
              "#46039f"
             ],
             [
              0.2222222222222222,
              "#7201a8"
             ],
             [
              0.3333333333333333,
              "#9c179e"
             ],
             [
              0.4444444444444444,
              "#bd3786"
             ],
             [
              0.5555555555555556,
              "#d8576b"
             ],
             [
              0.6666666666666666,
              "#ed7953"
             ],
             [
              0.7777777777777778,
              "#fb9f3a"
             ],
             [
              0.8888888888888888,
              "#fdca26"
             ],
             [
              1,
              "#f0f921"
             ]
            ],
            "type": "histogram2d"
           }
          ],
          "histogram2dcontour": [
           {
            "colorbar": {
             "outlinewidth": 0,
             "ticks": ""
            },
            "colorscale": [
             [
              0,
              "#0d0887"
             ],
             [
              0.1111111111111111,
              "#46039f"
             ],
             [
              0.2222222222222222,
              "#7201a8"
             ],
             [
              0.3333333333333333,
              "#9c179e"
             ],
             [
              0.4444444444444444,
              "#bd3786"
             ],
             [
              0.5555555555555556,
              "#d8576b"
             ],
             [
              0.6666666666666666,
              "#ed7953"
             ],
             [
              0.7777777777777778,
              "#fb9f3a"
             ],
             [
              0.8888888888888888,
              "#fdca26"
             ],
             [
              1,
              "#f0f921"
             ]
            ],
            "type": "histogram2dcontour"
           }
          ],
          "mesh3d": [
           {
            "colorbar": {
             "outlinewidth": 0,
             "ticks": ""
            },
            "type": "mesh3d"
           }
          ],
          "parcoords": [
           {
            "line": {
             "colorbar": {
              "outlinewidth": 0,
              "ticks": ""
             }
            },
            "type": "parcoords"
           }
          ],
          "pie": [
           {
            "automargin": true,
            "type": "pie"
           }
          ],
          "scatter": [
           {
            "marker": {
             "colorbar": {
              "outlinewidth": 0,
              "ticks": ""
             }
            },
            "type": "scatter"
           }
          ],
          "scatter3d": [
           {
            "line": {
             "colorbar": {
              "outlinewidth": 0,
              "ticks": ""
             }
            },
            "marker": {
             "colorbar": {
              "outlinewidth": 0,
              "ticks": ""
             }
            },
            "type": "scatter3d"
           }
          ],
          "scattercarpet": [
           {
            "marker": {
             "colorbar": {
              "outlinewidth": 0,
              "ticks": ""
             }
            },
            "type": "scattercarpet"
           }
          ],
          "scattergeo": [
           {
            "marker": {
             "colorbar": {
              "outlinewidth": 0,
              "ticks": ""
             }
            },
            "type": "scattergeo"
           }
          ],
          "scattergl": [
           {
            "marker": {
             "colorbar": {
              "outlinewidth": 0,
              "ticks": ""
             }
            },
            "type": "scattergl"
           }
          ],
          "scattermapbox": [
           {
            "marker": {
             "colorbar": {
              "outlinewidth": 0,
              "ticks": ""
             }
            },
            "type": "scattermapbox"
           }
          ],
          "scatterpolar": [
           {
            "marker": {
             "colorbar": {
              "outlinewidth": 0,
              "ticks": ""
             }
            },
            "type": "scatterpolar"
           }
          ],
          "scatterpolargl": [
           {
            "marker": {
             "colorbar": {
              "outlinewidth": 0,
              "ticks": ""
             }
            },
            "type": "scatterpolargl"
           }
          ],
          "scatterternary": [
           {
            "marker": {
             "colorbar": {
              "outlinewidth": 0,
              "ticks": ""
             }
            },
            "type": "scatterternary"
           }
          ],
          "surface": [
           {
            "colorbar": {
             "outlinewidth": 0,
             "ticks": ""
            },
            "colorscale": [
             [
              0,
              "#0d0887"
             ],
             [
              0.1111111111111111,
              "#46039f"
             ],
             [
              0.2222222222222222,
              "#7201a8"
             ],
             [
              0.3333333333333333,
              "#9c179e"
             ],
             [
              0.4444444444444444,
              "#bd3786"
             ],
             [
              0.5555555555555556,
              "#d8576b"
             ],
             [
              0.6666666666666666,
              "#ed7953"
             ],
             [
              0.7777777777777778,
              "#fb9f3a"
             ],
             [
              0.8888888888888888,
              "#fdca26"
             ],
             [
              1,
              "#f0f921"
             ]
            ],
            "type": "surface"
           }
          ],
          "table": [
           {
            "cells": {
             "fill": {
              "color": "#EBF0F8"
             },
             "line": {
              "color": "white"
             }
            },
            "header": {
             "fill": {
              "color": "#C8D4E3"
             },
             "line": {
              "color": "white"
             }
            },
            "type": "table"
           }
          ]
         },
         "layout": {
          "annotationdefaults": {
           "arrowcolor": "#2a3f5f",
           "arrowhead": 0,
           "arrowwidth": 1
          },
          "autotypenumbers": "strict",
          "coloraxis": {
           "colorbar": {
            "outlinewidth": 0,
            "ticks": ""
           }
          },
          "colorscale": {
           "diverging": [
            [
             0,
             "#8e0152"
            ],
            [
             0.1,
             "#c51b7d"
            ],
            [
             0.2,
             "#de77ae"
            ],
            [
             0.3,
             "#f1b6da"
            ],
            [
             0.4,
             "#fde0ef"
            ],
            [
             0.5,
             "#f7f7f7"
            ],
            [
             0.6,
             "#e6f5d0"
            ],
            [
             0.7,
             "#b8e186"
            ],
            [
             0.8,
             "#7fbc41"
            ],
            [
             0.9,
             "#4d9221"
            ],
            [
             1,
             "#276419"
            ]
           ],
           "sequential": [
            [
             0,
             "#0d0887"
            ],
            [
             0.1111111111111111,
             "#46039f"
            ],
            [
             0.2222222222222222,
             "#7201a8"
            ],
            [
             0.3333333333333333,
             "#9c179e"
            ],
            [
             0.4444444444444444,
             "#bd3786"
            ],
            [
             0.5555555555555556,
             "#d8576b"
            ],
            [
             0.6666666666666666,
             "#ed7953"
            ],
            [
             0.7777777777777778,
             "#fb9f3a"
            ],
            [
             0.8888888888888888,
             "#fdca26"
            ],
            [
             1,
             "#f0f921"
            ]
           ],
           "sequentialminus": [
            [
             0,
             "#0d0887"
            ],
            [
             0.1111111111111111,
             "#46039f"
            ],
            [
             0.2222222222222222,
             "#7201a8"
            ],
            [
             0.3333333333333333,
             "#9c179e"
            ],
            [
             0.4444444444444444,
             "#bd3786"
            ],
            [
             0.5555555555555556,
             "#d8576b"
            ],
            [
             0.6666666666666666,
             "#ed7953"
            ],
            [
             0.7777777777777778,
             "#fb9f3a"
            ],
            [
             0.8888888888888888,
             "#fdca26"
            ],
            [
             1,
             "#f0f921"
            ]
           ]
          },
          "colorway": [
           "#636efa",
           "#EF553B",
           "#00cc96",
           "#ab63fa",
           "#FFA15A",
           "#19d3f3",
           "#FF6692",
           "#B6E880",
           "#FF97FF",
           "#FECB52"
          ],
          "font": {
           "color": "#2a3f5f"
          },
          "geo": {
           "bgcolor": "white",
           "lakecolor": "white",
           "landcolor": "#E5ECF6",
           "showlakes": true,
           "showland": true,
           "subunitcolor": "white"
          },
          "hoverlabel": {
           "align": "left"
          },
          "hovermode": "closest",
          "mapbox": {
           "style": "light"
          },
          "paper_bgcolor": "white",
          "plot_bgcolor": "#E5ECF6",
          "polar": {
           "angularaxis": {
            "gridcolor": "white",
            "linecolor": "white",
            "ticks": ""
           },
           "bgcolor": "#E5ECF6",
           "radialaxis": {
            "gridcolor": "white",
            "linecolor": "white",
            "ticks": ""
           }
          },
          "scene": {
           "xaxis": {
            "backgroundcolor": "#E5ECF6",
            "gridcolor": "white",
            "gridwidth": 2,
            "linecolor": "white",
            "showbackground": true,
            "ticks": "",
            "zerolinecolor": "white"
           },
           "yaxis": {
            "backgroundcolor": "#E5ECF6",
            "gridcolor": "white",
            "gridwidth": 2,
            "linecolor": "white",
            "showbackground": true,
            "ticks": "",
            "zerolinecolor": "white"
           },
           "zaxis": {
            "backgroundcolor": "#E5ECF6",
            "gridcolor": "white",
            "gridwidth": 2,
            "linecolor": "white",
            "showbackground": true,
            "ticks": "",
            "zerolinecolor": "white"
           }
          },
          "shapedefaults": {
           "line": {
            "color": "#2a3f5f"
           }
          },
          "ternary": {
           "aaxis": {
            "gridcolor": "white",
            "linecolor": "white",
            "ticks": ""
           },
           "baxis": {
            "gridcolor": "white",
            "linecolor": "white",
            "ticks": ""
           },
           "bgcolor": "#E5ECF6",
           "caxis": {
            "gridcolor": "white",
            "linecolor": "white",
            "ticks": ""
           }
          },
          "title": {
           "x": 0.05
          },
          "xaxis": {
           "automargin": true,
           "gridcolor": "white",
           "linecolor": "white",
           "ticks": "",
           "title": {
            "standoff": 15
           },
           "zerolinecolor": "white",
           "zerolinewidth": 2
          },
          "yaxis": {
           "automargin": true,
           "gridcolor": "white",
           "linecolor": "white",
           "ticks": "",
           "title": {
            "standoff": 15
           },
           "zerolinecolor": "white",
           "zerolinewidth": 2
          }
         }
        },
        "title": {
         "text": "Données suivant les deux composantes principales du PCA"
        },
        "width": 1200,
        "xaxis": {
         "anchor": "y",
         "domain": [
          0,
          1
         ],
         "title": {
          "text": "x"
         }
        },
        "yaxis": {
         "anchor": "x",
         "domain": [
          0,
          1
         ],
         "title": {
          "text": "y"
         }
        }
       }
      }
     },
     "metadata": {}
    }
   ],
   "source": [
    "import plotly.express as px\n",
    "fig = px.scatter(x=data2d.iloc[:, 0], y=data2d.iloc[:, 1], text=data2d.index)\n",
    "fig.update_traces(textposition='top center')\n",
    "fig.update_layout(\n",
    "    height=600,\n",
    "    width=1200,\n",
    "    title_text='Données suivant les deux composantes principales du PCA'\n",
    ")\n",
    "fig.show()"
   ]
  },
  {
   "source": [
    "Puisque nous ne connaissons pas à l'avance les labels/groupes, nous allons utiliser un algorithme de clustering. L'un des plus connus est K-Means. Comme K-Means dépend largement de la position des centroïdes initiaux, nous l'exécutons plusieurs fois en conservant le meilleur (i.e. avec l'inertie la plus faible) :  "
   ],
   "cell_type": "markdown",
   "metadata": {}
  },
  {
   "cell_type": "code",
   "execution_count": 7,
   "metadata": {},
   "outputs": [],
   "source": [
    "def kmeans_multiple(data, k, n):\n",
    "    km_best = KMeans(n_clusters=k).fit(data)\n",
    "    for _ in range(n - 1):\n",
    "        km = KMeans(n_clusters=k).fit(data)\n",
    "        if km.inertia_ < km_best.inertia_:\n",
    "            km_best = km\n",
    "    return km_best"
   ]
  },
  {
   "source": [
    "Pour choisir le nombre de clusters $k$, on peut dessiner l'inertie en fonction du nombre de clusters."
   ],
   "cell_type": "markdown",
   "metadata": {}
  },
  {
   "cell_type": "code",
   "execution_count": 28,
   "metadata": {},
   "outputs": [
    {
     "output_type": "display_data",
     "data": {
      "text/plain": "<Figure size 432x288 with 1 Axes>",
      "image/svg+xml": "<?xml version=\"1.0\" encoding=\"utf-8\" standalone=\"no\"?>\n<!DOCTYPE svg PUBLIC \"-//W3C//DTD SVG 1.1//EN\"\n  \"http://www.w3.org/Graphics/SVG/1.1/DTD/svg11.dtd\">\n<svg height=\"250.819621pt\" version=\"1.1\" viewBox=\"0 0 375.2875 250.819621\" width=\"375.2875pt\" xmlns=\"http://www.w3.org/2000/svg\" xmlns:xlink=\"http://www.w3.org/1999/xlink\">\n <metadata>\n  <rdf:RDF xmlns:cc=\"http://creativecommons.org/ns#\" xmlns:dc=\"http://purl.org/dc/elements/1.1/\" xmlns:rdf=\"http://www.w3.org/1999/02/22-rdf-syntax-ns#\">\n   <cc:Work>\n    <dc:type rdf:resource=\"http://purl.org/dc/dcmitype/StillImage\"/>\n    <dc:date>2021-07-11T18:41:20.136636</dc:date>\n    <dc:format>image/svg+xml</dc:format>\n    <dc:creator>\n     <cc:Agent>\n      <dc:title>Matplotlib v3.4.2, https://matplotlib.org/</dc:title>\n     </cc:Agent>\n    </dc:creator>\n   </cc:Work>\n  </rdf:RDF>\n </metadata>\n <defs>\n  <style type=\"text/css\">*{stroke-linecap:butt;stroke-linejoin:round;}</style>\n </defs>\n <g id=\"figure_1\">\n  <g id=\"patch_1\">\n   <path d=\"M 0 250.819621 \nL 375.2875 250.819621 \nL 375.2875 0 \nL 0 0 \nz\n\" style=\"fill:none;\"/>\n  </g>\n  <g id=\"axes_1\">\n   <g id=\"patch_2\">\n    <path d=\"M 33.2875 226.941496 \nL 368.0875 226.941496 \nL 368.0875 9.501496 \nL 33.2875 9.501496 \nz\n\" style=\"fill:#ffffff;\"/>\n   </g>\n   <g id=\"matplotlib.axis_1\">\n    <g id=\"xtick_1\">\n     <g id=\"line2d_1\">\n      <defs>\n       <path d=\"M 0 0 \nL 0 3.5 \n\" id=\"m0e8647cec3\" style=\"stroke:#000000;stroke-width:0.8;\"/>\n      </defs>\n      <g>\n       <use style=\"stroke:#000000;stroke-width:0.8;\" x=\"48.505682\" xlink:href=\"#m0e8647cec3\" y=\"226.941496\"/>\n      </g>\n     </g>\n     <g id=\"text_1\">\n      <!-- 2 -->\n      <g transform=\"translate(45.324432 241.539933)scale(0.1 -0.1)\">\n       <defs>\n        <path d=\"M 1228 531 \nL 3431 531 \nL 3431 0 \nL 469 0 \nL 469 531 \nQ 828 903 1448 1529 \nQ 2069 2156 2228 2338 \nQ 2531 2678 2651 2914 \nQ 2772 3150 2772 3378 \nQ 2772 3750 2511 3984 \nQ 2250 4219 1831 4219 \nQ 1534 4219 1204 4116 \nQ 875 4013 500 3803 \nL 500 4441 \nQ 881 4594 1212 4672 \nQ 1544 4750 1819 4750 \nQ 2544 4750 2975 4387 \nQ 3406 4025 3406 3419 \nQ 3406 3131 3298 2873 \nQ 3191 2616 2906 2266 \nQ 2828 2175 2409 1742 \nQ 1991 1309 1228 531 \nz\n\" id=\"DejaVuSans-32\" transform=\"scale(0.015625)\"/>\n       </defs>\n       <use xlink:href=\"#DejaVuSans-32\"/>\n      </g>\n     </g>\n    </g>\n    <g id=\"xtick_2\">\n     <g id=\"line2d_2\">\n      <g>\n       <use style=\"stroke:#000000;stroke-width:0.8;\" x=\"91.986201\" xlink:href=\"#m0e8647cec3\" y=\"226.941496\"/>\n      </g>\n     </g>\n     <g id=\"text_2\">\n      <!-- 3 -->\n      <g transform=\"translate(88.804951 241.539933)scale(0.1 -0.1)\">\n       <defs>\n        <path d=\"M 2597 2516 \nQ 3050 2419 3304 2112 \nQ 3559 1806 3559 1356 \nQ 3559 666 3084 287 \nQ 2609 -91 1734 -91 \nQ 1441 -91 1130 -33 \nQ 819 25 488 141 \nL 488 750 \nQ 750 597 1062 519 \nQ 1375 441 1716 441 \nQ 2309 441 2620 675 \nQ 2931 909 2931 1356 \nQ 2931 1769 2642 2001 \nQ 2353 2234 1838 2234 \nL 1294 2234 \nL 1294 2753 \nL 1863 2753 \nQ 2328 2753 2575 2939 \nQ 2822 3125 2822 3475 \nQ 2822 3834 2567 4026 \nQ 2313 4219 1838 4219 \nQ 1578 4219 1281 4162 \nQ 984 4106 628 3988 \nL 628 4550 \nQ 988 4650 1302 4700 \nQ 1616 4750 1894 4750 \nQ 2613 4750 3031 4423 \nQ 3450 4097 3450 3541 \nQ 3450 3153 3228 2886 \nQ 3006 2619 2597 2516 \nz\n\" id=\"DejaVuSans-33\" transform=\"scale(0.015625)\"/>\n       </defs>\n       <use xlink:href=\"#DejaVuSans-33\"/>\n      </g>\n     </g>\n    </g>\n    <g id=\"xtick_3\">\n     <g id=\"line2d_3\">\n      <g>\n       <use style=\"stroke:#000000;stroke-width:0.8;\" x=\"135.466721\" xlink:href=\"#m0e8647cec3\" y=\"226.941496\"/>\n      </g>\n     </g>\n     <g id=\"text_3\">\n      <!-- 4 -->\n      <g transform=\"translate(132.285471 241.539933)scale(0.1 -0.1)\">\n       <defs>\n        <path d=\"M 2419 4116 \nL 825 1625 \nL 2419 1625 \nL 2419 4116 \nz\nM 2253 4666 \nL 3047 4666 \nL 3047 1625 \nL 3713 1625 \nL 3713 1100 \nL 3047 1100 \nL 3047 0 \nL 2419 0 \nL 2419 1100 \nL 313 1100 \nL 313 1709 \nL 2253 4666 \nz\n\" id=\"DejaVuSans-34\" transform=\"scale(0.015625)\"/>\n       </defs>\n       <use xlink:href=\"#DejaVuSans-34\"/>\n      </g>\n     </g>\n    </g>\n    <g id=\"xtick_4\">\n     <g id=\"line2d_4\">\n      <g>\n       <use style=\"stroke:#000000;stroke-width:0.8;\" x=\"178.94724\" xlink:href=\"#m0e8647cec3\" y=\"226.941496\"/>\n      </g>\n     </g>\n     <g id=\"text_4\">\n      <!-- 5 -->\n      <g transform=\"translate(175.76599 241.539933)scale(0.1 -0.1)\">\n       <defs>\n        <path d=\"M 691 4666 \nL 3169 4666 \nL 3169 4134 \nL 1269 4134 \nL 1269 2991 \nQ 1406 3038 1543 3061 \nQ 1681 3084 1819 3084 \nQ 2600 3084 3056 2656 \nQ 3513 2228 3513 1497 \nQ 3513 744 3044 326 \nQ 2575 -91 1722 -91 \nQ 1428 -91 1123 -41 \nQ 819 9 494 109 \nL 494 744 \nQ 775 591 1075 516 \nQ 1375 441 1709 441 \nQ 2250 441 2565 725 \nQ 2881 1009 2881 1497 \nQ 2881 1984 2565 2268 \nQ 2250 2553 1709 2553 \nQ 1456 2553 1204 2497 \nQ 953 2441 691 2322 \nL 691 4666 \nz\n\" id=\"DejaVuSans-35\" transform=\"scale(0.015625)\"/>\n       </defs>\n       <use xlink:href=\"#DejaVuSans-35\"/>\n      </g>\n     </g>\n    </g>\n    <g id=\"xtick_5\">\n     <g id=\"line2d_5\">\n      <g>\n       <use style=\"stroke:#000000;stroke-width:0.8;\" x=\"222.42776\" xlink:href=\"#m0e8647cec3\" y=\"226.941496\"/>\n      </g>\n     </g>\n     <g id=\"text_5\">\n      <!-- 6 -->\n      <g transform=\"translate(219.24651 241.539933)scale(0.1 -0.1)\">\n       <defs>\n        <path d=\"M 2113 2584 \nQ 1688 2584 1439 2293 \nQ 1191 2003 1191 1497 \nQ 1191 994 1439 701 \nQ 1688 409 2113 409 \nQ 2538 409 2786 701 \nQ 3034 994 3034 1497 \nQ 3034 2003 2786 2293 \nQ 2538 2584 2113 2584 \nz\nM 3366 4563 \nL 3366 3988 \nQ 3128 4100 2886 4159 \nQ 2644 4219 2406 4219 \nQ 1781 4219 1451 3797 \nQ 1122 3375 1075 2522 \nQ 1259 2794 1537 2939 \nQ 1816 3084 2150 3084 \nQ 2853 3084 3261 2657 \nQ 3669 2231 3669 1497 \nQ 3669 778 3244 343 \nQ 2819 -91 2113 -91 \nQ 1303 -91 875 529 \nQ 447 1150 447 2328 \nQ 447 3434 972 4092 \nQ 1497 4750 2381 4750 \nQ 2619 4750 2861 4703 \nQ 3103 4656 3366 4563 \nz\n\" id=\"DejaVuSans-36\" transform=\"scale(0.015625)\"/>\n       </defs>\n       <use xlink:href=\"#DejaVuSans-36\"/>\n      </g>\n     </g>\n    </g>\n    <g id=\"xtick_6\">\n     <g id=\"line2d_6\">\n      <g>\n       <use style=\"stroke:#000000;stroke-width:0.8;\" x=\"265.908279\" xlink:href=\"#m0e8647cec3\" y=\"226.941496\"/>\n      </g>\n     </g>\n     <g id=\"text_6\">\n      <!-- 7 -->\n      <g transform=\"translate(262.727029 241.539933)scale(0.1 -0.1)\">\n       <defs>\n        <path d=\"M 525 4666 \nL 3525 4666 \nL 3525 4397 \nL 1831 0 \nL 1172 0 \nL 2766 4134 \nL 525 4134 \nL 525 4666 \nz\n\" id=\"DejaVuSans-37\" transform=\"scale(0.015625)\"/>\n       </defs>\n       <use xlink:href=\"#DejaVuSans-37\"/>\n      </g>\n     </g>\n    </g>\n    <g id=\"xtick_7\">\n     <g id=\"line2d_7\">\n      <g>\n       <use style=\"stroke:#000000;stroke-width:0.8;\" x=\"309.388799\" xlink:href=\"#m0e8647cec3\" y=\"226.941496\"/>\n      </g>\n     </g>\n     <g id=\"text_7\">\n      <!-- 8 -->\n      <g transform=\"translate(306.207549 241.539933)scale(0.1 -0.1)\">\n       <defs>\n        <path d=\"M 2034 2216 \nQ 1584 2216 1326 1975 \nQ 1069 1734 1069 1313 \nQ 1069 891 1326 650 \nQ 1584 409 2034 409 \nQ 2484 409 2743 651 \nQ 3003 894 3003 1313 \nQ 3003 1734 2745 1975 \nQ 2488 2216 2034 2216 \nz\nM 1403 2484 \nQ 997 2584 770 2862 \nQ 544 3141 544 3541 \nQ 544 4100 942 4425 \nQ 1341 4750 2034 4750 \nQ 2731 4750 3128 4425 \nQ 3525 4100 3525 3541 \nQ 3525 3141 3298 2862 \nQ 3072 2584 2669 2484 \nQ 3125 2378 3379 2068 \nQ 3634 1759 3634 1313 \nQ 3634 634 3220 271 \nQ 2806 -91 2034 -91 \nQ 1263 -91 848 271 \nQ 434 634 434 1313 \nQ 434 1759 690 2068 \nQ 947 2378 1403 2484 \nz\nM 1172 3481 \nQ 1172 3119 1398 2916 \nQ 1625 2713 2034 2713 \nQ 2441 2713 2670 2916 \nQ 2900 3119 2900 3481 \nQ 2900 3844 2670 4047 \nQ 2441 4250 2034 4250 \nQ 1625 4250 1398 4047 \nQ 1172 3844 1172 3481 \nz\n\" id=\"DejaVuSans-38\" transform=\"scale(0.015625)\"/>\n       </defs>\n       <use xlink:href=\"#DejaVuSans-38\"/>\n      </g>\n     </g>\n    </g>\n    <g id=\"xtick_8\">\n     <g id=\"line2d_8\">\n      <g>\n       <use style=\"stroke:#000000;stroke-width:0.8;\" x=\"352.869318\" xlink:href=\"#m0e8647cec3\" y=\"226.941496\"/>\n      </g>\n     </g>\n     <g id=\"text_8\">\n      <!-- 9 -->\n      <g transform=\"translate(349.688068 241.539933)scale(0.1 -0.1)\">\n       <defs>\n        <path d=\"M 703 97 \nL 703 672 \nQ 941 559 1184 500 \nQ 1428 441 1663 441 \nQ 2288 441 2617 861 \nQ 2947 1281 2994 2138 \nQ 2813 1869 2534 1725 \nQ 2256 1581 1919 1581 \nQ 1219 1581 811 2004 \nQ 403 2428 403 3163 \nQ 403 3881 828 4315 \nQ 1253 4750 1959 4750 \nQ 2769 4750 3195 4129 \nQ 3622 3509 3622 2328 \nQ 3622 1225 3098 567 \nQ 2575 -91 1691 -91 \nQ 1453 -91 1209 -44 \nQ 966 3 703 97 \nz\nM 1959 2075 \nQ 2384 2075 2632 2365 \nQ 2881 2656 2881 3163 \nQ 2881 3666 2632 3958 \nQ 2384 4250 1959 4250 \nQ 1534 4250 1286 3958 \nQ 1038 3666 1038 3163 \nQ 1038 2656 1286 2365 \nQ 1534 2075 1959 2075 \nz\n\" id=\"DejaVuSans-39\" transform=\"scale(0.015625)\"/>\n       </defs>\n       <use xlink:href=\"#DejaVuSans-39\"/>\n      </g>\n     </g>\n    </g>\n   </g>\n   <g id=\"matplotlib.axis_2\">\n    <g id=\"ytick_1\">\n     <g id=\"line2d_9\">\n      <defs>\n       <path d=\"M 0 0 \nL -3.5 0 \n\" id=\"m87ca6b99ce\" style=\"stroke:#000000;stroke-width:0.8;\"/>\n      </defs>\n      <g>\n       <use style=\"stroke:#000000;stroke-width:0.8;\" x=\"33.2875\" xlink:href=\"#m87ca6b99ce\" y=\"192.43834\"/>\n      </g>\n     </g>\n     <g id=\"text_9\">\n      <!-- 40 -->\n      <g transform=\"translate(13.5625 196.237559)scale(0.1 -0.1)\">\n       <defs>\n        <path d=\"M 2034 4250 \nQ 1547 4250 1301 3770 \nQ 1056 3291 1056 2328 \nQ 1056 1369 1301 889 \nQ 1547 409 2034 409 \nQ 2525 409 2770 889 \nQ 3016 1369 3016 2328 \nQ 3016 3291 2770 3770 \nQ 2525 4250 2034 4250 \nz\nM 2034 4750 \nQ 2819 4750 3233 4129 \nQ 3647 3509 3647 2328 \nQ 3647 1150 3233 529 \nQ 2819 -91 2034 -91 \nQ 1250 -91 836 529 \nQ 422 1150 422 2328 \nQ 422 3509 836 4129 \nQ 1250 4750 2034 4750 \nz\n\" id=\"DejaVuSans-30\" transform=\"scale(0.015625)\"/>\n       </defs>\n       <use xlink:href=\"#DejaVuSans-34\"/>\n       <use x=\"63.623047\" xlink:href=\"#DejaVuSans-30\"/>\n      </g>\n     </g>\n    </g>\n    <g id=\"ytick_2\">\n     <g id=\"line2d_10\">\n      <g>\n       <use style=\"stroke:#000000;stroke-width:0.8;\" x=\"33.2875\" xlink:href=\"#m87ca6b99ce\" y=\"147.07856\"/>\n      </g>\n     </g>\n     <g id=\"text_10\">\n      <!-- 60 -->\n      <g transform=\"translate(13.5625 150.877779)scale(0.1 -0.1)\">\n       <use xlink:href=\"#DejaVuSans-36\"/>\n       <use x=\"63.623047\" xlink:href=\"#DejaVuSans-30\"/>\n      </g>\n     </g>\n    </g>\n    <g id=\"ytick_3\">\n     <g id=\"line2d_11\">\n      <g>\n       <use style=\"stroke:#000000;stroke-width:0.8;\" x=\"33.2875\" xlink:href=\"#m87ca6b99ce\" y=\"101.718779\"/>\n      </g>\n     </g>\n     <g id=\"text_11\">\n      <!-- 80 -->\n      <g transform=\"translate(13.5625 105.517998)scale(0.1 -0.1)\">\n       <use xlink:href=\"#DejaVuSans-38\"/>\n       <use x=\"63.623047\" xlink:href=\"#DejaVuSans-30\"/>\n      </g>\n     </g>\n    </g>\n    <g id=\"ytick_4\">\n     <g id=\"line2d_12\">\n      <g>\n       <use style=\"stroke:#000000;stroke-width:0.8;\" x=\"33.2875\" xlink:href=\"#m87ca6b99ce\" y=\"56.358999\"/>\n      </g>\n     </g>\n     <g id=\"text_12\">\n      <!-- 100 -->\n      <g transform=\"translate(7.2 60.158218)scale(0.1 -0.1)\">\n       <defs>\n        <path d=\"M 794 531 \nL 1825 531 \nL 1825 4091 \nL 703 3866 \nL 703 4441 \nL 1819 4666 \nL 2450 4666 \nL 2450 531 \nL 3481 531 \nL 3481 0 \nL 794 0 \nL 794 531 \nz\n\" id=\"DejaVuSans-31\" transform=\"scale(0.015625)\"/>\n       </defs>\n       <use xlink:href=\"#DejaVuSans-31\"/>\n       <use x=\"63.623047\" xlink:href=\"#DejaVuSans-30\"/>\n       <use x=\"127.246094\" xlink:href=\"#DejaVuSans-30\"/>\n      </g>\n     </g>\n    </g>\n    <g id=\"ytick_5\">\n     <g id=\"line2d_13\">\n      <g>\n       <use style=\"stroke:#000000;stroke-width:0.8;\" x=\"33.2875\" xlink:href=\"#m87ca6b99ce\" y=\"10.999219\"/>\n      </g>\n     </g>\n     <g id=\"text_13\">\n      <!-- 120 -->\n      <g transform=\"translate(7.2 14.798438)scale(0.1 -0.1)\">\n       <use xlink:href=\"#DejaVuSans-31\"/>\n       <use x=\"63.623047\" xlink:href=\"#DejaVuSans-32\"/>\n       <use x=\"127.246094\" xlink:href=\"#DejaVuSans-30\"/>\n      </g>\n     </g>\n    </g>\n   </g>\n   <g id=\"line2d_14\">\n    <path clip-path=\"url(#p0878baf38f)\" d=\"M 48.505682 19.385132 \nL 91.986201 85.390851 \nL 135.466721 132.611192 \nL 178.94724 158.216543 \nL 222.42776 179.688643 \nL 265.908279 193.981529 \nL 309.388799 206.602872 \nL 352.869318 217.057859 \n\" style=\"fill:none;stroke:#1f77b4;stroke-linecap:square;stroke-width:1.5;\"/>\n   </g>\n   <g id=\"patch_3\">\n    <path d=\"M 33.2875 226.941496 \nL 33.2875 9.501496 \n\" style=\"fill:none;stroke:#000000;stroke-linecap:square;stroke-linejoin:miter;stroke-width:0.8;\"/>\n   </g>\n   <g id=\"patch_4\">\n    <path d=\"M 368.0875 226.941496 \nL 368.0875 9.501496 \n\" style=\"fill:none;stroke:#000000;stroke-linecap:square;stroke-linejoin:miter;stroke-width:0.8;\"/>\n   </g>\n   <g id=\"patch_5\">\n    <path d=\"M 33.2875 226.941496 \nL 368.0875 226.941496 \n\" style=\"fill:none;stroke:#000000;stroke-linecap:square;stroke-linejoin:miter;stroke-width:0.8;\"/>\n   </g>\n   <g id=\"patch_6\">\n    <path d=\"M 33.2875 9.501496 \nL 368.0875 9.501496 \n\" style=\"fill:none;stroke:#000000;stroke-linecap:square;stroke-linejoin:miter;stroke-width:0.8;\"/>\n   </g>\n  </g>\n </g>\n <defs>\n  <clipPath id=\"p0878baf38f\">\n   <rect height=\"217.44\" width=\"334.8\" x=\"33.2875\" y=\"9.501496\"/>\n  </clipPath>\n </defs>\n</svg>\n",
      "image/png": "[encoded data removed]"
     },
     "metadata": {
      "needs_background": "light"
     }
    }
   ],
   "source": [
    "from sklearn.cluster import KMeans\n",
    "\n",
    "X, Y = [], []\n",
    "for k in range(2, 10):\n",
    "    km = kmeans_multiple(data_scaled, k, 20)\n",
    "    Y.append(km.inertia_)\n",
    "    X.append(k)\n",
    "plt.plot(X, Y);"
   ]
  },
  {
   "source": [
    "On choisit $k$ comme le nombre de clusters à partir duquel l'inertie stagne (*elbow method*), ici 5 (on pourrait aussi raisonnablement choisir 3)."
   ],
   "cell_type": "markdown",
   "metadata": {}
  },
  {
   "cell_type": "code",
   "execution_count": 29,
   "metadata": {},
   "outputs": [],
   "source": [
    "km = kmeans_multiple(data_scaled, 4, 20)"
   ]
  },
  {
   "cell_type": "code",
   "execution_count": 30,
   "metadata": {},
   "outputs": [
    {
     "output_type": "display_data",
     "data": {
      "application/vnd.plotly.v1+json": {
       "config": {
        "plotlyServerURL": "https://plot.ly"
       },
       "data": [
        {
         "hovertemplate": "color=1<br>x=%{x}<br>y=%{y}<br>text=%{text}<extra></extra>",
         "legendgroup": "1",
         "marker": {
          "color": "#636efa",
          "size": 12,
          "symbol": "circle"
         },
         "mode": "markers+text",
         "name": "1",
         "orientation": "v",
         "showlegend": true,
         "text": [
          "PANDA",
          "TWINGO",
          "YARIS",
          "CITRONC2",
          "CORSA",
          "FIESTA",
          "CLIO"
         ],
         "textposition": "top center",
         "type": "scatter",
         "x": [
          4.137809697466457,
          3.828390880501697,
          3.6081291796957946,
          3.3221940776657237,
          2.8939723209204664,
          2.539202876988808,
          2.5144517622839153
         ],
         "xaxis": "x",
         "y": [
          -0.49279655967721303,
          -1.3235259042478835,
          -0.49027445875097414,
          -0.6862060584304978,
          -0.7121589185672933,
          -0.3172054333160373,
          -1.0466811737253643
         ],
         "yaxis": "y"
        },
        {
         "hovertemplate": "color=2<br>x=%{x}<br>y=%{y}<br>text=%{text}<extra></extra>",
         "legendgroup": "2",
         "marker": {
          "color": "#EF553B",
          "size": 12,
          "symbol": "circle"
         },
         "mode": "markers+text",
         "name": "2",
         "orientation": "v",
         "showlegend": true,
         "text": [
          "P1007",
          "MODUS",
          "MUSA",
          "GOLF",
          "MERC_A",
          "BERLINGO"
         ],
         "textposition": "top center",
         "type": "scatter",
         "x": [
          2.4563852943352105,
          1.558015287339418,
          1.4708669255201916,
          1.271134774072554,
          0.5205692677831807,
          0.7181665571125583
         ],
         "xaxis": "x",
         "y": [
          0.7298167727343011,
          0.35163242057724653,
          1.5860390487053653,
          0.49363413510118836,
          1.0239464214586333,
          4.216242766022172
         ],
         "yaxis": "y"
        },
        {
         "hovertemplate": "color=0<br>x=%{x}<br>y=%{y}<br>text=%{text}<extra></extra>",
         "legendgroup": "0",
         "marker": {
          "color": "#00cc96",
          "size": 12,
          "symbol": "circle"
         },
         "mode": "markers+text",
         "name": "0",
         "orientation": "v",
         "showlegend": true,
         "text": [
          "AUDIA3",
          "CITRONC4",
          "AVENSIS",
          "VECTRA",
          "PASSAT",
          "LAGUNA",
          "MEGANECC",
          "P407",
          "P307CC",
          "MONDEO",
          "VELSATIS"
         ],
         "textposition": "top center",
         "type": "scatter",
         "x": [
          0.7500203462822689,
          -0.18365560103875356,
          -0.21097187772203735,
          -0.9351477139958221,
          -0.9592667000158229,
          -1.145364547334038,
          -1.1770411769323224,
          -1.2403522885015732,
          -1.4225493379813205,
          -1.8420509900649578,
          -1.9443305750904585
         ],
         "xaxis": "x",
         "y": [
          -0.359533842657163,
          0.17507600471353568,
          0.45308792667411346,
          0.24367317541380878,
          -0.25401254987128175,
          -0.5487532101371675,
          -0.6730267926373936,
          0.08921920130966796,
          -0.7200174427746385,
          0.44537967294001984,
          1.8062280463074767
         ],
         "yaxis": "y"
        },
        {
         "hovertemplate": "color=3<br>x=%{x}<br>y=%{y}<br>text=%{text}<extra></extra>",
         "legendgroup": "3",
         "marker": {
          "color": "#ab63fa",
          "size": 12,
          "symbol": "circle"
         },
         "mode": "markers+text",
         "name": "3",
         "orientation": "v",
         "showlegend": true,
         "text": [
          "PTCRUISER",
          "MAZDARX8",
          "CITRONC5",
          "P607",
          "MERC_E",
          "ALFA 156",
          "BMW530"
         ],
         "textposition": "top center",
         "type": "scatter",
         "x": [
          -1.6180331833354795,
          -2.07756183616932,
          -2.7671609348384125,
          -3.398146273487229,
          -3.4769615184858487,
          -3.498113047264456,
          -3.692601645710391
         ],
         "xaxis": "x",
         "y": [
          -0.18918391846816937,
          -2.3286235796884167,
          -0.23951034278465222,
          0.1827307659673783,
          0.5001980943904101,
          -1.7927264241030771,
          -0.12266784247809742
         ],
         "yaxis": "y"
        }
       ],
       "layout": {
        "height": 600,
        "legend": {
         "title": {
          "text": "color"
         },
         "tracegroupgap": 0
        },
        "margin": {
         "t": 60
        },
        "template": {
         "data": {
          "bar": [
           {
            "error_x": {
             "color": "#2a3f5f"
            },
            "error_y": {
             "color": "#2a3f5f"
            },
            "marker": {
             "line": {
              "color": "#E5ECF6",
              "width": 0.5
             },
             "pattern": {
              "fillmode": "overlay",
              "size": 10,
              "solidity": 0.2
             }
            },
            "type": "bar"
           }
          ],
          "barpolar": [
           {
            "marker": {
             "line": {
              "color": "#E5ECF6",
              "width": 0.5
             },
             "pattern": {
              "fillmode": "overlay",
              "size": 10,
              "solidity": 0.2
             }
            },
            "type": "barpolar"
           }
          ],
          "carpet": [
           {
            "aaxis": {
             "endlinecolor": "#2a3f5f",
             "gridcolor": "white",
             "linecolor": "white",
             "minorgridcolor": "white",
             "startlinecolor": "#2a3f5f"
            },
            "baxis": {
             "endlinecolor": "#2a3f5f",
             "gridcolor": "white",
             "linecolor": "white",
             "minorgridcolor": "white",
             "startlinecolor": "#2a3f5f"
            },
            "type": "carpet"
           }
          ],
          "choropleth": [
           {
            "colorbar": {
             "outlinewidth": 0,
             "ticks": ""
            },
            "type": "choropleth"
           }
          ],
          "contour": [
           {
            "colorbar": {
             "outlinewidth": 0,
             "ticks": ""
            },
            "colorscale": [
             [
              0,
              "#0d0887"
             ],
             [
              0.1111111111111111,
              "#46039f"
             ],
             [
              0.2222222222222222,
              "#7201a8"
             ],
             [
              0.3333333333333333,
              "#9c179e"
             ],
             [
              0.4444444444444444,
              "#bd3786"
             ],
             [
              0.5555555555555556,
              "#d8576b"
             ],
             [
              0.6666666666666666,
              "#ed7953"
             ],
             [
              0.7777777777777778,
              "#fb9f3a"
             ],
             [
              0.8888888888888888,
              "#fdca26"
             ],
             [
              1,
              "#f0f921"
             ]
            ],
            "type": "contour"
           }
          ],
          "contourcarpet": [
           {
            "colorbar": {
             "outlinewidth": 0,
             "ticks": ""
            },
            "type": "contourcarpet"
           }
          ],
          "heatmap": [
           {
            "colorbar": {
             "outlinewidth": 0,
             "ticks": ""
            },
            "colorscale": [
             [
              0,
              "#0d0887"
             ],
             [
              0.1111111111111111,
              "#46039f"
             ],
             [
              0.2222222222222222,
              "#7201a8"
             ],
             [
              0.3333333333333333,
              "#9c179e"
             ],
             [
              0.4444444444444444,
              "#bd3786"
             ],
             [
              0.5555555555555556,
              "#d8576b"
             ],
             [
              0.6666666666666666,
              "#ed7953"
             ],
             [
              0.7777777777777778,
              "#fb9f3a"
             ],
             [
              0.8888888888888888,
              "#fdca26"
             ],
             [
              1,
              "#f0f921"
             ]
            ],
            "type": "heatmap"
           }
          ],
          "heatmapgl": [
           {
            "colorbar": {
             "outlinewidth": 0,
             "ticks": ""
            },
            "colorscale": [
             [
              0,
              "#0d0887"
             ],
             [
              0.1111111111111111,
              "#46039f"
             ],
             [
              0.2222222222222222,
              "#7201a8"
             ],
             [
              0.3333333333333333,
              "#9c179e"
             ],
             [
              0.4444444444444444,
              "#bd3786"
             ],
             [
              0.5555555555555556,
              "#d8576b"
             ],
             [
              0.6666666666666666,
              "#ed7953"
             ],
             [
              0.7777777777777778,
              "#fb9f3a"
             ],
             [
              0.8888888888888888,
              "#fdca26"
             ],
             [
              1,
              "#f0f921"
             ]
            ],
            "type": "heatmapgl"
           }
          ],
          "histogram": [
           {
            "marker": {
             "pattern": {
              "fillmode": "overlay",
              "size": 10,
              "solidity": 0.2
             }
            },
            "type": "histogram"
           }
          ],
          "histogram2d": [
           {
            "colorbar": {
             "outlinewidth": 0,
             "ticks": ""
            },
            "colorscale": [
             [
              0,
              "#0d0887"
             ],
             [
              0.1111111111111111,
              "#46039f"
             ],
             [
              0.2222222222222222,
              "#7201a8"
             ],
             [
              0.3333333333333333,
              "#9c179e"
             ],
             [
              0.4444444444444444,
              "#bd3786"
             ],
             [
              0.5555555555555556,
              "#d8576b"
             ],
             [
              0.6666666666666666,
              "#ed7953"
             ],
             [
              0.7777777777777778,
              "#fb9f3a"
             ],
             [
              0.8888888888888888,
              "#fdca26"
             ],
             [
              1,
              "#f0f921"
             ]
            ],
            "type": "histogram2d"
           }
          ],
          "histogram2dcontour": [
           {
            "colorbar": {
             "outlinewidth": 0,
             "ticks": ""
            },
            "colorscale": [
             [
              0,
              "#0d0887"
             ],
             [
              0.1111111111111111,
              "#46039f"
             ],
             [
              0.2222222222222222,
              "#7201a8"
             ],
             [
              0.3333333333333333,
              "#9c179e"
             ],
             [
              0.4444444444444444,
              "#bd3786"
             ],
             [
              0.5555555555555556,
              "#d8576b"
             ],
             [
              0.6666666666666666,
              "#ed7953"
             ],
             [
              0.7777777777777778,
              "#fb9f3a"
             ],
             [
              0.8888888888888888,
              "#fdca26"
             ],
             [
              1,
              "#f0f921"
             ]
            ],
            "type": "histogram2dcontour"
           }
          ],
          "mesh3d": [
           {
            "colorbar": {
             "outlinewidth": 0,
             "ticks": ""
            },
            "type": "mesh3d"
           }
          ],
          "parcoords": [
           {
            "line": {
             "colorbar": {
              "outlinewidth": 0,
              "ticks": ""
             }
            },
            "type": "parcoords"
           }
          ],
          "pie": [
           {
            "automargin": true,
            "type": "pie"
           }
          ],
          "scatter": [
           {
            "marker": {
             "colorbar": {
              "outlinewidth": 0,
              "ticks": ""
             }
            },
            "type": "scatter"
           }
          ],
          "scatter3d": [
           {
            "line": {
             "colorbar": {
              "outlinewidth": 0,
              "ticks": ""
             }
            },
            "marker": {
             "colorbar": {
              "outlinewidth": 0,
              "ticks": ""
             }
            },
            "type": "scatter3d"
           }
          ],
          "scattercarpet": [
           {
            "marker": {
             "colorbar": {
              "outlinewidth": 0,
              "ticks": ""
             }
            },
            "type": "scattercarpet"
           }
          ],
          "scattergeo": [
           {
            "marker": {
             "colorbar": {
              "outlinewidth": 0,
              "ticks": ""
             }
            },
            "type": "scattergeo"
           }
          ],
          "scattergl": [
           {
            "marker": {
             "colorbar": {
              "outlinewidth": 0,
              "ticks": ""
             }
            },
            "type": "scattergl"
           }
          ],
          "scattermapbox": [
           {
            "marker": {
             "colorbar": {
              "outlinewidth": 0,
              "ticks": ""
             }
            },
            "type": "scattermapbox"
           }
          ],
          "scatterpolar": [
           {
            "marker": {
             "colorbar": {
              "outlinewidth": 0,
              "ticks": ""
             }
            },
            "type": "scatterpolar"
           }
          ],
          "scatterpolargl": [
           {
            "marker": {
             "colorbar": {
              "outlinewidth": 0,
              "ticks": ""
             }
            },
            "type": "scatterpolargl"
           }
          ],
          "scatterternary": [
           {
            "marker": {
             "colorbar": {
              "outlinewidth": 0,
              "ticks": ""
             }
            },
            "type": "scatterternary"
           }
          ],
          "surface": [
           {
            "colorbar": {
             "outlinewidth": 0,
             "ticks": ""
            },
            "colorscale": [
             [
              0,
              "#0d0887"
             ],
             [
              0.1111111111111111,
              "#46039f"
             ],
             [
              0.2222222222222222,
              "#7201a8"
             ],
             [
              0.3333333333333333,
              "#9c179e"
             ],
             [
              0.4444444444444444,
              "#bd3786"
             ],
             [
              0.5555555555555556,
              "#d8576b"
             ],
             [
              0.6666666666666666,
              "#ed7953"
             ],
             [
              0.7777777777777778,
              "#fb9f3a"
             ],
             [
              0.8888888888888888,
              "#fdca26"
             ],
             [
              1,
              "#f0f921"
             ]
            ],
            "type": "surface"
           }
          ],
          "table": [
           {
            "cells": {
             "fill": {
              "color": "#EBF0F8"
             },
             "line": {
              "color": "white"
             }
            },
            "header": {
             "fill": {
              "color": "#C8D4E3"
             },
             "line": {
              "color": "white"
             }
            },
            "type": "table"
           }
          ]
         },
         "layout": {
          "annotationdefaults": {
           "arrowcolor": "#2a3f5f",
           "arrowhead": 0,
           "arrowwidth": 1
          },
          "autotypenumbers": "strict",
          "coloraxis": {
           "colorbar": {
            "outlinewidth": 0,
            "ticks": ""
           }
          },
          "colorscale": {
           "diverging": [
            [
             0,
             "#8e0152"
            ],
            [
             0.1,
             "#c51b7d"
            ],
            [
             0.2,
             "#de77ae"
            ],
            [
             0.3,
             "#f1b6da"
            ],
            [
             0.4,
             "#fde0ef"
            ],
            [
             0.5,
             "#f7f7f7"
            ],
            [
             0.6,
             "#e6f5d0"
            ],
            [
             0.7,
             "#b8e186"
            ],
            [
             0.8,
             "#7fbc41"
            ],
            [
             0.9,
             "#4d9221"
            ],
            [
             1,
             "#276419"
            ]
           ],
           "sequential": [
            [
             0,
             "#0d0887"
            ],
            [
             0.1111111111111111,
             "#46039f"
            ],
            [
             0.2222222222222222,
             "#7201a8"
            ],
            [
             0.3333333333333333,
             "#9c179e"
            ],
            [
             0.4444444444444444,
             "#bd3786"
            ],
            [
             0.5555555555555556,
             "#d8576b"
            ],
            [
             0.6666666666666666,
             "#ed7953"
            ],
            [
             0.7777777777777778,
             "#fb9f3a"
            ],
            [
             0.8888888888888888,
             "#fdca26"
            ],
            [
             1,
             "#f0f921"
            ]
           ],
           "sequentialminus": [
            [
             0,
             "#0d0887"
            ],
            [
             0.1111111111111111,
             "#46039f"
            ],
            [
             0.2222222222222222,
             "#7201a8"
            ],
            [
             0.3333333333333333,
             "#9c179e"
            ],
            [
             0.4444444444444444,
             "#bd3786"
            ],
            [
             0.5555555555555556,
             "#d8576b"
            ],
            [
             0.6666666666666666,
             "#ed7953"
            ],
            [
             0.7777777777777778,
             "#fb9f3a"
            ],
            [
             0.8888888888888888,
             "#fdca26"
            ],
            [
             1,
             "#f0f921"
            ]
           ]
          },
          "colorway": [
           "#636efa",
           "#EF553B",
           "#00cc96",
           "#ab63fa",
           "#FFA15A",
           "#19d3f3",
           "#FF6692",
           "#B6E880",
           "#FF97FF",
           "#FECB52"
          ],
          "font": {
           "color": "#2a3f5f"
          },
          "geo": {
           "bgcolor": "white",
           "lakecolor": "white",
           "landcolor": "#E5ECF6",
           "showlakes": true,
           "showland": true,
           "subunitcolor": "white"
          },
          "hoverlabel": {
           "align": "left"
          },
          "hovermode": "closest",
          "mapbox": {
           "style": "light"
          },
          "paper_bgcolor": "white",
          "plot_bgcolor": "#E5ECF6",
          "polar": {
           "angularaxis": {
            "gridcolor": "white",
            "linecolor": "white",
            "ticks": ""
           },
           "bgcolor": "#E5ECF6",
           "radialaxis": {
            "gridcolor": "white",
            "linecolor": "white",
            "ticks": ""
           }
          },
          "scene": {
           "xaxis": {
            "backgroundcolor": "#E5ECF6",
            "gridcolor": "white",
            "gridwidth": 2,
            "linecolor": "white",
            "showbackground": true,
            "ticks": "",
            "zerolinecolor": "white"
           },
           "yaxis": {
            "backgroundcolor": "#E5ECF6",
            "gridcolor": "white",
            "gridwidth": 2,
            "linecolor": "white",
            "showbackground": true,
            "ticks": "",
            "zerolinecolor": "white"
           },
           "zaxis": {
            "backgroundcolor": "#E5ECF6",
            "gridcolor": "white",
            "gridwidth": 2,
            "linecolor": "white",
            "showbackground": true,
            "ticks": "",
            "zerolinecolor": "white"
           }
          },
          "shapedefaults": {
           "line": {
            "color": "#2a3f5f"
           }
          },
          "ternary": {
           "aaxis": {
            "gridcolor": "white",
            "linecolor": "white",
            "ticks": ""
           },
           "baxis": {
            "gridcolor": "white",
            "linecolor": "white",
            "ticks": ""
           },
           "bgcolor": "#E5ECF6",
           "caxis": {
            "gridcolor": "white",
            "linecolor": "white",
            "ticks": ""
           }
          },
          "title": {
           "x": 0.05
          },
          "xaxis": {
           "automargin": true,
           "gridcolor": "white",
           "linecolor": "white",
           "ticks": "",
           "title": {
            "standoff": 15
           },
           "zerolinecolor": "white",
           "zerolinewidth": 2
          },
          "yaxis": {
           "automargin": true,
           "gridcolor": "white",
           "linecolor": "white",
           "ticks": "",
           "title": {
            "standoff": 15
           },
           "zerolinecolor": "white",
           "zerolinewidth": 2
          }
         }
        },
        "title": {
         "text": "Données suivant les deux composantes principales du PCA"
        },
        "width": 1200,
        "xaxis": {
         "anchor": "y",
         "domain": [
          0,
          1
         ],
         "title": {
          "text": "x"
         }
        },
        "yaxis": {
         "anchor": "x",
         "domain": [
          0,
          1
         ],
         "title": {
          "text": "y"
         }
        }
       }
      }
     },
     "metadata": {}
    }
   ],
   "source": [
    "import plotly.express as px\n",
    "fig = px.scatter(x=data2d.iloc[:, 0], y=data2d.iloc[:, 1], text=data2d.index, color=list(map(str, km.labels_)))\n",
    "fig.update_traces(marker=dict(size=12), textposition='top center')\n",
    "fig.update_layout(height=600, width=1200, title_text='Données suivant les deux composantes principales du PCA')\n",
    "fig.show()"
   ]
  },
  {
   "cell_type": "code",
   "execution_count": 36,
   "metadata": {},
   "outputs": [
    {
     "output_type": "execute_result",
     "data": {
      "text/plain": [
       "    puissance    cylindree     vitesse    longueur     largeur     hauteur  \\\n",
       "0  145.090909  1950.454545  210.909091  454.363636  180.000000  145.727273   \n",
       "1   68.285714  1212.428571  161.142857  369.571429  164.428571  146.285714   \n",
       "2   96.333333  1721.166667  180.333333  401.333333  174.500000  163.833333   \n",
       "3  221.857143  2619.142857  234.000000  464.000000  179.000000  145.000000   \n",
       "\n",
       "         poids         C02  \n",
       "0  1411.545455  180.818182  \n",
       "1   952.142857  130.000000  \n",
       "2  1280.500000  144.333333  \n",
       "3  1562.428571  240.142857  "
      ],
      "text/html": "<div>\n<style scoped>\n    .dataframe tbody tr th:only-of-type {\n        vertical-align: middle;\n    }\n\n    .dataframe tbody tr th {\n        vertical-align: top;\n    }\n\n    .dataframe thead th {\n        text-align: right;\n    }\n</style>\n<table border=\"1\" class=\"dataframe\">\n  <thead>\n    <tr style=\"text-align: right;\">\n      <th></th>\n      <th>puissance</th>\n      <th>cylindree</th>\n      <th>vitesse</th>\n      <th>longueur</th>\n      <th>largeur</th>\n      <th>hauteur</th>\n      <th>poids</th>\n      <th>C02</th>\n    </tr>\n  </thead>\n  <tbody>\n    <tr>\n      <th>0</th>\n      <td>145.090909</td>\n      <td>1950.454545</td>\n      <td>210.909091</td>\n      <td>454.363636</td>\n      <td>180.000000</td>\n      <td>145.727273</td>\n      <td>1411.545455</td>\n      <td>180.818182</td>\n    </tr>\n    <tr>\n      <th>1</th>\n      <td>68.285714</td>\n      <td>1212.428571</td>\n      <td>161.142857</td>\n      <td>369.571429</td>\n      <td>164.428571</td>\n      <td>146.285714</td>\n      <td>952.142857</td>\n      <td>130.000000</td>\n    </tr>\n    <tr>\n      <th>2</th>\n      <td>96.333333</td>\n      <td>1721.166667</td>\n      <td>180.333333</td>\n      <td>401.333333</td>\n      <td>174.500000</td>\n      <td>163.833333</td>\n      <td>1280.500000</td>\n      <td>144.333333</td>\n    </tr>\n    <tr>\n      <th>3</th>\n      <td>221.857143</td>\n      <td>2619.142857</td>\n      <td>234.000000</td>\n      <td>464.000000</td>\n      <td>179.000000</td>\n      <td>145.000000</td>\n      <td>1562.428571</td>\n      <td>240.142857</td>\n    </tr>\n  </tbody>\n</table>\n</div>"
     },
     "metadata": {},
     "execution_count": 36
    }
   ],
   "source": [
    "data.groupby(km.labels_) \\\n",
    "    .mean()  # moyenne des caractéristiques des voitures de chaque cluster"
   ]
  },
  {
   "cell_type": "code",
   "execution_count": null,
   "metadata": {},
   "outputs": [],
   "source": [
    "from sklearn.linear_model import LogisticRegression\n",
    "\n",
    "rows = []\n",
    "for i in range(km.n_clusters):\n",
    "    t = np.where(km.labels_ == i)[0]\n",
    "    y = np.zeros((len(data.index)))\n",
    "    y[t] = 1\n",
    "    lr = LogisticRegression(max_iter = 4000).fit(data.iloc[:, 1:], y)\n",
    "    rows.append(lr.coef_[0])\n",
    "\n",
    "pd.DataFrame(rows, columns=data.columns[1:])"
   ]
  },
  {
   "cell_type": "code",
   "execution_count": 31,
   "metadata": {},
   "outputs": [
    {
     "output_type": "execute_result",
     "data": {
      "text/plain": [
       "   puissance  cylindree   vitesse  longueur   largeur   hauteur     poids  \\\n",
       "0   0.161787   0.103192  0.400022  0.623001  0.616408 -0.358576  0.385031   \n",
       "1  -1.153733  -1.165365 -1.267090 -1.316651 -1.380565 -0.300807 -1.476333   \n",
       "2  -0.673333  -0.290920 -0.624231 -0.590086 -0.088945  1.514445 -0.145927   \n",
       "3   1.476639   1.252567  1.173541  0.843437  0.488162 -0.433811  0.996365   \n",
       "\n",
       "        C02  \n",
       "0  0.113090  \n",
       "1 -1.004847  \n",
       "2 -0.689531  \n",
       "3  1.418160  "
      ],
      "text/html": "<div>\n<style scoped>\n    .dataframe tbody tr th:only-of-type {\n        vertical-align: middle;\n    }\n\n    .dataframe tbody tr th {\n        vertical-align: top;\n    }\n\n    .dataframe thead th {\n        text-align: right;\n    }\n</style>\n<table border=\"1\" class=\"dataframe\">\n  <thead>\n    <tr style=\"text-align: right;\">\n      <th></th>\n      <th>puissance</th>\n      <th>cylindree</th>\n      <th>vitesse</th>\n      <th>longueur</th>\n      <th>largeur</th>\n      <th>hauteur</th>\n      <th>poids</th>\n      <th>C02</th>\n    </tr>\n  </thead>\n  <tbody>\n    <tr>\n      <th>0</th>\n      <td>0.161787</td>\n      <td>0.103192</td>\n      <td>0.400022</td>\n      <td>0.623001</td>\n      <td>0.616408</td>\n      <td>-0.358576</td>\n      <td>0.385031</td>\n      <td>0.113090</td>\n    </tr>\n    <tr>\n      <th>1</th>\n      <td>-1.153733</td>\n      <td>-1.165365</td>\n      <td>-1.267090</td>\n      <td>-1.316651</td>\n      <td>-1.380565</td>\n      <td>-0.300807</td>\n      <td>-1.476333</td>\n      <td>-1.004847</td>\n    </tr>\n    <tr>\n      <th>2</th>\n      <td>-0.673333</td>\n      <td>-0.290920</td>\n      <td>-0.624231</td>\n      <td>-0.590086</td>\n      <td>-0.088945</td>\n      <td>1.514445</td>\n      <td>-0.145927</td>\n      <td>-0.689531</td>\n    </tr>\n    <tr>\n      <th>3</th>\n      <td>1.476639</td>\n      <td>1.252567</td>\n      <td>1.173541</td>\n      <td>0.843437</td>\n      <td>0.488162</td>\n      <td>-0.433811</td>\n      <td>0.996365</td>\n      <td>1.418160</td>\n    </tr>\n  </tbody>\n</table>\n</div>"
     },
     "metadata": {},
     "execution_count": 31
    }
   ],
   "source": [
    "pd.DataFrame(km.cluster_centers_, columns=data.columns[1:])"
   ]
  },
  {
   "source": [
    "Ainsi on distingue :  \n",
    "- Groupe 0 : citadines. Peu puissante, petite, légère, faible consommation. Exemple : Twingo.\n",
    "- Groupe 1 : voitures \"normales\". Exemple : Laguna.\n",
    "- Groupe 2 : voitures sportives. Puissante, rapide, polluante, plutôt basse. Exemple : BMW530\n",
    "- Groupe 3 : voitures familiales. Haute, peu rapide. Exemple : Berlingo.\n",
    "- Groupe 4 : SUV. Lourde, polluante, puissante. Exemple : C5."
   ],
   "cell_type": "markdown",
   "metadata": {}
  },
  {
   "cell_type": "code",
   "execution_count": 35,
   "metadata": {
    "collapsed": true
   },
   "outputs": [
    {
     "output_type": "execute_result",
     "data": {
      "text/plain": [
       "   puissance  cylindree   vitesse  longueur   largeur   hauteur     poids  \\\n",
       "0  -0.448172  -0.020578  0.721627  0.271746 -0.403739 -0.987860  0.048212   \n",
       "1  -0.105564  -0.014517  0.073853  0.226130  0.145708  0.057853 -0.074109   \n",
       "2  -0.368829   0.023961 -0.007878 -0.514675  0.203505  0.417556  0.073596   \n",
       "3   0.147129   0.006903  0.021886  0.033468  0.000385 -0.009904  0.012345   \n",
       "\n",
       "        C02  \n",
       "0 -0.083239  \n",
       "1 -0.148730  \n",
       "2  0.099272  \n",
       "3  0.137413  "
      ],
      "text/html": "<div>\n<style scoped>\n    .dataframe tbody tr th:only-of-type {\n        vertical-align: middle;\n    }\n\n    .dataframe tbody tr th {\n        vertical-align: top;\n    }\n\n    .dataframe thead th {\n        text-align: right;\n    }\n</style>\n<table border=\"1\" class=\"dataframe\">\n  <thead>\n    <tr style=\"text-align: right;\">\n      <th></th>\n      <th>puissance</th>\n      <th>cylindree</th>\n      <th>vitesse</th>\n      <th>longueur</th>\n      <th>largeur</th>\n      <th>hauteur</th>\n      <th>poids</th>\n      <th>C02</th>\n    </tr>\n  </thead>\n  <tbody>\n    <tr>\n      <th>0</th>\n      <td>-0.448172</td>\n      <td>-0.020578</td>\n      <td>0.721627</td>\n      <td>0.271746</td>\n      <td>-0.403739</td>\n      <td>-0.987860</td>\n      <td>0.048212</td>\n      <td>-0.083239</td>\n    </tr>\n    <tr>\n      <th>1</th>\n      <td>-0.105564</td>\n      <td>-0.014517</td>\n      <td>0.073853</td>\n      <td>0.226130</td>\n      <td>0.145708</td>\n      <td>0.057853</td>\n      <td>-0.074109</td>\n      <td>-0.148730</td>\n    </tr>\n    <tr>\n      <th>2</th>\n      <td>-0.368829</td>\n      <td>0.023961</td>\n      <td>-0.007878</td>\n      <td>-0.514675</td>\n      <td>0.203505</td>\n      <td>0.417556</td>\n      <td>0.073596</td>\n      <td>0.099272</td>\n    </tr>\n    <tr>\n      <th>3</th>\n      <td>0.147129</td>\n      <td>0.006903</td>\n      <td>0.021886</td>\n      <td>0.033468</td>\n      <td>0.000385</td>\n      <td>-0.009904</td>\n      <td>0.012345</td>\n      <td>0.137413</td>\n    </tr>\n  </tbody>\n</table>\n</div>"
     },
     "metadata": {},
     "execution_count": 35
    }
   ],
   "source": []
  },
  {
   "cell_type": "code",
   "execution_count": null,
   "metadata": {},
   "outputs": [],
   "source": []
  }
 ],
 "metadata": {
  "interpreter": {
   "hash": "be9ec4318ce92b231f77995c536a75327776825c4bd4f96a9a5021814809bf6e"
  },
  "kernelspec": {
   "name": "python3",
   "display_name": "Python 3.8.10 64-bit ('notebook-Otwu4MGz-py3.8': poetry)"
  },
  "language_info": {
   "codemirror_mode": {
    "name": "ipython",
    "version": 3
   },
   "file_extension": ".py",
   "mimetype": "text/x-python",
   "name": "python",
   "nbconvert_exporter": "python",
   "pygments_lexer": "ipython3",
   "version": "3.8.10"
  }
 },
 "nbformat": 4,
 "nbformat_minor": 2
}