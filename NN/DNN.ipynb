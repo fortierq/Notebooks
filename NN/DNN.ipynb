{
 "cells": [
  {
   "cell_type": "code",
   "execution_count": 4,
   "metadata": {},
   "outputs": [],
   "source": [
    "import numpy as np\n",
    "import matplotlib.pyplot as plt"
   ]
  },
  {
   "cell_type": "markdown",
   "metadata": {},
   "source": [
    "# Réseau de neurones"
   ]
  },
  {
   "cell_type": "markdown",
   "metadata": {},
   "source": [
    "Si X est un ensemble de données et Y un ensemble d'étiquettes (ou classes) associées à chaque donnée, l'apprentissage automatique a pour objectif d'approximer la fonction (inconnue) qui à une donnée associe son étiquette. Par exemple, X peut être un ensemble d'images (`X[i]` est une image, c'est à dire un rectangle de pixels), et Y peut servir à distinguer les photos de chats (`Y[i]` vaut 1 si `X[i]` représente un chat, 0 sinon). <br>\n",
    "\n",
    "Un réseau de neurones est une façon possible d'approximer cette fonction inconnue, en assemblant un certain nombre de fonctions plus simples selon un réseau (ou graphe orienté). <br>\n",
    "La régression logistique (voir, par exemple: https://github.com/fortierq/ML/blob/master/logistic.ipynb) est un cas particulier de réseau de neurones, avec un seul neurone.\n",
    "\n",
    "Voici un exemple plus intéressant de réseau de neurones:\n",
    "![DNN](img/dnn.png)\n",
    "\n",
    "Le réseau est décomposé en plusieurs **couches** (ici 3): les éléments de la couche $i$ sont indiqués par un exposant $i$. <br>\n",
    "Tous les éléments $x$, $y$, $z$, $w$ contiendront une valeur réelle. <br>\n",
    "L'entrée de ce réseau est une donnée $X$ composée de deux éléments $x_0$ et $x_1$ (les *features*). La sortie est un seul réel $y$. <br>\n",
    "Chaque arête possède un **poids** $w$. Chaque neurone possède de plus un **biais** $b$. <br>\n",
    "Chaque variable $z$ correspond à l'entrée (impulsion) d'un sommet (aussi appelé **neurone**). <br>\n",
    "Chaque $y$ est la sortie (réponse) d'un neurone, qui est fonction du $z$ correspondant. Ici, on utilisera $y = \\sigma(z)$ où $\\sigma(z) = \\frac{1}{1 + e^{-z}}$ est la fonction **sigmoïde**. <br> \n",
    "Remarque: $\\sigma$ est très utilisé en machine learning car elle est différentiable (essentiel pour l'algorithme de backpropagation décrit plus bas) et a ses valeurs entre 0 et 1 (permettant d'interpréter $y$ comme une probabilité). Il existe cependant de nombreuses fonctions d'activations possibles, comme $\\tanh$, relu...<br>\n",
    "On utilisera aussi $\\sigma'$ qui vérifie, après calcul: $\\sigma'(z) = \\sigma(z)(1 - \\sigma(z))$."
   ]
  },
  {
   "cell_type": "code",
   "execution_count": 3,
   "metadata": {},
   "outputs": [],
   "source": [
    "def s(x): # sigmoïde\n",
    "    return 1/(1 + np.exp(-x))\n",
    "def ds(x): # dérivée de la sigmoïde\n",
    "    return s(x)*(1 - s(x))"
   ]
  },
  {
   "cell_type": "markdown",
   "metadata": {},
   "source": [
    "# Forward propagation"
   ]
  },
  {
   "cell_type": "markdown",
   "metadata": {},
   "source": [
    "On calcule $y$ à partir de $x_0$ et $x_1$ (*forward propagation*) couche par couche:\n",
    "- $z_{\\bullet}^0 \\longleftarrow x_0 w_{0, \\bullet}^0 + x_1 w_{0, \\bullet}^0 + b_{\\bullet}^0 ~~~$ (pour $\\bullet = 0, 1$) \n",
    "- $y_{\\bullet}^0 \\longleftarrow \\sigma(z_{\\bullet}^0) ~~~$ (pour $\\bullet = 0, 1$) \n",
    "- $z_{\\bullet}^1 \\longleftarrow y_0^0 w_{0, \\bullet}^1 + y_1^0 w_{0, \\bullet}^1 + b_{\\bullet}^1 ~~~$ (pour $\\bullet = 0, 1$) \n",
    "- $y_{\\bullet}^1 \\longleftarrow \\sigma(z_{\\bullet}^1) ~~~$ (pour $\\bullet = 0, 1$) \n",
    "- ainsi de suite...\n",
    "\n",
    "Implémentons cette *forward propagation*, sous forme matricielle (les calculs sous forme vectoriel sont parallélisables, donc beaucoup plus rapides). <br>\n",
    "Pour cela, notons $W^i$ la matrice des coefficients $w^i$ pour la couche $i$. Par exemple:\n",
    "$$W^0 = \\begin{pmatrix}\n",
    "w_{0, 0}^0 & w_{0, 1}^0\\\\\n",
    "w_{1, 0}^0 & w_{1, 1}^0\n",
    "\\end{pmatrix}$$\n",
    "Dans le cas général, les couches peuvent avoir des tailles différentes $n_0$, $n_1$, ..., $n_l$. $W^i$ est alors de taille $n_i \\times n_{i+1}$. <br>\n",
    "Définissons les vecteurs lignes:\n",
    "$$Y^i = \\begin{pmatrix}\n",
    "y_{0}^i & y_{1}^i & ...\\\\\n",
    "\\end{pmatrix}$$\n",
    "$$Z^i = \\begin{pmatrix}\n",
    "z_{0}^i & z_{1}^i & ...\\\\\n",
    "\\end{pmatrix}$$\n",
    "$$B^i = \\begin{pmatrix}\n",
    "b_{0}^i & b_{1}^i & ...\\\\\n",
    "\\end{pmatrix}$$\n",
    "$$X = \\begin{pmatrix}\n",
    "x_{0} & x_{1} & ...\\\\\n",
    "\\end{pmatrix}$$\n",
    "Remarque: il est possible d'utiliser des vecteurs colonnes, comme c'est le cas dans le cours https://www.coursera.org/specializations/deep-learning, mais l'utilisation de vecteurs lignes me semble simplifier certains passages.\n",
    "\n",
    "La *forward propagation* devient alors:\n",
    "$$Z^i \\longleftarrow Y^{i-1} W^i + B^i$$\n",
    "$$Y^i \\longleftarrow \\sigma(Z^i)$$\n",
    "Pour faciliter l'induction, on pose $Y^{-1} = X$ et $Y^l = Y$. <br>\n",
    "Dans l'implémentation ci-dessous, `L_W`, `L_B`, `L_Z`, `L_Y` contiennent les listes des $W^i$, $B^i$, $Z^i$, $Y^i$, pour les différentes couches. `@` est le produit matriciel."
   ]
  },
  {
   "cell_type": "code",
   "execution_count": 20,
   "metadata": {},
   "outputs": [],
   "source": [
    "def forward(X, L_W, L_B):\n",
    "    L_Z = []\n",
    "    L_Y = [X]\n",
    "    for i in range(len(L_W)):\n",
    "        L_Z.append(L_Y[-1] @ L_W[i] + L_B[i])\n",
    "        L_Y.append(s(L_Z[-1]))\n",
    "    return L_Z, L_Y "
   ]
  },
  {
   "cell_type": "markdown",
   "metadata": {},
   "source": [
    "On peut donc calculer la réponse `y` du réseau de neurone à une donnée `X` comme le dernier élément de `L_Y`:"
   ]
  },
  {
   "cell_type": "code",
   "execution_count": 21,
   "metadata": {},
   "outputs": [],
   "source": [
    "def predict(X, L_W, L_b):\n",
    "    return forward(X, L_W, L_b)[1][-1]"
   ]
  },
  {
   "cell_type": "markdown",
   "metadata": {},
   "source": [
    "Cette réponse, entre 0 et 1, sera interprêté comme la probabilité que X soit de classe 1. Si cette réponse est supérieure à 0.5, on prédira la classe 1 pour X, et la classe 0 sinon."
   ]
  },
  {
   "cell_type": "markdown",
   "metadata": {},
   "source": [
    "# Vectorialisation\n",
    "\n",
    "En pratique, on va vouloir calculer la réponse d'un réseau de neurones à plusieurs données (et même: toutes les données). On pourrait appliquer `forward` plusieurs mais, encore une fois, il est plus efficace de vectorialiser: si les données sont $X_1$, $X_2$, ... (vecteurs lignes), on utilise:\n",
    "$$X = \\begin{pmatrix}\n",
    "- X_1 -\\\\\n",
    "- X_2 -\\\\\n",
    "...\n",
    "\\end{pmatrix}$$\n",
    "Grâce à la magie des tableaux numpy (broadcasting et opérations terme à terme), on peut appliquer la même fonction `forward` à une telle matrice $X$ et obtenir une matrice des réponses $Y_i$ à chaque $X_i$, sous la forme: \n",
    "$$Y = \\begin{pmatrix}\n",
    "- Y_1 -\\\\\n",
    "- Y_2 -\\\\\n",
    "...\n",
    "\\end{pmatrix}$$"
   ]
  },
  {
   "cell_type": "markdown",
   "metadata": {},
   "source": [
    "# Positionnement du problème\n",
    "\n",
    "L'objectif est maintenant de trouver des valeurs pour les coefficients $w$ et $b$ qui permettent de prédire correctement la classe d'une donnée. <br>\n",
    "Exemple: considérons quatres données $(1, 1), (-1, 1), (-1, -1), (1, -1)$ (des points) de classes 1, 0, 1, 0."
   ]
  },
  {
   "cell_type": "code",
   "execution_count": 22,
   "metadata": {},
   "outputs": [
    {
     "data": {
      "text/plain": [
       "<matplotlib.collections.PathCollection at 0x7f21c3723940>"
      ]
     },
     "execution_count": 22,
     "metadata": {},
     "output_type": "execute_result"
    },
    {
     "data": {
      "image/png": "[encoded data removed]",
      "text/plain": [
       "<Figure size 432x288 with 1 Axes>"
      ]
     },
     "metadata": {
      "needs_background": "light"
     },
     "output_type": "display_data"
    }
   ],
   "source": [
    "X = np.array([[1, 1], [-1, 1], [-1, -1], [1, -1]])\n",
    "Y = np.array([[1], [0], [1], [0]]) # vraies classes\n",
    "plt.scatter(X[:, 0], X[:, 1], c = Y, cmap = plt.cm.Spectral, s = 200)"
   ]
  },
  {
   "cell_type": "raw",
   "metadata": {},
   "source": [
    "Essayons dans un premier temps des poids aléatoires (selon une loi normale) pour $w$ et nuls pour $b$:"
   ]
  },
  {
   "cell_type": "code",
   "execution_count": 23,
   "metadata": {},
   "outputs": [],
   "source": [
    "def init(L_sz): # L_sz contient le nombre de neurones de chaque couche\n",
    "    L_W, L_B = [], []\n",
    "    for i in range(len(L_sz) - 1):\n",
    "        L_W.append(np.random.randn(L_sz[i], L_sz[i + 1]))\n",
    "        L_B.append(np.zeros((1, L_sz[i + 1])))\n",
    "    return L_W, L_B"
   ]
  },
  {
   "cell_type": "code",
   "execution_count": 24,
   "metadata": {
    "scrolled": true
   },
   "outputs": [
    {
     "data": {
      "text/plain": [
       "array([[0.38808765],\n",
       "       [0.43755769],\n",
       "       [0.44911844],\n",
       "       [0.39926921]])"
      ]
     },
     "execution_count": 24,
     "metadata": {},
     "output_type": "execute_result"
    }
   ],
   "source": [
    "L_W, L_B = init([2, 2, 1]) # même architecture que celle donnée au début du notebook\n",
    "predict(X, L_W, L_B)"
   ]
  },
  {
   "cell_type": "markdown",
   "metadata": {},
   "source": [
    "Comme les poids ont été choisis aléatoirement, les réponses du réseau de neurones ne sont absolument pas pertinentes."
   ]
  },
  {
   "cell_type": "markdown",
   "metadata": {},
   "source": [
    "# Optimisation"
   ]
  },
  {
   "cell_type": "markdown",
   "metadata": {},
   "source": [
    "L'idée va être de modifier itérativement les valeurs de $w$ et $b$ de façon à améliorer les réponses du réseau de neurones. <br>\n",
    "Pour cela, il faut quantifier l'erreur commise par le réseau de neurones. C'est le rôle de la **fonction de coût** (ou **loss**). <br>\n",
    "Le choix de fonction de coût le plus classique pour les problèmes de classification binaire est la *binary cross-entropy*:"
   ]
  },
  {
   "cell_type": "code",
   "execution_count": 25,
   "metadata": {},
   "outputs": [],
   "source": [
    "def loss(A, Y):\n",
    "    return -np.sum(Y*np.log(A) + (1 - Y)*np.log(1 - A))"
   ]
  },
  {
   "cell_type": "markdown",
   "metadata": {},
   "source": [
    "`A` est la prédiction réalisée et `Y` la vraie réponse. Cette fonction punit une réponse d'autant plus qu'elle est éloignée de la bonne (par exemple, si `Y` vaut 1, `np.log(A)` tend vers $- \\infty$ quand `A` se rapproche de 0)."
   ]
  },
  {
   "cell_type": "code",
   "execution_count": 221,
   "metadata": {},
   "outputs": [],
   "source": [
    "def backprop(L_W, L_b, L_Z, L_Y, Y, alpha = 0.1):\n",
    "    for l in range(len(L_W) - 1, -1, -1):\n",
    "        if l == len(L_W) - 1:\n",
    "            dZ = L_Y[l + 1] - Y\n",
    "        else:\n",
    "            dZ = (dZ @ L_W[l + 1].T) * ds(L_Z[l])\n",
    "        dW = L_Y[l].T @ dZ\n",
    "        db = np.sum(dZ)\n",
    "        L_W[l] -= alpha*dW\n",
    "        L_b[l] -= alpha*db"
   ]
  },
  {
   "cell_type": "code",
   "execution_count": 222,
   "metadata": {},
   "outputs": [],
   "source": [
    "def dnn(X, Y, L_sz, epochs, alpha = 0.1):\n",
    "    L_W, L_b = init(L_sz)\n",
    "    for i in range(epochs):\n",
    "        L_Z, L_Y = forward(X, L_W, L_b)\n",
    "        if i % (epochs//10) == 0:\n",
    "            print(\"Loss (i = \", i, \"): \", loss(L_Y[-1], Y), sep=\"\")\n",
    "            #print(L_Y[-1])\n",
    "        backprop(L_W, L_b, L_Z, L_Y, Y, alpha)\n",
    "    return L_W, L_b"
   ]
  },
  {
   "cell_type": "code",
   "execution_count": 223,
   "metadata": {},
   "outputs": [],
   "source": [
    "X = np.array([[1, 1], [-1, 1], [-1, -1], [1, -1]])\n",
    "Y = np.array([[1], [0], [1], [0]])\n",
    "Y = np.array([[1], [1], [0], [0]])"
   ]
  },
  {
   "cell_type": "code",
   "execution_count": 229,
   "metadata": {},
   "outputs": [
    {
     "data": {
      "text/plain": [
       "array([[-0.02802803, -0.02802803, -0.02802803, -0.02802803]])"
      ]
     },
     "execution_count": 229,
     "metadata": {},
     "output_type": "execute_result"
    }
   ],
   "source": [
    "L_b[0]"
   ]
  },
  {
   "cell_type": "code",
   "execution_count": 225,
   "metadata": {},
   "outputs": [
    {
     "name": "stdout",
     "output_type": "stream",
     "text": [
      "Loss (i = 0): 2.5288529630711647\n",
      "Loss (i = 100): 0.2104032513855601\n",
      "Loss (i = 200): 0.09061780048288606\n",
      "Loss (i = 300): 0.05667822632936005\n",
      "Loss (i = 400): 0.04097913984654773\n",
      "Loss (i = 500): 0.03199319591059269\n",
      "Loss (i = 600): 0.02619255033253182\n",
      "Loss (i = 700): 0.02214645165134443\n",
      "Loss (i = 800): 0.019167184989144718\n",
      "Loss (i = 900): 0.01688396459924287\n"
     ]
    }
   ],
   "source": [
    "L_W, L_b = dnn(X, Y, [2, 4, 1], 1000)"
   ]
  },
  {
   "cell_type": "code",
   "execution_count": 226,
   "metadata": {},
   "outputs": [],
   "source": [
    "n = 1000\n",
    "X = np.random.randn(n, 2)\n",
    "Y = (X[:, :1] * X[:, 1:] > 0).astype(int)"
   ]
  },
  {
   "cell_type": "code",
   "execution_count": 227,
   "metadata": {},
   "outputs": [
    {
     "data": {
      "text/plain": [
       "<matplotlib.collections.PathCollection at 0x7f2e06f424f0>"
      ]
     },
     "execution_count": 227,
     "metadata": {},
     "output_type": "execute_result"
    },
    {
     "data": {
      "image/png": "[encoded data removed]",
      "text/plain": [
       "<Figure size 432x288 with 1 Axes>"
      ]
     },
     "metadata": {
      "needs_background": "light"
     },
     "output_type": "display_data"
    }
   ],
   "source": [
    "plt.scatter(X[:, 0], X[:, 1], c = Y, cmap = plt.cm.Spectral)"
   ]
  },
  {
   "cell_type": "code",
   "execution_count": 228,
   "metadata": {},
   "outputs": [
    {
     "name": "stdout",
     "output_type": "stream",
     "text": [
      "Loss (i = 0): 352.03911320983843\n",
      "Loss (i = 1000): 274.8636456187578\n",
      "Loss (i = 2000): 27.281947095088267\n",
      "Loss (i = 3000): 14.129898231844535\n",
      "Loss (i = 4000): 7.916589752526226\n",
      "Loss (i = 5000): 4.957248734199765\n",
      "Loss (i = 6000): 3.4181225413653387\n",
      "Loss (i = 7000): 2.5222253809185395\n",
      "Loss (i = 8000): 1.9557944119741812\n",
      "Loss (i = 9000): 1.575316566721141\n"
     ]
    }
   ],
   "source": [
    "X_train, X_test = X[:len(X)//2], X[len(X)//2:]\n",
    "Y_train, Y_test = Y[:len(Y)//2], Y[len(Y)//2:]\n",
    "L_W, L_b = dnn(X_train, Y_train, [2, 4, 4, 2, 1], 10000, 0.001)"
   ]
  },
  {
   "cell_type": "code",
   "execution_count": 220,
   "metadata": {},
   "outputs": [
    {
     "name": "stdout",
     "output_type": "stream",
     "text": [
      "[1 0 0 0 1 1 0 0 1 0 0 0 0 0 0 0 1 1 1 0 0 0 1 1 1 0 0 0 1 0 1 0 0 1 1 1 1\n",
      " 1 0 0 1 0 1 0 0 0 0 1 1 0 0 1 0 0 1 0 0 0 1 0 0 0 0 0 1 0 1 1 0 1 0 1 0 1\n",
      " 1 0 1 1 0 0 1 1 1 0 1 1 1 0 0 0 0 1 0 1 0 0 1 0 1 1 1 0 1 1 0 0 0 0 0 1 1\n",
      " 1 0 0 1 0 1 0 1 1 1 0 0 1 0 1 0 0 0 0 0 1 1 0 1 1 1 1 1 0 0 0 1 1 1 1 0 0\n",
      " 0 1 1 1 0 0 0 0 1 0 0 1 0 0 1 1 1 1 0 1 1 0 0 1 0 0 0 1 1 1 1 1 0 0 0 0 1\n",
      " 0 1 0 0 1 1 0 1 0 0 1 0 1 0 1 1 1 0 1 0 1 1 1 1 1 1 0 1 0 1 0 1 1 0 0 0 1\n",
      " 0 0 0 1 1 0 0 1 1 1 0 1 1 0 0 1 1 0 0 1 1 1 1 1 0 0 0 0 0 1 0 1 0 0 1 0 1\n",
      " 1 0 0 1 0 0 1 1 1 1 0 0 1 0 0 0 0 0 1 0 0 1 1 1 1 1 1 1 1 1 1 1 0 0 0 1 1\n",
      " 0 0 1 1 1 0 1 0 1 0 1 1 1 1 0 0 1 0 0 0 1 1 1 1 1 1 0 1 0 1 0 1 1 1 1 1 0\n",
      " 1 0 0 0 0 0 1 1 0 0 1 0 0 0 1 1 1 0 0 1 1 0 1 0 0 1 1 0 0 0 0 0 1 0 1 1 0\n",
      " 0 1 1 1 1 1 1 0 0 0 0 0 0 1 1 0 1 1 0 0 1 0 0 1 1 1 1 0 0 0 1 1 1 1 1 0 1\n",
      " 1 0 1 0 1 1 0 1 0 1 1 1 1 1 0 1 0 0 0 0 0 1 1 0 0 0 0 1 0 1 1 1 1 0 1 0 1\n",
      " 1 1 0 0 1 1 0 0 1 1 1 0 0 1 1 0 0 1 0 0 1 1 0 0 1 0 0 0 0 0 1 1 0 0 0 1 1\n",
      " 0 0 1 1 1 1 0 0 0 1 1 0 0 0 0 0 1 0 0]\n",
      "[1 0 0 0 1 1 0 0 1 0 0 0 0 0 0 0 1 1 1 0 0 0 1 1 1 0 0 0 1 0 1 0 0 1 1 1 1\n",
      " 1 0 0 1 0 1 0 0 0 0 1 1 0 0 1 0 0 1 0 0 0 1 0 0 0 0 0 1 0 1 1 0 1 0 1 0 1\n",
      " 1 0 1 1 0 0 1 1 1 0 1 1 1 0 0 0 0 1 0 1 0 0 0 0 1 1 1 0 1 1 0 0 0 0 0 1 1\n",
      " 1 0 0 1 0 1 0 1 1 1 0 0 1 0 0 0 0 0 0 0 1 1 0 1 1 1 1 1 0 0 0 1 1 1 1 0 0\n",
      " 0 1 0 1 0 0 0 0 1 0 0 1 0 0 1 1 1 1 0 1 1 0 0 1 0 1 0 1 1 1 1 1 0 0 0 0 1\n",
      " 0 1 0 0 1 1 0 1 0 0 1 0 1 0 1 1 1 0 1 0 1 1 1 1 1 1 0 1 0 1 0 1 1 0 0 0 1\n",
      " 0 0 0 1 1 0 0 1 1 0 0 1 1 0 0 1 1 0 0 1 1 1 1 1 0 0 0 1 0 1 0 1 0 0 1 0 1\n",
      " 1 0 0 1 0 0 1 1 1 1 0 0 1 0 0 0 0 0 1 1 0 1 1 1 1 1 1 1 1 1 1 1 0 0 0 1 1\n",
      " 0 0 1 1 1 0 1 0 1 0 1 1 1 1 0 0 1 0 0 0 1 1 1 1 1 1 0 1 0 1 0 1 1 1 1 1 0\n",
      " 1 0 0 0 0 0 1 1 0 0 1 0 0 0 1 1 1 0 0 1 1 0 1 0 0 1 1 0 1 0 0 0 1 0 1 1 0\n",
      " 0 1 1 1 1 1 1 0 0 0 0 0 0 1 1 0 0 1 0 0 1 0 0 1 1 1 1 0 0 0 1 1 1 1 1 0 1\n",
      " 1 0 1 0 1 1 0 1 0 1 1 1 1 1 0 1 0 0 0 0 0 1 1 0 0 0 0 1 0 1 1 1 1 0 1 0 1\n",
      " 1 1 0 0 1 1 0 0 1 1 1 0 0 1 1 0 0 0 0 0 1 1 0 0 1 0 0 0 0 0 1 1 0 0 0 1 1\n",
      " 0 1 1 1 1 1 0 0 0 1 1 0 0 0 0 0 1 0 0]\n",
      "Accuracy:  0.978\n"
     ]
    }
   ],
   "source": [
    "Y_pred = np.int64(np.round(predict(X_test, L_W, L_b)).flatten())\n",
    "Y_test_flat = Y_test.flatten()\n",
    "print(Y_pred)\n",
    "print(Y_test_flat)\n",
    "print(\"Accuracy: \", np.sum(Y_pred == Y_test_flat)/len(Y_pred))"
   ]
  }
 ],
 "metadata": {
  "kernelspec": {
   "display_name": "Python 3",
   "language": "python",
   "name": "python3"
  },
  "language_info": {
   "codemirror_mode": {
    "name": "ipython",
    "version": 3
   },
   "file_extension": ".py",
   "mimetype": "text/x-python",
   "name": "python",
   "nbconvert_exporter": "python",
   "pygments_lexer": "ipython3",
   "version": "3.8.3"
  }
 },
 "nbformat": 4,
 "nbformat_minor": 4
}
